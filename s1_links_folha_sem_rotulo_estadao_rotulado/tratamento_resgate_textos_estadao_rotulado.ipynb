{
 "cells": [
  {
   "cell_type": "code",
   "execution_count": 1,
   "id": "592842d2",
   "metadata": {
    "id": "57b7d6da-9d11-4922-84ca-b0261899a7f9"
   },
   "outputs": [],
   "source": [
    "import pandas as pd\n",
    "import numpy as np\n",
    "import urllib\n",
    "import requests\n",
    "from bs4 import BeautifulSoup\n",
    "import os\n",
    "from time import sleep\n",
    "from urllib.request import Request, urlopen\n",
    "from urllib.error import URLError, HTTPError"
   ]
  },
  {
   "cell_type": "code",
   "execution_count": 2,
   "id": "264d5884",
   "metadata": {
    "id": "594aeb9b-d319-46f1-939b-17d628f2ed7b",
    "outputId": "793d8634-1737-4774-8041-3495148aa69b"
   },
   "outputs": [
    {
     "data": {
      "text/plain": [
       "(70, 3)"
      ]
     },
     "execution_count": 2,
     "metadata": {},
     "output_type": "execute_result"
    }
   ],
   "source": [
    "df = pd.read_csv(\"links_estadao_rotulados.csv\")\n",
    "df.shape\n"
   ]
  },
  {
   "cell_type": "code",
   "execution_count": 3,
   "id": "15aa2de5",
   "metadata": {},
   "outputs": [
    {
     "data": {
      "text/html": [
       "<div>\n",
       "<style scoped>\n",
       "    .dataframe tbody tr th:only-of-type {\n",
       "        vertical-align: middle;\n",
       "    }\n",
       "\n",
       "    .dataframe tbody tr th {\n",
       "        vertical-align: top;\n",
       "    }\n",
       "\n",
       "    .dataframe thead th {\n",
       "        text-align: right;\n",
       "    }\n",
       "</style>\n",
       "<table border=\"1\" class=\"dataframe\">\n",
       "  <thead>\n",
       "    <tr style=\"text-align: right;\">\n",
       "      <th></th>\n",
       "      <th>link</th>\n",
       "      <th>metaforico</th>\n",
       "      <th>indice_noticia</th>\n",
       "    </tr>\n",
       "  </thead>\n",
       "  <tbody>\n",
       "    <tr>\n",
       "      <th>0</th>\n",
       "      <td>https://opiniao.estadao.com.br/noticias/artigo...</td>\n",
       "      <td>1</td>\n",
       "      <td>0</td>\n",
       "    </tr>\n",
       "    <tr>\n",
       "      <th>1</th>\n",
       "      <td>https://opiniao.estadao.com.br/noticias/artigo...</td>\n",
       "      <td>1</td>\n",
       "      <td>1</td>\n",
       "    </tr>\n",
       "    <tr>\n",
       "      <th>2</th>\n",
       "      <td>https://opiniao.estadao.com.br/noticias/espaco...</td>\n",
       "      <td>1</td>\n",
       "      <td>2</td>\n",
       "    </tr>\n",
       "    <tr>\n",
       "      <th>3</th>\n",
       "      <td>https://cultura.estadao.com.br/noticias/litera...</td>\n",
       "      <td>1</td>\n",
       "      <td>3</td>\n",
       "    </tr>\n",
       "    <tr>\n",
       "      <th>4</th>\n",
       "      <td>https://cultura.estadao.com.br/noticias/geral,...</td>\n",
       "      <td>1</td>\n",
       "      <td>4</td>\n",
       "    </tr>\n",
       "  </tbody>\n",
       "</table>\n",
       "</div>"
      ],
      "text/plain": [
       "                                                link  metaforico  \\\n",
       "0  https://opiniao.estadao.com.br/noticias/artigo...           1   \n",
       "1  https://opiniao.estadao.com.br/noticias/artigo...           1   \n",
       "2  https://opiniao.estadao.com.br/noticias/espaco...           1   \n",
       "3  https://cultura.estadao.com.br/noticias/litera...           1   \n",
       "4  https://cultura.estadao.com.br/noticias/geral,...           1   \n",
       "\n",
       "   indice_noticia  \n",
       "0               0  \n",
       "1               1  \n",
       "2               2  \n",
       "3               3  \n",
       "4               4  "
      ]
     },
     "execution_count": 3,
     "metadata": {},
     "output_type": "execute_result"
    }
   ],
   "source": [
    "df.head()"
   ]
  },
  {
   "cell_type": "code",
   "execution_count": 4,
   "id": "c3afe71b",
   "metadata": {
    "id": "3b9d1a76-ad92-49a2-bb3c-d19c80508bf0"
   },
   "outputs": [],
   "source": [
    "import spacy\n",
    "nlp = spacy.load(\"pt_core_news_sm\")"
   ]
  },
  {
   "cell_type": "code",
   "execution_count": 5,
   "id": "ab6a8b25",
   "metadata": {},
   "outputs": [],
   "source": [
    "import random \n",
    "tempo = random.randint(1, 5)"
   ]
  },
  {
   "cell_type": "code",
   "execution_count": 6,
   "id": "8583b834",
   "metadata": {},
   "outputs": [],
   "source": [
    "import time"
   ]
  },
  {
   "cell_type": "code",
   "execution_count": 11,
   "id": "72c71488",
   "metadata": {
    "id": "15d797c0-18b3-455f-95ac-488546cba0b8"
   },
   "outputs": [],
   "source": [
    "def limpa_paragrafos(link, tamanho):\n",
    "    \n",
    "    headers = {\"User-Agent\": \"Mozilla/5.0 (Windows NT 10.0; Win64; x64) AppleWebKit/537.36 (KHTML, like Gecko) Chrome/91.0.4472.77 Safari/537.36\"}\n",
    "    try:\n",
    "        req = Request(link, headers = headers)\n",
    "        response = urlopen(req)\n",
    "       \n",
    "    except HTTPError as e: # erro de segurança do site, pode ser necessário usar user-Agent\n",
    "        print(e.status, e.reason)\n",
    "\n",
    "    except URLError as e:\n",
    "        print(e.reason)\n",
    "    \n",
    "#     html = urllib.request.urlopen(link).read()\n",
    "    html = response.read()\n",
    "    soup = BeautifulSoup(html)\n",
    "\n",
    "    for script in soup([\"script\", \"style\"]):\n",
    "        script.decompose()\n",
    "\n",
    "    lista = []\n",
    "    for i in soup.stripped_strings:\n",
    "        lista.append(i)\n",
    "    \n",
    "#     print(lista)\n",
    "\n",
    "    miolo = []\n",
    "    for i in lista:\n",
    "        if len(i) > tamanho:\n",
    "            miolo.append(i.replace('\\r\\n',''))\n",
    "#             print(miolo)\n",
    "\n",
    "    paragrafos = []\n",
    "    for i in range(len(miolo)):\n",
    "        if ('esquizo' in miolo[i]) or ('Esquizo' in miolo[i]):\n",
    "            paragrafos.append(miolo[i])\n",
    "    \n",
    "    tempo = random.randint(1, 5)\n",
    "\n",
    "    time.sleep(tempo)\n",
    "    \n",
    "#     for i in range(len(paragrafos)):\n",
    "#         lista_final = []\n",
    "#         doc = nlp(paragrafos[i].lower())\n",
    "#         for token in doc:\n",
    "#             valido = not token.is_stop and token.is_alpha\n",
    "# #             valido = token.is_stop\n",
    "#             if valido:\n",
    "#                 lista_final.append(token.text)\n",
    "    \n",
    "#         limpo = ' '.join(lista_final)\n",
    "#         paragrafos[i] = limpo\n",
    "#         time.sleep(1)\n",
    "\n",
    "    return paragrafos"
   ]
  },
  {
   "cell_type": "code",
   "execution_count": 17,
   "id": "22b7e3a4",
   "metadata": {
    "id": "236b1f16-a1c1-4c2e-893b-d874847a7659",
    "outputId": "b956449f-43ec-4171-9a32-384765043415"
   },
   "outputs": [
    {
     "data": {
      "text/plain": [
       "'https://cultura.estadao.com.br/noticias/literatura,em-novo-livro-simon-schwartzman-articula-memorias-e-busca-novos-caminhos-para-o-brasil,70003644612'"
      ]
     },
     "execution_count": 17,
     "metadata": {},
     "output_type": "execute_result"
    }
   ],
   "source": [
    "link = df.link.values[3]\n",
    "link"
   ]
  },
  {
   "cell_type": "code",
   "execution_count": 18,
   "id": "233bc174",
   "metadata": {
    "id": "99dbca83-f9e8-434b-a886-400a58441995"
   },
   "outputs": [],
   "source": [
    "paragrafos = limpa_paragrafos(link, 120)"
   ]
  },
  {
   "cell_type": "code",
   "execution_count": 19,
   "id": "67f80503",
   "metadata": {
    "id": "89eedadf-f34d-476e-8d16-6b4045a15650",
    "outputId": "2ecd2f6d-b03d-49d3-97e4-701dba034b0a"
   },
   "outputs": [
    {
     "data": {
      "text/plain": [
       "'[\\'\"Durante meus dois anos\\\\xa0em Berkeley, não\\\\xa0conheci um\\\\xa0americano sequer que pertencesse ao Partido Republicano.\\\\xa0Mas Ronald Reagan foi eleito governador da Califórnia em 1967,\\\\xa0e é dele a assinatura que tenho em meu diploma de doutorado,\\\\xa0como presidente do Conselho de Regentes da Universidade. Em\\\\xa01968, acompanhei pela televisão, horrorizado, as notícias sobre os\\\\xa0assassinatos de Martin Luther King e Robert Kennedy (...). No fim de 1968, estava tudo pronto para voltarmos ao Brasil,\\\\xa0onde eu deveria me integrar ao Departamento de Ciência Política\\\\xa0da UFMG e redigir minha tese. Foi quando o governo brasileiro\\\\xa0decretou o AI-5, interrompendo o que parecia ser um processo\\\\xa0de melhora do clima político no Brasil. A repressão recrudesceu\\\\xa0e fiquei sem saber o que fazer. Apter sugeriu que eu permanecesse por mais tempo em Berkeley, mas Carmen e eu acabamos\\\\xa0tomando uma decisão esquizofrênica: despachamos o contêiner\\\\xa0com nossa mudança para Buenos Aires e tomamos o avião para\\\\xa0o Brasil, a caminho de Belo Horizonte, com Michel, nosso filho\\\\xa0recém-nascido, no colo.”\\']'"
      ]
     },
     "execution_count": 19,
     "metadata": {},
     "output_type": "execute_result"
    }
   ],
   "source": [
    "str(paragrafos)"
   ]
  },
  {
   "cell_type": "code",
   "execution_count": 20,
   "id": "7c6014e2",
   "metadata": {},
   "outputs": [
    {
     "data": {
      "text/plain": [
       "'https://opiniao.estadao.com.br/noticias/artigos-dos-leitores,forum-dos-leitores,70003681598'"
      ]
     },
     "execution_count": 20,
     "metadata": {},
     "output_type": "execute_result"
    }
   ],
   "source": [
    "df.link.iloc[1]"
   ]
  },
  {
   "cell_type": "code",
   "execution_count": 21,
   "id": "3fb59a9c",
   "metadata": {},
   "outputs": [
    {
     "data": {
      "text/plain": [
       "70"
      ]
     },
     "execution_count": 21,
     "metadata": {},
     "output_type": "execute_result"
    }
   ],
   "source": [
    "n_links = df.shape[0]\n",
    "n_links"
   ]
  },
  {
   "cell_type": "code",
   "execution_count": 23,
   "id": "f9ad1a3b",
   "metadata": {},
   "outputs": [
    {
     "name": "stdout",
     "output_type": "stream",
     "text": [
      "Processando 0 de 70.\n",
      "Processando 1 de 70.\n",
      "Processando 2 de 70.\n",
      "Processando 3 de 70.\n",
      "Processando 4 de 70.\n",
      "Processando 5 de 70.\n",
      "Processando 6 de 70.\n",
      "Processando 7 de 70.\n",
      "Processando 8 de 70.\n",
      "Processando 9 de 70.\n",
      "Processando 10 de 70.\n",
      "Processando 11 de 70.\n",
      "Processando 12 de 70.\n",
      "Processando 13 de 70.\n",
      "Processando 14 de 70.\n",
      "Processando 15 de 70.\n",
      "Processando 16 de 70.\n",
      "Processando 17 de 70.\n",
      "Processando 18 de 70.\n",
      "Processando 19 de 70.\n",
      "Processando 20 de 70.\n",
      "Processando 21 de 70.\n",
      "Processando 22 de 70.\n",
      "Processando 23 de 70.\n",
      "Processando 24 de 70.\n",
      "Processando 25 de 70.\n",
      "Processando 26 de 70.\n",
      "Processando 27 de 70.\n",
      "Processando 28 de 70.\n",
      "Processando 29 de 70.\n",
      "Processando 30 de 70.\n",
      "Processando 31 de 70.\n",
      "Processando 32 de 70.\n",
      "Processando 33 de 70.\n",
      "Processando 34 de 70.\n",
      "Processando 35 de 70.\n",
      "Processando 36 de 70.\n",
      "Processando 37 de 70.\n",
      "Processando 38 de 70.\n",
      "Processando 39 de 70.\n",
      "Processando 40 de 70.\n",
      "Processando 41 de 70.\n",
      "Processando 42 de 70.\n",
      "Processando 43 de 70.\n",
      "Processando 44 de 70.\n",
      "Processando 45 de 70.\n",
      "Processando 46 de 70.\n",
      "Processando 47 de 70.\n",
      "Processando 48 de 70.\n",
      "Processando 49 de 70.\n",
      "Processando 50 de 70.\n",
      "Processando 51 de 70.\n",
      "Processando 52 de 70.\n",
      "Processando 53 de 70.\n",
      "Processando 54 de 70.\n",
      "Processando 55 de 70.\n",
      "Processando 56 de 70.\n",
      "Processando 57 de 70.\n",
      "Processando 58 de 70.\n",
      "Processando 59 de 70.\n",
      "Processando 60 de 70.\n",
      "Processando 61 de 70.\n",
      "Processando 62 de 70.\n",
      "Processando 63 de 70.\n",
      "Processando 64 de 70.\n",
      "Processando 65 de 70.\n",
      "Processando 66 de 70.\n",
      "Processando 67 de 70.\n",
      "Processando 68 de 70.\n",
      "Processando 69 de 70.\n"
     ]
    }
   ],
   "source": [
    "for i in range(n_links):\n",
    "\n",
    "    print(f\"Processando {i} de {n_links}.\")\n",
    "\n",
    "    link = df.link.iloc[i]\n",
    "    paragrafos = limpa_paragrafos(link, 80)\n",
    "    df.loc[i, \"paragrafos_resgatados\"] = str(paragrafos)"
   ]
  },
  {
   "cell_type": "code",
   "execution_count": 24,
   "id": "2aa6af30",
   "metadata": {},
   "outputs": [
    {
     "data": {
      "text/html": [
       "<div>\n",
       "<style scoped>\n",
       "    .dataframe tbody tr th:only-of-type {\n",
       "        vertical-align: middle;\n",
       "    }\n",
       "\n",
       "    .dataframe tbody tr th {\n",
       "        vertical-align: top;\n",
       "    }\n",
       "\n",
       "    .dataframe thead th {\n",
       "        text-align: right;\n",
       "    }\n",
       "</style>\n",
       "<table border=\"1\" class=\"dataframe\">\n",
       "  <thead>\n",
       "    <tr style=\"text-align: right;\">\n",
       "      <th></th>\n",
       "      <th>link</th>\n",
       "      <th>metaforico</th>\n",
       "      <th>indice_noticia</th>\n",
       "      <th>paragrafos_resgatados</th>\n",
       "    </tr>\n",
       "  </thead>\n",
       "  <tbody>\n",
       "    <tr>\n",
       "      <th>0</th>\n",
       "      <td>https://opiniao.estadao.com.br/noticias/artigo...</td>\n",
       "      <td>1</td>\n",
       "      <td>0</td>\n",
       "      <td>['Nunca tivemos lideranças governamentais tão ...</td>\n",
       "    </tr>\n",
       "    <tr>\n",
       "      <th>1</th>\n",
       "      <td>https://opiniao.estadao.com.br/noticias/artigo...</td>\n",
       "      <td>1</td>\n",
       "      <td>1</td>\n",
       "      <td>['(13/4, A3) faz correta análise da deplorável...</td>\n",
       "    </tr>\n",
       "    <tr>\n",
       "      <th>2</th>\n",
       "      <td>https://opiniao.estadao.com.br/noticias/espaco...</td>\n",
       "      <td>1</td>\n",
       "      <td>2</td>\n",
       "      <td>['A esquizofrenia se faz presente no governo: ...</td>\n",
       "    </tr>\n",
       "    <tr>\n",
       "      <th>3</th>\n",
       "      <td>https://cultura.estadao.com.br/noticias/litera...</td>\n",
       "      <td>1</td>\n",
       "      <td>3</td>\n",
       "      <td>['\"Durante meus dois anos\\xa0em Berkeley, não\\...</td>\n",
       "    </tr>\n",
       "    <tr>\n",
       "      <th>4</th>\n",
       "      <td>https://cultura.estadao.com.br/noticias/geral,...</td>\n",
       "      <td>1</td>\n",
       "      <td>4</td>\n",
       "      <td>['Contra elas, usamos as teias invisíveis da c...</td>\n",
       "    </tr>\n",
       "    <tr>\n",
       "      <th>...</th>\n",
       "      <td>...</td>\n",
       "      <td>...</td>\n",
       "      <td>...</td>\n",
       "      <td>...</td>\n",
       "    </tr>\n",
       "    <tr>\n",
       "      <th>65</th>\n",
       "      <td>https://saude.estadao.com.br/noticias/geral,ma...</td>\n",
       "      <td>0</td>\n",
       "      <td>65</td>\n",
       "      <td>['Clarisse já fez oito visitas ao filho nos úl...</td>\n",
       "    </tr>\n",
       "    <tr>\n",
       "      <th>66</th>\n",
       "      <td>https://saude.estadao.com.br/noticias/geral,a-...</td>\n",
       "      <td>0</td>\n",
       "      <td>66</td>\n",
       "      <td>['O canabidiol (CBD) é um dos 400 componentes ...</td>\n",
       "    </tr>\n",
       "    <tr>\n",
       "      <th>67</th>\n",
       "      <td>https://saude.estadao.com.br/blogs/pilulas/ser...</td>\n",
       "      <td>0</td>\n",
       "      <td>67</td>\n",
       "      <td>['Filhos de homens que se tornaram pais aos 45...</td>\n",
       "    </tr>\n",
       "    <tr>\n",
       "      <th>68</th>\n",
       "      <td>https://saude.estadao.com.br/noticias/geral,ha...</td>\n",
       "      <td>0</td>\n",
       "      <td>68</td>\n",
       "      <td>[\"Cem anos após ser citada pela primeira vez, ...</td>\n",
       "    </tr>\n",
       "    <tr>\n",
       "      <th>69</th>\n",
       "      <td>https://saude.estadao.com.br/noticias/geral,fo...</td>\n",
       "      <td>0</td>\n",
       "      <td>69</td>\n",
       "      <td>['Os adolescentes que tinham uma força muscula...</td>\n",
       "    </tr>\n",
       "  </tbody>\n",
       "</table>\n",
       "<p>70 rows × 4 columns</p>\n",
       "</div>"
      ],
      "text/plain": [
       "                                                 link  metaforico  \\\n",
       "0   https://opiniao.estadao.com.br/noticias/artigo...           1   \n",
       "1   https://opiniao.estadao.com.br/noticias/artigo...           1   \n",
       "2   https://opiniao.estadao.com.br/noticias/espaco...           1   \n",
       "3   https://cultura.estadao.com.br/noticias/litera...           1   \n",
       "4   https://cultura.estadao.com.br/noticias/geral,...           1   \n",
       "..                                                ...         ...   \n",
       "65  https://saude.estadao.com.br/noticias/geral,ma...           0   \n",
       "66  https://saude.estadao.com.br/noticias/geral,a-...           0   \n",
       "67  https://saude.estadao.com.br/blogs/pilulas/ser...           0   \n",
       "68  https://saude.estadao.com.br/noticias/geral,ha...           0   \n",
       "69  https://saude.estadao.com.br/noticias/geral,fo...           0   \n",
       "\n",
       "    indice_noticia                              paragrafos_resgatados  \n",
       "0                0  ['Nunca tivemos lideranças governamentais tão ...  \n",
       "1                1  ['(13/4, A3) faz correta análise da deplorável...  \n",
       "2                2  ['A esquizofrenia se faz presente no governo: ...  \n",
       "3                3  ['\"Durante meus dois anos\\xa0em Berkeley, não\\...  \n",
       "4                4  ['Contra elas, usamos as teias invisíveis da c...  \n",
       "..             ...                                                ...  \n",
       "65              65  ['Clarisse já fez oito visitas ao filho nos úl...  \n",
       "66              66  ['O canabidiol (CBD) é um dos 400 componentes ...  \n",
       "67              67  ['Filhos de homens que se tornaram pais aos 45...  \n",
       "68              68  [\"Cem anos após ser citada pela primeira vez, ...  \n",
       "69              69  ['Os adolescentes que tinham uma força muscula...  \n",
       "\n",
       "[70 rows x 4 columns]"
      ]
     },
     "execution_count": 24,
     "metadata": {},
     "output_type": "execute_result"
    }
   ],
   "source": [
    "df"
   ]
  },
  {
   "cell_type": "code",
   "execution_count": 25,
   "id": "889b7dbe",
   "metadata": {},
   "outputs": [
    {
     "data": {
      "text/html": [
       "<div>\n",
       "<style scoped>\n",
       "    .dataframe tbody tr th:only-of-type {\n",
       "        vertical-align: middle;\n",
       "    }\n",
       "\n",
       "    .dataframe tbody tr th {\n",
       "        vertical-align: top;\n",
       "    }\n",
       "\n",
       "    .dataframe thead th {\n",
       "        text-align: right;\n",
       "    }\n",
       "</style>\n",
       "<table border=\"1\" class=\"dataframe\">\n",
       "  <thead>\n",
       "    <tr style=\"text-align: right;\">\n",
       "      <th></th>\n",
       "      <th>link</th>\n",
       "      <th>metaforico</th>\n",
       "      <th>indice_noticia</th>\n",
       "      <th>paragrafos_resgatados</th>\n",
       "    </tr>\n",
       "  </thead>\n",
       "  <tbody>\n",
       "    <tr>\n",
       "      <th>0</th>\n",
       "      <td>https://opiniao.estadao.com.br/noticias/artigo...</td>\n",
       "      <td>1</td>\n",
       "      <td>0</td>\n",
       "      <td>['Nunca tivemos lideranças governamentais tão ...</td>\n",
       "    </tr>\n",
       "    <tr>\n",
       "      <th>1</th>\n",
       "      <td>https://opiniao.estadao.com.br/noticias/artigo...</td>\n",
       "      <td>1</td>\n",
       "      <td>1</td>\n",
       "      <td>['(13/4, A3) faz correta análise da deplorável...</td>\n",
       "    </tr>\n",
       "    <tr>\n",
       "      <th>2</th>\n",
       "      <td>https://opiniao.estadao.com.br/noticias/espaco...</td>\n",
       "      <td>1</td>\n",
       "      <td>2</td>\n",
       "      <td>['A esquizofrenia se faz presente no governo: ...</td>\n",
       "    </tr>\n",
       "    <tr>\n",
       "      <th>3</th>\n",
       "      <td>https://cultura.estadao.com.br/noticias/litera...</td>\n",
       "      <td>1</td>\n",
       "      <td>3</td>\n",
       "      <td>['\"Durante meus dois anos\\xa0em Berkeley, não\\...</td>\n",
       "    </tr>\n",
       "    <tr>\n",
       "      <th>4</th>\n",
       "      <td>https://cultura.estadao.com.br/noticias/geral,...</td>\n",
       "      <td>1</td>\n",
       "      <td>4</td>\n",
       "      <td>['Contra elas, usamos as teias invisíveis da c...</td>\n",
       "    </tr>\n",
       "    <tr>\n",
       "      <th>...</th>\n",
       "      <td>...</td>\n",
       "      <td>...</td>\n",
       "      <td>...</td>\n",
       "      <td>...</td>\n",
       "    </tr>\n",
       "    <tr>\n",
       "      <th>65</th>\n",
       "      <td>https://saude.estadao.com.br/noticias/geral,ma...</td>\n",
       "      <td>0</td>\n",
       "      <td>65</td>\n",
       "      <td>['Clarisse já fez oito visitas ao filho nos úl...</td>\n",
       "    </tr>\n",
       "    <tr>\n",
       "      <th>66</th>\n",
       "      <td>https://saude.estadao.com.br/noticias/geral,a-...</td>\n",
       "      <td>0</td>\n",
       "      <td>66</td>\n",
       "      <td>['O canabidiol (CBD) é um dos 400 componentes ...</td>\n",
       "    </tr>\n",
       "    <tr>\n",
       "      <th>67</th>\n",
       "      <td>https://saude.estadao.com.br/blogs/pilulas/ser...</td>\n",
       "      <td>0</td>\n",
       "      <td>67</td>\n",
       "      <td>['Filhos de homens que se tornaram pais aos 45...</td>\n",
       "    </tr>\n",
       "    <tr>\n",
       "      <th>68</th>\n",
       "      <td>https://saude.estadao.com.br/noticias/geral,ha...</td>\n",
       "      <td>0</td>\n",
       "      <td>68</td>\n",
       "      <td>[\"Cem anos após ser citada pela primeira vez, ...</td>\n",
       "    </tr>\n",
       "    <tr>\n",
       "      <th>69</th>\n",
       "      <td>https://saude.estadao.com.br/noticias/geral,fo...</td>\n",
       "      <td>0</td>\n",
       "      <td>69</td>\n",
       "      <td>['Os adolescentes que tinham uma força muscula...</td>\n",
       "    </tr>\n",
       "  </tbody>\n",
       "</table>\n",
       "<p>62 rows × 4 columns</p>\n",
       "</div>"
      ],
      "text/plain": [
       "                                                 link  metaforico  \\\n",
       "0   https://opiniao.estadao.com.br/noticias/artigo...           1   \n",
       "1   https://opiniao.estadao.com.br/noticias/artigo...           1   \n",
       "2   https://opiniao.estadao.com.br/noticias/espaco...           1   \n",
       "3   https://cultura.estadao.com.br/noticias/litera...           1   \n",
       "4   https://cultura.estadao.com.br/noticias/geral,...           1   \n",
       "..                                                ...         ...   \n",
       "65  https://saude.estadao.com.br/noticias/geral,ma...           0   \n",
       "66  https://saude.estadao.com.br/noticias/geral,a-...           0   \n",
       "67  https://saude.estadao.com.br/blogs/pilulas/ser...           0   \n",
       "68  https://saude.estadao.com.br/noticias/geral,ha...           0   \n",
       "69  https://saude.estadao.com.br/noticias/geral,fo...           0   \n",
       "\n",
       "    indice_noticia                              paragrafos_resgatados  \n",
       "0                0  ['Nunca tivemos lideranças governamentais tão ...  \n",
       "1                1  ['(13/4, A3) faz correta análise da deplorável...  \n",
       "2                2  ['A esquizofrenia se faz presente no governo: ...  \n",
       "3                3  ['\"Durante meus dois anos\\xa0em Berkeley, não\\...  \n",
       "4                4  ['Contra elas, usamos as teias invisíveis da c...  \n",
       "..             ...                                                ...  \n",
       "65              65  ['Clarisse já fez oito visitas ao filho nos úl...  \n",
       "66              66  ['O canabidiol (CBD) é um dos 400 componentes ...  \n",
       "67              67  ['Filhos de homens que se tornaram pais aos 45...  \n",
       "68              68  [\"Cem anos após ser citada pela primeira vez, ...  \n",
       "69              69  ['Os adolescentes que tinham uma força muscula...  \n",
       "\n",
       "[62 rows x 4 columns]"
      ]
     },
     "execution_count": 25,
     "metadata": {},
     "output_type": "execute_result"
    }
   ],
   "source": [
    "df_pronto = df.query(\"paragrafos_resgatados != '[]'\")\n",
    "df_pronto"
   ]
  },
  {
   "cell_type": "code",
   "execution_count": 29,
   "id": "5ceb17d6",
   "metadata": {},
   "outputs": [],
   "source": [
    "df_pronto.to_csv(\"links_estadao_rotulados_resgatados.csv\", index = False)"
   ]
  },
  {
   "cell_type": "code",
   "execution_count": 30,
   "id": "d74f4e27",
   "metadata": {},
   "outputs": [
    {
     "data": {
      "text/html": [
       "<div>\n",
       "<style scoped>\n",
       "    .dataframe tbody tr th:only-of-type {\n",
       "        vertical-align: middle;\n",
       "    }\n",
       "\n",
       "    .dataframe tbody tr th {\n",
       "        vertical-align: top;\n",
       "    }\n",
       "\n",
       "    .dataframe thead th {\n",
       "        text-align: right;\n",
       "    }\n",
       "</style>\n",
       "<table border=\"1\" class=\"dataframe\">\n",
       "  <thead>\n",
       "    <tr style=\"text-align: right;\">\n",
       "      <th></th>\n",
       "      <th>link</th>\n",
       "      <th>metaforico</th>\n",
       "      <th>indice_noticia</th>\n",
       "      <th>paragrafos_resgatados</th>\n",
       "    </tr>\n",
       "  </thead>\n",
       "  <tbody>\n",
       "    <tr>\n",
       "      <th>10</th>\n",
       "      <td>https://cultura.estadao.com.br/noticias/geral,...</td>\n",
       "      <td>1</td>\n",
       "      <td>10</td>\n",
       "      <td>[]</td>\n",
       "    </tr>\n",
       "    <tr>\n",
       "      <th>13</th>\n",
       "      <td>https://cultura.estadao.com.br/blogs/estado-da...</td>\n",
       "      <td>1</td>\n",
       "      <td>13</td>\n",
       "      <td>[]</td>\n",
       "    </tr>\n",
       "    <tr>\n",
       "      <th>19</th>\n",
       "      <td>https://eldorado.estadao.com.br/audios/program...</td>\n",
       "      <td>1</td>\n",
       "      <td>19</td>\n",
       "      <td>[]</td>\n",
       "    </tr>\n",
       "    <tr>\n",
       "      <th>27</th>\n",
       "      <td>https://politica.estadao.com.br/blogs/fausto-m...</td>\n",
       "      <td>1</td>\n",
       "      <td>27</td>\n",
       "      <td>[]</td>\n",
       "    </tr>\n",
       "    <tr>\n",
       "      <th>39</th>\n",
       "      <td>https://cultura.estadao.com.br/blogs/estado-da...</td>\n",
       "      <td>0</td>\n",
       "      <td>39</td>\n",
       "      <td>[]</td>\n",
       "    </tr>\n",
       "    <tr>\n",
       "      <th>40</th>\n",
       "      <td>https://cultura.estadao.com.br/blogs/estado-da...</td>\n",
       "      <td>0</td>\n",
       "      <td>40</td>\n",
       "      <td>[]</td>\n",
       "    </tr>\n",
       "    <tr>\n",
       "      <th>42</th>\n",
       "      <td>https://internacional.estadao.com.br/noticias/...</td>\n",
       "      <td>0</td>\n",
       "      <td>42</td>\n",
       "      <td>[]</td>\n",
       "    </tr>\n",
       "    <tr>\n",
       "      <th>59</th>\n",
       "      <td>https://ciencia.estadao.com.br/fotos/geral,gen...</td>\n",
       "      <td>0</td>\n",
       "      <td>59</td>\n",
       "      <td>[]</td>\n",
       "    </tr>\n",
       "  </tbody>\n",
       "</table>\n",
       "</div>"
      ],
      "text/plain": [
       "                                                 link  metaforico  \\\n",
       "10  https://cultura.estadao.com.br/noticias/geral,...           1   \n",
       "13  https://cultura.estadao.com.br/blogs/estado-da...           1   \n",
       "19  https://eldorado.estadao.com.br/audios/program...           1   \n",
       "27  https://politica.estadao.com.br/blogs/fausto-m...           1   \n",
       "39  https://cultura.estadao.com.br/blogs/estado-da...           0   \n",
       "40  https://cultura.estadao.com.br/blogs/estado-da...           0   \n",
       "42  https://internacional.estadao.com.br/noticias/...           0   \n",
       "59  https://ciencia.estadao.com.br/fotos/geral,gen...           0   \n",
       "\n",
       "    indice_noticia paragrafos_resgatados  \n",
       "10              10                    []  \n",
       "13              13                    []  \n",
       "19              19                    []  \n",
       "27              27                    []  \n",
       "39              39                    []  \n",
       "40              40                    []  \n",
       "42              42                    []  \n",
       "59              59                    []  "
      ]
     },
     "execution_count": 30,
     "metadata": {},
     "output_type": "execute_result"
    }
   ],
   "source": [
    "t = df.query(\"paragrafos_resgatados == '[]'\")\n",
    "t"
   ]
  },
  {
   "cell_type": "code",
   "execution_count": 28,
   "id": "eeaf3e0c",
   "metadata": {},
   "outputs": [
    {
     "data": {
      "text/plain": [
       "'https://cultura.estadao.com.br/blogs/estado-da-arte/a-baixeza-de-bacurau/'"
      ]
     },
     "execution_count": 28,
     "metadata": {},
     "output_type": "execute_result"
    }
   ],
   "source": [
    "t.link.values[1]"
   ]
  },
  {
   "cell_type": "code",
   "execution_count": 31,
   "id": "0857a151",
   "metadata": {},
   "outputs": [],
   "source": [
    "t.to_csv(\"links_estadao_rotulados_resgatados_sem_texto_descartar.csv\", index = False)"
   ]
  },
  {
   "cell_type": "code",
   "execution_count": null,
   "id": "45fb1dc6",
   "metadata": {},
   "outputs": [],
   "source": []
  }
 ],
 "metadata": {
  "colab": {
   "name": "tratamento_word2vec.ipynb",
   "provenance": []
  },
  "kernelspec": {
   "display_name": "Python 3.10.4 64-bit",
   "language": "python",
   "name": "python3"
  },
  "language_info": {
   "codemirror_mode": {
    "name": "ipython",
    "version": 3
   },
   "file_extension": ".py",
   "mimetype": "text/x-python",
   "name": "python",
   "nbconvert_exporter": "python",
   "pygments_lexer": "ipython3",
   "version": "3.10.4"
  },
  "vscode": {
   "interpreter": {
    "hash": "2ad2ee33b41c9e762ad5bf2f0a3cb009dc3eaf5b09d1ee5fae31ac4a948dfd78"
   }
  }
 },
 "nbformat": 4,
 "nbformat_minor": 5
}
