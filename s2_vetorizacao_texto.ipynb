{
 "cells": [
  {
   "cell_type": "code",
   "execution_count": 1,
   "id": "f661f7e3-f920-4a8a-8847-488e7ae15cac",
   "metadata": {},
   "outputs": [],
   "source": [
    "import pandas as pd \n",
    "import numpy as np \n",
    "from gensim.models import Word2Vec\n",
    "from gensim.models import KeyedVectors"
   ]
  },
  {
   "cell_type": "code",
   "execution_count": 2,
   "id": "1138532e-e32d-4bbc-90e4-975e9b6572e5",
   "metadata": {},
   "outputs": [],
   "source": [
    "dim = 600"
   ]
  },
  {
   "cell_type": "code",
   "execution_count": 3,
   "id": "f0f4f04d-c0ea-4a8f-a53d-0ecf1b0373e9",
   "metadata": {},
   "outputs": [],
   "source": [
    "def vetorizar_frase(frases): # recebe lista de palavras e modelo\n",
    "    frases = str(frases).split(\" \")\n",
    "    vetor_frase = np.zeros((1,dim))  \n",
    "    for palavra in frases:\n",
    "        try:\n",
    "            vetor_frase += modelo_cbow.get_vector(palavra) # Para cada palavra vetorizada, soma nas frases\n",
    "\n",
    "        except KeyError:\n",
    "            pass\n",
    "    \n",
    "    return vetor_frase\n",
    "\n",
    "def vetorizar_texto(texto):\n",
    "    x = len(texto)\n",
    "    y = dim\n",
    "    matriz = np.zeros((x,y))\n",
    "\n",
    "    for i in range(x):\n",
    "        matriz[i] = vetorizar_frase(texto.iloc[i].split()) # coloca cada frase vetor em sua devida linha da matriz\n",
    "\n",
    "    return matriz \n",
    "\n",
    "def vetorizador(str_paragrafos):\n",
    "    # lista_paragrafos = eval(str_paragrafos)\n",
    "    lista_vetores = []\n",
    "    for paragrafo in lista_paragrafos:\n",
    "        vetor = vetorizar_frase(paragrafo, modelo_cbow)\n",
    "        lista_vetores.append(vetor)\n",
    "    \n",
    "    return str(lista_vetores)"
   ]
  },
  {
   "cell_type": "code",
   "execution_count": 4,
   "id": "92c7eb27-1b36-46dc-a3c6-a329b3bb801d",
   "metadata": {},
   "outputs": [],
   "source": [
    "modelo_cbow = KeyedVectors.load_word2vec_format(f\"cbow_s{dim}.txt\")"
   ]
  },
  {
   "cell_type": "code",
   "execution_count": 5,
   "id": "885228ef-8cd0-473d-a891-9fea92665c54",
   "metadata": {},
   "outputs": [
    {
     "data": {
      "text/plain": [
       "[('demência', 0.47918573021888733),\n",
       " ('asma', 0.46348580718040466),\n",
       " ('insônia', 0.4630206823348999),\n",
       " ('epilepsia', 0.45171910524368286),\n",
       " ('dislexia', 0.45087867975234985),\n",
       " ('hemofilia', 0.44807612895965576),\n",
       " ('leucemia', 0.43610063195228577),\n",
       " ('narcolepsia', 0.43368950486183167),\n",
       " ('aterosclerose', 0.4336549639701843),\n",
       " ('doença', 0.43230053782463074)]"
      ]
     },
     "execution_count": 5,
     "metadata": {},
     "output_type": "execute_result"
    }
   ],
   "source": [
    "modelo_cbow.most_similar(\"esquizofrenia\")"
   ]
  },
  {
   "cell_type": "code",
   "execution_count": 6,
   "id": "985a1cfe-b873-47f4-b340-135655b18ea6",
   "metadata": {},
   "outputs": [],
   "source": [
    "# base = \"bases_treino_teste\"\n",
    "base = \"bases_aplicacao\""
   ]
  },
  {
   "cell_type": "code",
   "execution_count": 7,
   "id": "918c4614-af82-4237-83d3-763341227735",
   "metadata": {},
   "outputs": [],
   "source": [
    "# arquivo = \"tratado_links_estadao_rotulados_base_estigma_resgatados.csv\"\n",
    "# arquivo = \"tratado_links_estadao_rotulados_resgatados.csv\"\n",
    "# arquivo = \"tratado_links_folha_rotulados_base_estigma_resgatados.csv\"\n",
    "arquivo = \"tratado_links_correio_do_povo_organizado_paragrafos_resgatados.csv\"\n",
    "# arquivo = \"tratado_links_folha_sem_rotulo_resgatados.csv\"\n",
    "# arquivo = \"tratado_links_estadao_resgatados.csv\""
   ]
  },
  {
   "cell_type": "code",
   "execution_count": 8,
   "id": "6233dd38-4f98-43e3-b061-1d60c928ae25",
   "metadata": {},
   "outputs": [
    {
     "data": {
      "text/plain": [
       "(189, 6)"
      ]
     },
     "execution_count": 8,
     "metadata": {},
     "output_type": "execute_result"
    }
   ],
   "source": [
    "df = pd.read_csv(f\"s2_base_tratada/{base}/{arquivo}\")\n",
    "df.shape"
   ]
  },
  {
   "cell_type": "code",
   "execution_count": 9,
   "id": "ff6633ce-d25c-443f-bc98-150cc2ef266f",
   "metadata": {},
   "outputs": [
    {
     "data": {
      "text/html": [
       "<div>\n",
       "<style scoped>\n",
       "    .dataframe tbody tr th:only-of-type {\n",
       "        vertical-align: middle;\n",
       "    }\n",
       "\n",
       "    .dataframe tbody tr th {\n",
       "        vertical-align: top;\n",
       "    }\n",
       "\n",
       "    .dataframe thead th {\n",
       "        text-align: right;\n",
       "    }\n",
       "</style>\n",
       "<table border=\"1\" class=\"dataframe\">\n",
       "  <thead>\n",
       "    <tr style=\"text-align: right;\">\n",
       "      <th></th>\n",
       "      <th>ano</th>\n",
       "      <th>links</th>\n",
       "      <th>nome</th>\n",
       "      <th>paragrafos_resgatados</th>\n",
       "      <th>indice</th>\n",
       "      <th>paragrafos_tratados_sw</th>\n",
       "    </tr>\n",
       "  </thead>\n",
       "  <tbody>\n",
       "    <tr>\n",
       "      <th>0</th>\n",
       "      <td>2009</td>\n",
       "      <td>https://www.correiodopovo.com.br/not%C3%ADcias...</td>\n",
       "      <td>esquizofrenia</td>\n",
       "      <td>['Em entrevista, a governadora considerou \"inc...</td>\n",
       "      <td>0</td>\n",
       "      <td>['entrevista governadora considerou incoerente...</td>\n",
       "    </tr>\n",
       "    <tr>\n",
       "      <th>1</th>\n",
       "      <td>2010</td>\n",
       "      <td>https://www.correiodopovo.com.br/not%C3%ADcias...</td>\n",
       "      <td>esquizofrenia</td>\n",
       "      <td>['Dependentes químicos eram mantidos de forma ...</td>\n",
       "      <td>1</td>\n",
       "      <td>['dependentes químicos eram mantidos irregular...</td>\n",
       "    </tr>\n",
       "    <tr>\n",
       "      <th>2</th>\n",
       "      <td>2010</td>\n",
       "      <td>https://www.correiodopovo.com.br/not%C3%ADcias...</td>\n",
       "      <td>esquizofrenia</td>\n",
       "      <td>['Os pacientes internados em uma clínica\\xa0pa...</td>\n",
       "      <td>2</td>\n",
       "      <td>['pacientes internados clínica recuperação dep...</td>\n",
       "    </tr>\n",
       "    <tr>\n",
       "      <th>3</th>\n",
       "      <td>2010</td>\n",
       "      <td>https://www.correiodopovo.com.br/not%C3%ADcias...</td>\n",
       "      <td>esquizofrenia</td>\n",
       "      <td>['e doentes com esquizofrenia por crime de tor...</td>\n",
       "      <td>3</td>\n",
       "      <td>['doentes esquizofrenia crime tortura polícia ...</td>\n",
       "    </tr>\n",
       "    <tr>\n",
       "      <th>4</th>\n",
       "      <td>2010</td>\n",
       "      <td>https://www.correiodopovo.com.br/not%C3%ADcias...</td>\n",
       "      <td>esquizofrenia</td>\n",
       "      <td>['Dos 72 pacientes internados, 49 sofrem de es...</td>\n",
       "      <td>4</td>\n",
       "      <td>['pacientes internados sofrem esquizofrenia de...</td>\n",
       "    </tr>\n",
       "    <tr>\n",
       "      <th>5</th>\n",
       "      <td>2010</td>\n",
       "      <td>https://www.correiodopovo.com.br/arteagenda/to...</td>\n",
       "      <td>esquizofrenia</td>\n",
       "      <td>['Em sua autobiografia, \"American Prince: A Me...</td>\n",
       "      <td>5</td>\n",
       "      <td>['autobiografia american prince memoir príncip...</td>\n",
       "    </tr>\n",
       "    <tr>\n",
       "      <th>6</th>\n",
       "      <td>2010</td>\n",
       "      <td>https://www.correiodopovo.com.br/not%C3%ADcias...</td>\n",
       "      <td>esquizofrenia</td>\n",
       "      <td>['A defesa ainda pode recorrer da decisão e a ...</td>\n",
       "      <td>6</td>\n",
       "      <td>['defesa recorrer decisão medida passa valer p...</td>\n",
       "    </tr>\n",
       "    <tr>\n",
       "      <th>7</th>\n",
       "      <td>2010</td>\n",
       "      <td>https://www.correiodopovo.com.br/blogs/juremir...</td>\n",
       "      <td>esquizofrenia</td>\n",
       "      <td>['Nunca gostei do que tu escreveu, seja em teu...</td>\n",
       "      <td>7</td>\n",
       "      <td>['gostei escreveu seja livros seja coluna corr...</td>\n",
       "    </tr>\n",
       "    <tr>\n",
       "      <th>8</th>\n",
       "      <td>2010</td>\n",
       "      <td>https://www.correiodopovo.com.br/not%C3%ADcias...</td>\n",
       "      <td>esquizofrenia</td>\n",
       "      <td>['Entre os medicamentos apreendidos haviam mor...</td>\n",
       "      <td>8</td>\n",
       "      <td>['medicamentos apreendidos haviam morfina anal...</td>\n",
       "    </tr>\n",
       "    <tr>\n",
       "      <th>9</th>\n",
       "      <td>2010</td>\n",
       "      <td>https://www.correiodopovo.com.br/not%C3%ADcias...</td>\n",
       "      <td>esquizofrenia</td>\n",
       "      <td>['Pouco mais de 14% deles responderam que cons...</td>\n",
       "      <td>9</td>\n",
       "      <td>['deles responderam consumiam maconha há anos ...</td>\n",
       "    </tr>\n",
       "  </tbody>\n",
       "</table>\n",
       "</div>"
      ],
      "text/plain": [
       "    ano                                              links           nome  \\\n",
       "0  2009  https://www.correiodopovo.com.br/not%C3%ADcias...  esquizofrenia   \n",
       "1  2010  https://www.correiodopovo.com.br/not%C3%ADcias...  esquizofrenia   \n",
       "2  2010  https://www.correiodopovo.com.br/not%C3%ADcias...  esquizofrenia   \n",
       "3  2010  https://www.correiodopovo.com.br/not%C3%ADcias...  esquizofrenia   \n",
       "4  2010  https://www.correiodopovo.com.br/not%C3%ADcias...  esquizofrenia   \n",
       "5  2010  https://www.correiodopovo.com.br/arteagenda/to...  esquizofrenia   \n",
       "6  2010  https://www.correiodopovo.com.br/not%C3%ADcias...  esquizofrenia   \n",
       "7  2010  https://www.correiodopovo.com.br/blogs/juremir...  esquizofrenia   \n",
       "8  2010  https://www.correiodopovo.com.br/not%C3%ADcias...  esquizofrenia   \n",
       "9  2010  https://www.correiodopovo.com.br/not%C3%ADcias...  esquizofrenia   \n",
       "\n",
       "                               paragrafos_resgatados  indice  \\\n",
       "0  ['Em entrevista, a governadora considerou \"inc...       0   \n",
       "1  ['Dependentes químicos eram mantidos de forma ...       1   \n",
       "2  ['Os pacientes internados em uma clínica\\xa0pa...       2   \n",
       "3  ['e doentes com esquizofrenia por crime de tor...       3   \n",
       "4  ['Dos 72 pacientes internados, 49 sofrem de es...       4   \n",
       "5  ['Em sua autobiografia, \"American Prince: A Me...       5   \n",
       "6  ['A defesa ainda pode recorrer da decisão e a ...       6   \n",
       "7  ['Nunca gostei do que tu escreveu, seja em teu...       7   \n",
       "8  ['Entre os medicamentos apreendidos haviam mor...       8   \n",
       "9  ['Pouco mais de 14% deles responderam que cons...       9   \n",
       "\n",
       "                              paragrafos_tratados_sw  \n",
       "0  ['entrevista governadora considerou incoerente...  \n",
       "1  ['dependentes químicos eram mantidos irregular...  \n",
       "2  ['pacientes internados clínica recuperação dep...  \n",
       "3  ['doentes esquizofrenia crime tortura polícia ...  \n",
       "4  ['pacientes internados sofrem esquizofrenia de...  \n",
       "5  ['autobiografia american prince memoir príncip...  \n",
       "6  ['defesa recorrer decisão medida passa valer p...  \n",
       "7  ['gostei escreveu seja livros seja coluna corr...  \n",
       "8  ['medicamentos apreendidos haviam morfina anal...  \n",
       "9  ['deles responderam consumiam maconha há anos ...  "
      ]
     },
     "execution_count": 9,
     "metadata": {},
     "output_type": "execute_result"
    }
   ],
   "source": [
    "df.head(10)"
   ]
  },
  {
   "cell_type": "code",
   "execution_count": 10,
   "id": "fa688b7f-e09f-4eee-8f0d-8914c7daa365",
   "metadata": {},
   "outputs": [],
   "source": [
    "df[\"paragrafos_tratados_sw\"] = df[\"paragrafos_tratados_sw\"].apply(eval)"
   ]
  },
  {
   "cell_type": "code",
   "execution_count": 11,
   "id": "a5169846-153f-4805-beea-c534cfa44186",
   "metadata": {},
   "outputs": [],
   "source": [
    "df = df.explode(\"paragrafos_tratados_sw\")"
   ]
  },
  {
   "cell_type": "code",
   "execution_count": 12,
   "id": "3deb4b91",
   "metadata": {},
   "outputs": [],
   "source": [
    "df = df.drop_duplicates(\"paragrafos_tratados_sw\")"
   ]
  },
  {
   "cell_type": "code",
   "execution_count": 13,
   "id": "2c7f0329",
   "metadata": {},
   "outputs": [],
   "source": [
    "df[\"paragrafos_tratados_sw\"] = df[\"paragrafos_tratados_sw\"].apply(lambda x: str(x).lower())"
   ]
  },
  {
   "cell_type": "code",
   "execution_count": 14,
   "id": "3780c7a4",
   "metadata": {},
   "outputs": [
    {
     "data": {
      "text/html": [
       "<div>\n",
       "<style scoped>\n",
       "    .dataframe tbody tr th:only-of-type {\n",
       "        vertical-align: middle;\n",
       "    }\n",
       "\n",
       "    .dataframe tbody tr th {\n",
       "        vertical-align: top;\n",
       "    }\n",
       "\n",
       "    .dataframe thead th {\n",
       "        text-align: right;\n",
       "    }\n",
       "</style>\n",
       "<table border=\"1\" class=\"dataframe\">\n",
       "  <thead>\n",
       "    <tr style=\"text-align: right;\">\n",
       "      <th></th>\n",
       "      <th>ano</th>\n",
       "      <th>links</th>\n",
       "      <th>nome</th>\n",
       "      <th>paragrafos_resgatados</th>\n",
       "      <th>indice</th>\n",
       "      <th>paragrafos_tratados_sw</th>\n",
       "    </tr>\n",
       "  </thead>\n",
       "  <tbody>\n",
       "    <tr>\n",
       "      <th>0</th>\n",
       "      <td>2009</td>\n",
       "      <td>https://www.correiodopovo.com.br/not%C3%ADcias...</td>\n",
       "      <td>esquizofrenia</td>\n",
       "      <td>['Em entrevista, a governadora considerou \"inc...</td>\n",
       "      <td>0</td>\n",
       "      <td>entrevista governadora considerou incoerente p...</td>\n",
       "    </tr>\n",
       "    <tr>\n",
       "      <th>1</th>\n",
       "      <td>2010</td>\n",
       "      <td>https://www.correiodopovo.com.br/not%C3%ADcias...</td>\n",
       "      <td>esquizofrenia</td>\n",
       "      <td>['Dependentes químicos eram mantidos de forma ...</td>\n",
       "      <td>1</td>\n",
       "      <td>dependentes químicos eram mantidos irregular p...</td>\n",
       "    </tr>\n",
       "    <tr>\n",
       "      <th>1</th>\n",
       "      <td>2010</td>\n",
       "      <td>https://www.correiodopovo.com.br/not%C3%ADcias...</td>\n",
       "      <td>esquizofrenia</td>\n",
       "      <td>['Dependentes químicos eram mantidos de forma ...</td>\n",
       "      <td>1</td>\n",
       "      <td>juizado infância juventude passo fundo norte c...</td>\n",
       "    </tr>\n",
       "    <tr>\n",
       "      <th>1</th>\n",
       "      <td>2010</td>\n",
       "      <td>https://www.correiodopovo.com.br/not%C3%ADcias...</td>\n",
       "      <td>esquizofrenia</td>\n",
       "      <td>['Dependentes químicos eram mantidos de forma ...</td>\n",
       "      <td>1</td>\n",
       "      <td>encontraram pacientes sexos estavam adolescent...</td>\n",
       "    </tr>\n",
       "    <tr>\n",
       "      <th>2</th>\n",
       "      <td>2010</td>\n",
       "      <td>https://www.correiodopovo.com.br/not%C3%ADcias...</td>\n",
       "      <td>esquizofrenia</td>\n",
       "      <td>['Os pacientes internados em uma clínica\\xa0pa...</td>\n",
       "      <td>2</td>\n",
       "      <td>pacientes internados clínica recuperação depen...</td>\n",
       "    </tr>\n",
       "  </tbody>\n",
       "</table>\n",
       "</div>"
      ],
      "text/plain": [
       "    ano                                              links           nome  \\\n",
       "0  2009  https://www.correiodopovo.com.br/not%C3%ADcias...  esquizofrenia   \n",
       "1  2010  https://www.correiodopovo.com.br/not%C3%ADcias...  esquizofrenia   \n",
       "1  2010  https://www.correiodopovo.com.br/not%C3%ADcias...  esquizofrenia   \n",
       "1  2010  https://www.correiodopovo.com.br/not%C3%ADcias...  esquizofrenia   \n",
       "2  2010  https://www.correiodopovo.com.br/not%C3%ADcias...  esquizofrenia   \n",
       "\n",
       "                               paragrafos_resgatados  indice  \\\n",
       "0  ['Em entrevista, a governadora considerou \"inc...       0   \n",
       "1  ['Dependentes químicos eram mantidos de forma ...       1   \n",
       "1  ['Dependentes químicos eram mantidos de forma ...       1   \n",
       "1  ['Dependentes químicos eram mantidos de forma ...       1   \n",
       "2  ['Os pacientes internados em uma clínica\\xa0pa...       2   \n",
       "\n",
       "                              paragrafos_tratados_sw  \n",
       "0  entrevista governadora considerou incoerente p...  \n",
       "1  dependentes químicos eram mantidos irregular p...  \n",
       "1  juizado infância juventude passo fundo norte c...  \n",
       "1  encontraram pacientes sexos estavam adolescent...  \n",
       "2  pacientes internados clínica recuperação depen...  "
      ]
     },
     "execution_count": 14,
     "metadata": {},
     "output_type": "execute_result"
    }
   ],
   "source": [
    "df.head()"
   ]
  },
  {
   "cell_type": "code",
   "execution_count": 15,
   "id": "be8d7e42-d4c6-4086-9164-95b4a956e7b0",
   "metadata": {},
   "outputs": [],
   "source": [
    "x = df.shape[0]\n",
    "y = dim \n",
    "matriz = np.zeros((x,y))\n",
    "\n",
    "for i in range(x):\n",
    "    matriz[i] = vetorizar_frase(df[\"paragrafos_tratados_sw\"].values[i])"
   ]
  },
  {
   "cell_type": "code",
   "execution_count": 16,
   "id": "c6ba2c5a-728e-476c-8abf-75b66c5caaa2",
   "metadata": {},
   "outputs": [
    {
     "data": {
      "text/plain": [
       "(210, 600)"
      ]
     },
     "execution_count": 16,
     "metadata": {},
     "output_type": "execute_result"
    }
   ],
   "source": [
    "matriz.shape"
   ]
  },
  {
   "cell_type": "code",
   "execution_count": 17,
   "id": "9c98e284",
   "metadata": {},
   "outputs": [],
   "source": [
    "pasta_destino = \"s3_base_vetorizada_600\""
   ]
  },
  {
   "cell_type": "code",
   "execution_count": 18,
   "id": "67b8b004-19c8-4e4e-b7be-90996a5e14d2",
   "metadata": {},
   "outputs": [],
   "source": [
    "np.save(f\"{pasta_destino}/{base}/{arquivo}.npy\", matriz)"
   ]
  },
  {
   "cell_type": "code",
   "execution_count": 19,
   "id": "86ca19c8-36c8-4faa-9a24-5353305b694b",
   "metadata": {},
   "outputs": [],
   "source": [
    "df[\"paragrafos_tratados_sw_vetorizados\"] = df[\"paragrafos_tratados_sw\"].apply(vetorizar_frase)"
   ]
  },
  {
   "cell_type": "code",
   "execution_count": 20,
   "id": "76fdf010-9eee-4569-b27a-56b535a6ed42",
   "metadata": {},
   "outputs": [],
   "source": [
    "df.to_csv(f\"{pasta_destino}/{base}/{arquivo}\", index = False)"
   ]
  },
  {
   "cell_type": "code",
   "execution_count": null,
   "id": "11f55981-002a-4df0-bd49-98a77aedeb4a",
   "metadata": {},
   "outputs": [],
   "source": []
  },
  {
   "cell_type": "code",
   "execution_count": null,
   "id": "aa51068a-fe06-4814-8d6d-206375533336",
   "metadata": {},
   "outputs": [],
   "source": []
  },
  {
   "cell_type": "code",
   "execution_count": null,
   "id": "ba694905",
   "metadata": {},
   "outputs": [],
   "source": []
  }
 ],
 "metadata": {
  "kernelspec": {
   "display_name": "Python 3.7.13 ('tf-venv')",
   "language": "python",
   "name": "python3"
  },
  "language_info": {
   "codemirror_mode": {
    "name": "ipython",
    "version": 3
   },
   "file_extension": ".py",
   "mimetype": "text/x-python",
   "name": "python",
   "nbconvert_exporter": "python",
   "pygments_lexer": "ipython3",
   "version": "3.7.13"
  },
  "vscode": {
   "interpreter": {
    "hash": "a620e751919bbf4798da0a31f572336cd659817a2a18c3ab87fc834e5f2384e8"
   }
  }
 },
 "nbformat": 4,
 "nbformat_minor": 5
}
