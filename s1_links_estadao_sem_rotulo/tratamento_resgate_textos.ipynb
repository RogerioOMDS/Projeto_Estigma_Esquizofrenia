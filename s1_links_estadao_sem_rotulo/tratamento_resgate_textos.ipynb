{
 "cells": [
  {
   "cell_type": "code",
   "execution_count": 40,
   "id": "592842d2",
   "metadata": {
    "id": "57b7d6da-9d11-4922-84ca-b0261899a7f9"
   },
   "outputs": [],
   "source": [
    "import pandas as pd\n",
    "import numpy as np\n",
    "import urllib\n",
    "import requests\n",
    "from bs4 import BeautifulSoup\n",
    "import os\n",
    "from time import sleep\n",
    "import time\n",
    "from urllib.request import Request, urlopen\n",
    "from urllib.error import URLError, HTTPError\n",
    "import random "
   ]
  },
  {
   "cell_type": "code",
   "execution_count": 41,
   "id": "c3afe71b",
   "metadata": {
    "id": "3b9d1a76-ad92-49a2-bb3c-d19c80508bf0"
   },
   "outputs": [],
   "source": [
    "import spacy\n",
    "nlp = spacy.load(\"pt_core_news_sm\")"
   ]
  },
  {
   "cell_type": "code",
   "execution_count": 107,
   "id": "264d5884",
   "metadata": {
    "id": "594aeb9b-d319-46f1-939b-17d628f2ed7b",
    "outputId": "793d8634-1737-4774-8041-3495148aa69b"
   },
   "outputs": [
    {
     "data": {
      "text/plain": [
       "(168, 3)"
      ]
     },
     "execution_count": 107,
     "metadata": {},
     "output_type": "execute_result"
    }
   ],
   "source": [
    "df = pd.read_csv(\"links_estadao_resgatados_vazios.csv\")\n",
    "df.shape\n"
   ]
  },
  {
   "cell_type": "code",
   "execution_count": 108,
   "id": "15aa2de5",
   "metadata": {},
   "outputs": [
    {
     "data": {
      "text/html": [
       "<div>\n",
       "<style scoped>\n",
       "    .dataframe tbody tr th:only-of-type {\n",
       "        vertical-align: middle;\n",
       "    }\n",
       "\n",
       "    .dataframe tbody tr th {\n",
       "        vertical-align: top;\n",
       "    }\n",
       "\n",
       "    .dataframe thead th {\n",
       "        text-align: right;\n",
       "    }\n",
       "</style>\n",
       "<table border=\"1\" class=\"dataframe\">\n",
       "  <thead>\n",
       "    <tr style=\"text-align: right;\">\n",
       "      <th></th>\n",
       "      <th>ano</th>\n",
       "      <th>links</th>\n",
       "      <th>paragrafos_resgatados</th>\n",
       "    </tr>\n",
       "  </thead>\n",
       "  <tbody>\n",
       "    <tr>\n",
       "      <th>0</th>\n",
       "      <td>2001</td>\n",
       "      <td>https://cultura.estadao.com.br/noticias/geral,...</td>\n",
       "      <td>[]</td>\n",
       "    </tr>\n",
       "    <tr>\n",
       "      <th>1</th>\n",
       "      <td>2001</td>\n",
       "      <td>https://cultura.estadao.com.br/noticias/geral,...</td>\n",
       "      <td>[]</td>\n",
       "    </tr>\n",
       "    <tr>\n",
       "      <th>2</th>\n",
       "      <td>2001</td>\n",
       "      <td>https://politica.estadao.com.br/noticias/geral...</td>\n",
       "      <td>[]</td>\n",
       "    </tr>\n",
       "    <tr>\n",
       "      <th>3</th>\n",
       "      <td>2002</td>\n",
       "      <td>https://cultura.estadao.com.br/noticias/musica...</td>\n",
       "      <td>[]</td>\n",
       "    </tr>\n",
       "    <tr>\n",
       "      <th>4</th>\n",
       "      <td>2002</td>\n",
       "      <td>https://cultura.estadao.com.br/noticias/musica...</td>\n",
       "      <td>[]</td>\n",
       "    </tr>\n",
       "  </tbody>\n",
       "</table>\n",
       "</div>"
      ],
      "text/plain": [
       "    ano                                              links  \\\n",
       "0  2001  https://cultura.estadao.com.br/noticias/geral,...   \n",
       "1  2001  https://cultura.estadao.com.br/noticias/geral,...   \n",
       "2  2001  https://politica.estadao.com.br/noticias/geral...   \n",
       "3  2002  https://cultura.estadao.com.br/noticias/musica...   \n",
       "4  2002  https://cultura.estadao.com.br/noticias/musica...   \n",
       "\n",
       "  paragrafos_resgatados  \n",
       "0                    []  \n",
       "1                    []  \n",
       "2                    []  \n",
       "3                    []  \n",
       "4                    []  "
      ]
     },
     "execution_count": 108,
     "metadata": {},
     "output_type": "execute_result"
    }
   ],
   "source": [
    "df.head()"
   ]
  },
  {
   "cell_type": "code",
   "execution_count": 109,
   "id": "72c71488",
   "metadata": {
    "id": "15d797c0-18b3-455f-95ac-488546cba0b8"
   },
   "outputs": [],
   "source": [
    "def limpa_paragrafos(link, tamanho):\n",
    "    \n",
    "    headers = {\"User-Agent\": \"Mozilla/5.0 (Windows NT 10.0; Win64; x64) AppleWebKit/537.36 (KHTML, like Gecko) Chrome/91.0.4472.77 Safari/537.36\"}\n",
    "    try:\n",
    "        req = Request(link, headers = headers)\n",
    "        response = urlopen(req)\n",
    "       \n",
    "    except HTTPError as e: # erro de segurança do site, pode ser necessário usar user-Agent\n",
    "        print(e.status, e.reason)\n",
    "        return [\"404_nao_encontrado\"]\n",
    "\n",
    "    except URLError as e:\n",
    "        print(e.reason)\n",
    "        return [\"404_nao_encontrado\"]\n",
    "\n",
    "    t = random.randint(1, 10)\n",
    "    # time.sleep(t)\n",
    "    \n",
    "#     html = urllib.request.urlopen(link).read()\n",
    "    html = response.read()\n",
    "    soup = BeautifulSoup(html)\n",
    "\n",
    "    for script in soup([\"script\", \"style\"]):\n",
    "        script.decompose()\n",
    "\n",
    "    lista = []\n",
    "    for i in soup.stripped_strings:\n",
    "        lista.append(i)\n",
    "    \n",
    "#     print(lista)\n",
    "\n",
    "    miolo = []\n",
    "    for i in lista:\n",
    "        if len(i) > tamanho:\n",
    "            miolo.append(i.replace('\\r\\n',''))\n",
    "#             print(miolo)\n",
    "\n",
    "    paragrafos = []\n",
    "    for i in range(len(miolo)):\n",
    "        if 'esquizo' in miolo[i]:\n",
    "            paragrafos.append(miolo[i])\n",
    "    \n",
    "    t = random.randint(1, 10)\n",
    "    # time.sleep(t)\n",
    "    \n",
    "#     for i in range(len(paragrafos)):\n",
    "#         lista_final = []\n",
    "#         doc = nlp(paragrafos[i].lower())\n",
    "#         for token in doc:\n",
    "#             valido = not token.is_stop and token.is_alpha\n",
    "# #             valido = token.is_stop\n",
    "#             if valido:\n",
    "#                 lista_final.append(token.text)\n",
    "    \n",
    "#         limpo = ' '.join(lista_final)\n",
    "#         paragrafos[i] = limpo\n",
    "#         time.sleep(1)\n",
    "\n",
    "    return paragrafos"
   ]
  },
  {
   "cell_type": "code",
   "execution_count": 110,
   "id": "22b7e3a4",
   "metadata": {
    "id": "236b1f16-a1c1-4c2e-893b-d874847a7659",
    "outputId": "b956449f-43ec-4171-9a32-384765043415"
   },
   "outputs": [
    {
     "data": {
      "text/plain": [
       "'https://cultura.estadao.com.br/noticias/geral,a-volta-de-jose-agrippino-de-paula-o-bruxo-de-embu,20010406p3412'"
      ]
     },
     "execution_count": 110,
     "metadata": {},
     "output_type": "execute_result"
    }
   ],
   "source": [
    "link = df.links.values[0]\n",
    "link"
   ]
  },
  {
   "cell_type": "code",
   "execution_count": 111,
   "id": "233bc174",
   "metadata": {
    "id": "99dbca83-f9e8-434b-a886-400a58441995"
   },
   "outputs": [],
   "source": [
    "paragrafos = limpa_paragrafos(link, 120)"
   ]
  },
  {
   "cell_type": "code",
   "execution_count": 112,
   "id": "67f80503",
   "metadata": {
    "id": "89eedadf-f34d-476e-8d16-6b4045a15650",
    "outputId": "2ecd2f6d-b03d-49d3-97e4-701dba034b0a"
   },
   "outputs": [
    {
     "data": {
      "text/plain": [
       "'[]'"
      ]
     },
     "execution_count": 112,
     "metadata": {},
     "output_type": "execute_result"
    }
   ],
   "source": [
    "str(paragrafos)"
   ]
  },
  {
   "cell_type": "code",
   "execution_count": 91,
   "id": "7c6014e2",
   "metadata": {},
   "outputs": [
    {
     "data": {
      "text/plain": [
       "'https://economia.estadao.com.br/noticias/geral,pf-prende-17-pessoas-por-fraude-de-r-11-milhoes-ao-inss,425045'"
      ]
     },
     "execution_count": 91,
     "metadata": {},
     "output_type": "execute_result"
    }
   ],
   "source": [
    "df.links.iloc[1]"
   ]
  },
  {
   "cell_type": "code",
   "execution_count": 116,
   "id": "3fb59a9c",
   "metadata": {},
   "outputs": [],
   "source": [
    "n_links = df.shape[0]"
   ]
  },
  {
   "cell_type": "code",
   "execution_count": 117,
   "id": "f9ad1a3b",
   "metadata": {},
   "outputs": [],
   "source": [
    "for i in range(0, n_links):\n",
    "    link = df.links.iloc[i]\n",
    "    paragrafos = limpa_paragrafos(link, 70)\n",
    "    df.loc[i, \"paragrafos_resgatados\"] = str(paragrafos)"
   ]
  },
  {
   "cell_type": "code",
   "execution_count": 118,
   "id": "fd22aa61",
   "metadata": {},
   "outputs": [
    {
     "data": {
      "text/html": [
       "<div>\n",
       "<style scoped>\n",
       "    .dataframe tbody tr th:only-of-type {\n",
       "        vertical-align: middle;\n",
       "    }\n",
       "\n",
       "    .dataframe tbody tr th {\n",
       "        vertical-align: top;\n",
       "    }\n",
       "\n",
       "    .dataframe thead th {\n",
       "        text-align: right;\n",
       "    }\n",
       "</style>\n",
       "<table border=\"1\" class=\"dataframe\">\n",
       "  <thead>\n",
       "    <tr style=\"text-align: right;\">\n",
       "      <th></th>\n",
       "      <th>ano</th>\n",
       "      <th>links</th>\n",
       "      <th>paragrafos_resgatados</th>\n",
       "    </tr>\n",
       "  </thead>\n",
       "  <tbody>\n",
       "    <tr>\n",
       "      <th>0</th>\n",
       "      <td>2001</td>\n",
       "      <td>https://cultura.estadao.com.br/noticias/geral,...</td>\n",
       "      <td>[]</td>\n",
       "    </tr>\n",
       "    <tr>\n",
       "      <th>1</th>\n",
       "      <td>2001</td>\n",
       "      <td>https://cultura.estadao.com.br/noticias/geral,...</td>\n",
       "      <td>[]</td>\n",
       "    </tr>\n",
       "    <tr>\n",
       "      <th>2</th>\n",
       "      <td>2001</td>\n",
       "      <td>https://politica.estadao.com.br/noticias/geral...</td>\n",
       "      <td>[]</td>\n",
       "    </tr>\n",
       "    <tr>\n",
       "      <th>3</th>\n",
       "      <td>2002</td>\n",
       "      <td>https://cultura.estadao.com.br/noticias/musica...</td>\n",
       "      <td>[]</td>\n",
       "    </tr>\n",
       "    <tr>\n",
       "      <th>4</th>\n",
       "      <td>2002</td>\n",
       "      <td>https://cultura.estadao.com.br/noticias/musica...</td>\n",
       "      <td>[]</td>\n",
       "    </tr>\n",
       "    <tr>\n",
       "      <th>...</th>\n",
       "      <td>...</td>\n",
       "      <td>...</td>\n",
       "      <td>...</td>\n",
       "    </tr>\n",
       "    <tr>\n",
       "      <th>163</th>\n",
       "      <td>2022</td>\n",
       "      <td>https://emais.estadao.com.br/fotos/bem-estar,d...</td>\n",
       "      <td>['Dicionário anticapacitista pretende combater...</td>\n",
       "    </tr>\n",
       "    <tr>\n",
       "      <th>164</th>\n",
       "      <td>2022</td>\n",
       "      <td>https://emais.estadao.com.br/noticias/gente,fi...</td>\n",
       "      <td>[]</td>\n",
       "    </tr>\n",
       "    <tr>\n",
       "      <th>165</th>\n",
       "      <td>2022</td>\n",
       "      <td>https://emais.estadao.com.br/noticias/bem-esta...</td>\n",
       "      <td>[]</td>\n",
       "    </tr>\n",
       "    <tr>\n",
       "      <th>166</th>\n",
       "      <td>2022</td>\n",
       "      <td>https://saude.estadao.com.br/noticias/geral,am...</td>\n",
       "      <td>[]</td>\n",
       "    </tr>\n",
       "    <tr>\n",
       "      <th>167</th>\n",
       "      <td>2022</td>\n",
       "      <td>https://www.estadao.com.br/internacional/nytiw...</td>\n",
       "      <td>[]</td>\n",
       "    </tr>\n",
       "  </tbody>\n",
       "</table>\n",
       "<p>168 rows × 3 columns</p>\n",
       "</div>"
      ],
      "text/plain": [
       "      ano                                              links  \\\n",
       "0    2001  https://cultura.estadao.com.br/noticias/geral,...   \n",
       "1    2001  https://cultura.estadao.com.br/noticias/geral,...   \n",
       "2    2001  https://politica.estadao.com.br/noticias/geral...   \n",
       "3    2002  https://cultura.estadao.com.br/noticias/musica...   \n",
       "4    2002  https://cultura.estadao.com.br/noticias/musica...   \n",
       "..    ...                                                ...   \n",
       "163  2022  https://emais.estadao.com.br/fotos/bem-estar,d...   \n",
       "164  2022  https://emais.estadao.com.br/noticias/gente,fi...   \n",
       "165  2022  https://emais.estadao.com.br/noticias/bem-esta...   \n",
       "166  2022  https://saude.estadao.com.br/noticias/geral,am...   \n",
       "167  2022  https://www.estadao.com.br/internacional/nytiw...   \n",
       "\n",
       "                                 paragrafos_resgatados  \n",
       "0                                                   []  \n",
       "1                                                   []  \n",
       "2                                                   []  \n",
       "3                                                   []  \n",
       "4                                                   []  \n",
       "..                                                 ...  \n",
       "163  ['Dicionário anticapacitista pretende combater...  \n",
       "164                                                 []  \n",
       "165                                                 []  \n",
       "166                                                 []  \n",
       "167                                                 []  \n",
       "\n",
       "[168 rows x 3 columns]"
      ]
     },
     "execution_count": 118,
     "metadata": {},
     "output_type": "execute_result"
    }
   ],
   "source": [
    "df"
   ]
  },
  {
   "cell_type": "code",
   "execution_count": 121,
   "id": "011ae762",
   "metadata": {},
   "outputs": [],
   "source": [
    "df2 = pd.DataFrame(columns = [\"ano\", \"links\", \"paragrafos_resgatados\"])\n",
    "for i in range(1, 5):\n",
    "    df1 = pd.read_csv(f\"links_estadao_resgatados_parte_{i}.csv\")\n",
    "    df2 = pd.concat([df2, df1])\n"
   ]
  },
  {
   "cell_type": "code",
   "execution_count": 122,
   "id": "4d4f2230",
   "metadata": {},
   "outputs": [],
   "source": [
    "df2.to_csv(\"links_estadao_resgatados.csv\", index = False)"
   ]
  },
  {
   "cell_type": "code",
   "execution_count": 102,
   "id": "97f0df86",
   "metadata": {},
   "outputs": [],
   "source": [
    "# df[df.paragrafos_resgatados.notnull()].to_csv(\"links_estadao_resgatados_parte_3.csv\", index = False)\n",
    "# df[df.paragrafos_resgatados.isnull()].to_csv(\"links_estadao_nulos.csv\", index = False)\n"
   ]
  },
  {
   "cell_type": "code",
   "execution_count": 106,
   "id": "3cd77677",
   "metadata": {},
   "outputs": [],
   "source": [
    "# df = pd.read_csv(\"links_estadao_resgatados.csv\")\n",
    "# df.shape"
   ]
  },
  {
   "cell_type": "code",
   "execution_count": 119,
   "id": "d74f4e27",
   "metadata": {},
   "outputs": [
    {
     "data": {
      "text/html": [
       "<div>\n",
       "<style scoped>\n",
       "    .dataframe tbody tr th:only-of-type {\n",
       "        vertical-align: middle;\n",
       "    }\n",
       "\n",
       "    .dataframe tbody tr th {\n",
       "        vertical-align: top;\n",
       "    }\n",
       "\n",
       "    .dataframe thead th {\n",
       "        text-align: right;\n",
       "    }\n",
       "</style>\n",
       "<table border=\"1\" class=\"dataframe\">\n",
       "  <thead>\n",
       "    <tr style=\"text-align: right;\">\n",
       "      <th></th>\n",
       "      <th>ano</th>\n",
       "      <th>links</th>\n",
       "      <th>paragrafos_resgatados</th>\n",
       "    </tr>\n",
       "  </thead>\n",
       "  <tbody>\n",
       "    <tr>\n",
       "      <th>0</th>\n",
       "      <td>2001</td>\n",
       "      <td>https://cultura.estadao.com.br/noticias/geral,...</td>\n",
       "      <td>[]</td>\n",
       "    </tr>\n",
       "    <tr>\n",
       "      <th>1</th>\n",
       "      <td>2001</td>\n",
       "      <td>https://cultura.estadao.com.br/noticias/geral,...</td>\n",
       "      <td>[]</td>\n",
       "    </tr>\n",
       "    <tr>\n",
       "      <th>2</th>\n",
       "      <td>2001</td>\n",
       "      <td>https://politica.estadao.com.br/noticias/geral...</td>\n",
       "      <td>[]</td>\n",
       "    </tr>\n",
       "    <tr>\n",
       "      <th>3</th>\n",
       "      <td>2002</td>\n",
       "      <td>https://cultura.estadao.com.br/noticias/musica...</td>\n",
       "      <td>[]</td>\n",
       "    </tr>\n",
       "    <tr>\n",
       "      <th>4</th>\n",
       "      <td>2002</td>\n",
       "      <td>https://cultura.estadao.com.br/noticias/musica...</td>\n",
       "      <td>[]</td>\n",
       "    </tr>\n",
       "    <tr>\n",
       "      <th>...</th>\n",
       "      <td>...</td>\n",
       "      <td>...</td>\n",
       "      <td>...</td>\n",
       "    </tr>\n",
       "    <tr>\n",
       "      <th>157</th>\n",
       "      <td>2021</td>\n",
       "      <td>https://politica.estadao.com.br/blogs/coluna-d...</td>\n",
       "      <td>[]</td>\n",
       "    </tr>\n",
       "    <tr>\n",
       "      <th>164</th>\n",
       "      <td>2022</td>\n",
       "      <td>https://emais.estadao.com.br/noticias/gente,fi...</td>\n",
       "      <td>[]</td>\n",
       "    </tr>\n",
       "    <tr>\n",
       "      <th>165</th>\n",
       "      <td>2022</td>\n",
       "      <td>https://emais.estadao.com.br/noticias/bem-esta...</td>\n",
       "      <td>[]</td>\n",
       "    </tr>\n",
       "    <tr>\n",
       "      <th>166</th>\n",
       "      <td>2022</td>\n",
       "      <td>https://saude.estadao.com.br/noticias/geral,am...</td>\n",
       "      <td>[]</td>\n",
       "    </tr>\n",
       "    <tr>\n",
       "      <th>167</th>\n",
       "      <td>2022</td>\n",
       "      <td>https://www.estadao.com.br/internacional/nytiw...</td>\n",
       "      <td>[]</td>\n",
       "    </tr>\n",
       "  </tbody>\n",
       "</table>\n",
       "<p>121 rows × 3 columns</p>\n",
       "</div>"
      ],
      "text/plain": [
       "      ano                                              links  \\\n",
       "0    2001  https://cultura.estadao.com.br/noticias/geral,...   \n",
       "1    2001  https://cultura.estadao.com.br/noticias/geral,...   \n",
       "2    2001  https://politica.estadao.com.br/noticias/geral...   \n",
       "3    2002  https://cultura.estadao.com.br/noticias/musica...   \n",
       "4    2002  https://cultura.estadao.com.br/noticias/musica...   \n",
       "..    ...                                                ...   \n",
       "157  2021  https://politica.estadao.com.br/blogs/coluna-d...   \n",
       "164  2022  https://emais.estadao.com.br/noticias/gente,fi...   \n",
       "165  2022  https://emais.estadao.com.br/noticias/bem-esta...   \n",
       "166  2022  https://saude.estadao.com.br/noticias/geral,am...   \n",
       "167  2022  https://www.estadao.com.br/internacional/nytiw...   \n",
       "\n",
       "    paragrafos_resgatados  \n",
       "0                      []  \n",
       "1                      []  \n",
       "2                      []  \n",
       "3                      []  \n",
       "4                      []  \n",
       "..                    ...  \n",
       "157                    []  \n",
       "164                    []  \n",
       "165                    []  \n",
       "166                    []  \n",
       "167                    []  \n",
       "\n",
       "[121 rows x 3 columns]"
      ]
     },
     "execution_count": 119,
     "metadata": {},
     "output_type": "execute_result"
    }
   ],
   "source": [
    "t = df.query(\"paragrafos_resgatados == '[]'\")\n",
    "t"
   ]
  },
  {
   "cell_type": "code",
   "execution_count": 34,
   "id": "eeaf3e0c",
   "metadata": {},
   "outputs": [
    {
     "data": {
      "text/plain": [
       "array(['https://www.correiodopovo.com.br/not%C3%ADcias/pol%C3%ADcia/restos-mortais-de-v%C3%ADtimas-de-canibalismo-s%C3%A3o-enterrados-em-pe-1.89468',\n",
       "       'https://www.correiodopovo.com.br/not%C3%ADcias/geral/anvisa-suspende-com%C3%A9rcio-de-lotes-de-rem%C3%A9dio-para-esquizofrenia-1.140120',\n",
       "       'https://www.correiodopovo.com.br/arteagenda/peter-green-ex-guitarrista-do-fleetwood-mac-morre-aos-73-anos-1.455521',\n",
       "       'https://www.correiodopovo.com.br/blogs/juremirmachado/dilma-furiosa-na-onu-e-psb-fervendo-no-rs-1.550',\n",
       "       'https://www.correiodopovo.com.br/blogs/hiltormombach/eles-vivem-em-outro-planeta-1.409755',\n",
       "       'https://www.correiodopovo.com.br/blogs/juremirmachado/votos-que-valem-mais-1.287780'],\n",
       "      dtype=object)"
      ]
     },
     "execution_count": 34,
     "metadata": {},
     "output_type": "execute_result"
    }
   ],
   "source": [
    "t.links.values "
   ]
  },
  {
   "cell_type": "code",
   "execution_count": 123,
   "id": "a512428e",
   "metadata": {},
   "outputs": [],
   "source": [
    "t.to_csv(\"links_estadao_resgatados_vazios.csv\", index = False)"
   ]
  },
  {
   "cell_type": "code",
   "execution_count": null,
   "id": "b79e7360",
   "metadata": {},
   "outputs": [],
   "source": [
    "# os links que não funcionaram são apenas TÍTULOS, ou trechos que contém menos de 120 caracteres"
   ]
  },
  {
   "cell_type": "code",
   "execution_count": 36,
   "id": "87d5777e",
   "metadata": {},
   "outputs": [],
   "source": [
    "df[\"indice\"] = [x for x in range(df.shape[0])]"
   ]
  },
  {
   "cell_type": "code",
   "execution_count": null,
   "id": "0857a151",
   "metadata": {},
   "outputs": [],
   "source": []
  }
 ],
 "metadata": {
  "colab": {
   "name": "tratamento_word2vec.ipynb",
   "provenance": []
  },
  "kernelspec": {
   "display_name": "Python 3.10.4 64-bit",
   "language": "python",
   "name": "python3"
  },
  "language_info": {
   "codemirror_mode": {
    "name": "ipython",
    "version": 3
   },
   "file_extension": ".py",
   "mimetype": "text/x-python",
   "name": "python",
   "nbconvert_exporter": "python",
   "pygments_lexer": "ipython3",
   "version": "3.10.4"
  },
  "vscode": {
   "interpreter": {
    "hash": "2ad2ee33b41c9e762ad5bf2f0a3cb009dc3eaf5b09d1ee5fae31ac4a948dfd78"
   }
  }
 },
 "nbformat": 4,
 "nbformat_minor": 5
}
