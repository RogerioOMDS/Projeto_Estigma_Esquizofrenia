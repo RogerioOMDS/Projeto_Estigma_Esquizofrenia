{
 "cells": [
  {
   "cell_type": "code",
   "execution_count": 1,
   "id": "130558d6-1d2a-4a6f-8743-3b13b0fedc6d",
   "metadata": {},
   "outputs": [],
   "source": [
    "# !pip install spacy \n",
    "# !python -m spacy download pt_core_news_sm"
   ]
  },
  {
   "cell_type": "code",
   "execution_count": 2,
   "id": "20833809-7cac-4587-bc06-23698cc09992",
   "metadata": {},
   "outputs": [],
   "source": [
    "import pandas as pd \n",
    "import numpy as np \n",
    "import spacy"
   ]
  },
  {
   "cell_type": "code",
   "execution_count": 3,
   "id": "5b02b298-75cc-4218-9526-4d19f50402f6",
   "metadata": {},
   "outputs": [],
   "source": [
    "nlp = spacy.load(\"pt_core_news_sm\")"
   ]
  },
  {
   "cell_type": "code",
   "execution_count": 4,
   "id": "ce0d5d03-59cd-40fa-990d-16713d3381bc",
   "metadata": {},
   "outputs": [],
   "source": [
    "# pasta = \"s1_base_rotulada_estigma\"\n",
    "# pasta = \"s1_links_folha_sem_rotulo_estadao_rotulado\"\n",
    "pasta = \"s1_links_correio_do_povo_sem_rotulo\"\n",
    "# pasta = \"s1_links_estadao_sem_rotulo\""
   ]
  },
  {
   "cell_type": "code",
   "execution_count": 5,
   "id": "57726daf-47eb-4502-b18b-b78467e93104",
   "metadata": {},
   "outputs": [],
   "source": [
    "# nome_arquivo = \"links_estadao_rotulados_base_estigma_resgatados.csv\"\n",
    "# nome_arquivo = \"links_folha_rotulados_base_estigma_resgatados.csv\"\n",
    "# nome_arquivo = \"links_estadao_rotulados_resgatados.csv\"\n",
    "# nome_arquivo = \"links_folha_sem_rotulo_resgatados.csv\"\n",
    "nome_arquivo = \"links_correio_do_povo_organizado_paragrafos_resgatados.csv\"\n",
    "# nome_arquivo = \"links_estadao_resgatados.csv\""
   ]
  },
  {
   "cell_type": "code",
   "execution_count": 6,
   "id": "f20f2d2c-9cae-4d7f-944c-bdebb11ac3e9",
   "metadata": {},
   "outputs": [
    {
     "data": {
      "text/plain": [
       "(189, 5)"
      ]
     },
     "execution_count": 6,
     "metadata": {},
     "output_type": "execute_result"
    }
   ],
   "source": [
    "df = pd.read_csv(pasta+\"/\"+nome_arquivo)\n",
    "df.shape"
   ]
  },
  {
   "cell_type": "code",
   "execution_count": 7,
   "id": "7592f6ee-24e8-4059-9d81-22f1ee51477b",
   "metadata": {},
   "outputs": [
    {
     "data": {
      "text/plain": [
       "'[\\'Em entrevista, a governadora considerou \"incoerente\" um partido que participa do seu governo bater na gestão. \"É esquizofrenia\", disse ela, em demonstração de que a união com o PMDB regional não será fácil. Segundo a petista, o PMDB coordena dois terços dos programas do PAC (Programa de Aceleração do Crescimento). Em entrevista ao lado de Dilma e do ministro das Relações Institucionais, Alexandre Padilha, Ana Júlia disse ser possível superar os obstáculos.\\']'"
      ]
     },
     "execution_count": 7,
     "metadata": {},
     "output_type": "execute_result"
    }
   ],
   "source": [
    "df.paragrafos_resgatados.values[0]"
   ]
  },
  {
   "cell_type": "code",
   "execution_count": 8,
   "id": "dba2004a-1b93-4c3e-bc79-4890959603b3",
   "metadata": {},
   "outputs": [],
   "source": [
    "doc = nlp(eval(df.paragrafos_resgatados.values[0])[0].lower())"
   ]
  },
  {
   "cell_type": "code",
   "execution_count": 9,
   "id": "194986a4-92a7-4705-9cc2-f8332d5ed145",
   "metadata": {},
   "outputs": [
    {
     "data": {
      "text/plain": [
       "em entrevista, a governadora considerou \"incoerente\" um partido que participa do seu governo bater na gestão. \"é esquizofrenia\", disse ela, em demonstração de que a união com o pmdb regional não será fácil. segundo a petista, o pmdb coordena dois terços dos programas do pac (programa de aceleração do crescimento). em entrevista ao lado de dilma e do ministro das relações institucionais, alexandre padilha, ana júlia disse ser possível superar os obstáculos."
      ]
     },
     "execution_count": 9,
     "metadata": {},
     "output_type": "execute_result"
    }
   ],
   "source": [
    "doc"
   ]
  },
  {
   "cell_type": "code",
   "execution_count": 10,
   "id": "94b36aac-ad6d-4578-9351-51be53f79c87",
   "metadata": {},
   "outputs": [],
   "source": [
    "lista_palavras = []\n",
    "for e in doc: \n",
    "    valido = not e.is_stop and e.is_alpha\n",
    "    if valido:\n",
    "        lista_palavras.append(e.text)"
   ]
  },
  {
   "cell_type": "code",
   "execution_count": 11,
   "id": "903dcab0-c01a-4930-804c-f4758b1fd694",
   "metadata": {},
   "outputs": [
    {
     "data": {
      "text/plain": [
       "'entrevista governadora considerou incoerente partido participa governo bater gestão esquizofrenia disse demonstração união pmdb regional será fácil petista pmdb coordena terços programas pac programa aceleração crescimento entrevista dilma ministro relações institucionais alexandre padilha ana júlia disse superar obstáculos'"
      ]
     },
     "execution_count": 11,
     "metadata": {},
     "output_type": "execute_result"
    }
   ],
   "source": [
    "\" \".join(lista_palavras)"
   ]
  },
  {
   "cell_type": "code",
   "execution_count": 12,
   "id": "f0374948-9132-407a-bbdd-333fd8c1f904",
   "metadata": {},
   "outputs": [],
   "source": [
    "def limpa_texto_sw(lista_str):\n",
    "    lista = eval(lista_str)\n",
    "    lista_paragrafos = []\n",
    "    for paragrafo in lista:\n",
    "        doc = nlp(paragrafo.lower())\n",
    "        lista_palavras = []\n",
    "        for palavra in doc:\n",
    "            valido = not palavra.is_stop and palavra.is_alpha\n",
    "            if valido:\n",
    "                lista_palavras.append(palavra.text)\n",
    "        palavras = \" \".join(lista_palavras)\n",
    "        lista_paragrafos.append(palavras.lower())\n",
    "    \n",
    "    return lista_paragrafos"
   ]
  },
  {
   "cell_type": "code",
   "execution_count": 13,
   "id": "5c506850-b3da-4ef7-b9f2-591a0fc0db5e",
   "metadata": {},
   "outputs": [
    {
     "data": {
      "text/plain": [
       "['entrevista governadora considerou incoerente partido participa governo bater gestão esquizofrenia disse demonstração união pmdb regional será fácil petista pmdb coordena terços programas pac programa aceleração crescimento entrevista dilma ministro relações institucionais alexandre padilha ana júlia disse superar obstáculos']"
      ]
     },
     "execution_count": 13,
     "metadata": {},
     "output_type": "execute_result"
    }
   ],
   "source": [
    "limpa_texto_sw(df.paragrafos_resgatados.values[0])"
   ]
  },
  {
   "cell_type": "code",
   "execution_count": 14,
   "id": "86fa9b6d-b894-4a88-9eff-4e7f33a244a7",
   "metadata": {},
   "outputs": [],
   "source": [
    "df[\"paragrafos_tratados_sw\"] = df[\"paragrafos_resgatados\"].apply(limpa_texto_sw)"
   ]
  },
  {
   "cell_type": "code",
   "execution_count": 15,
   "id": "93f8b604",
   "metadata": {},
   "outputs": [
    {
     "data": {
      "text/html": [
       "<div>\n",
       "<style scoped>\n",
       "    .dataframe tbody tr th:only-of-type {\n",
       "        vertical-align: middle;\n",
       "    }\n",
       "\n",
       "    .dataframe tbody tr th {\n",
       "        vertical-align: top;\n",
       "    }\n",
       "\n",
       "    .dataframe thead th {\n",
       "        text-align: right;\n",
       "    }\n",
       "</style>\n",
       "<table border=\"1\" class=\"dataframe\">\n",
       "  <thead>\n",
       "    <tr style=\"text-align: right;\">\n",
       "      <th></th>\n",
       "      <th>ano</th>\n",
       "      <th>links</th>\n",
       "      <th>nome</th>\n",
       "      <th>paragrafos_resgatados</th>\n",
       "      <th>indice</th>\n",
       "      <th>paragrafos_tratados_sw</th>\n",
       "    </tr>\n",
       "  </thead>\n",
       "  <tbody>\n",
       "    <tr>\n",
       "      <th>0</th>\n",
       "      <td>2009</td>\n",
       "      <td>https://www.correiodopovo.com.br/not%C3%ADcias...</td>\n",
       "      <td>esquizofrenia</td>\n",
       "      <td>['Em entrevista, a governadora considerou \"inc...</td>\n",
       "      <td>0</td>\n",
       "      <td>[entrevista governadora considerou incoerente ...</td>\n",
       "    </tr>\n",
       "    <tr>\n",
       "      <th>1</th>\n",
       "      <td>2010</td>\n",
       "      <td>https://www.correiodopovo.com.br/not%C3%ADcias...</td>\n",
       "      <td>esquizofrenia</td>\n",
       "      <td>['Dependentes químicos eram mantidos de forma ...</td>\n",
       "      <td>1</td>\n",
       "      <td>[dependentes químicos eram mantidos irregular ...</td>\n",
       "    </tr>\n",
       "    <tr>\n",
       "      <th>2</th>\n",
       "      <td>2010</td>\n",
       "      <td>https://www.correiodopovo.com.br/not%C3%ADcias...</td>\n",
       "      <td>esquizofrenia</td>\n",
       "      <td>['Os pacientes internados em uma clínica\\xa0pa...</td>\n",
       "      <td>2</td>\n",
       "      <td>[pacientes internados clínica recuperação depe...</td>\n",
       "    </tr>\n",
       "    <tr>\n",
       "      <th>3</th>\n",
       "      <td>2010</td>\n",
       "      <td>https://www.correiodopovo.com.br/not%C3%ADcias...</td>\n",
       "      <td>esquizofrenia</td>\n",
       "      <td>['e doentes com esquizofrenia por crime de tor...</td>\n",
       "      <td>3</td>\n",
       "      <td>[doentes esquizofrenia crime tortura polícia i...</td>\n",
       "    </tr>\n",
       "    <tr>\n",
       "      <th>4</th>\n",
       "      <td>2010</td>\n",
       "      <td>https://www.correiodopovo.com.br/not%C3%ADcias...</td>\n",
       "      <td>esquizofrenia</td>\n",
       "      <td>['Dos 72 pacientes internados, 49 sofrem de es...</td>\n",
       "      <td>4</td>\n",
       "      <td>[pacientes internados sofrem esquizofrenia dep...</td>\n",
       "    </tr>\n",
       "  </tbody>\n",
       "</table>\n",
       "</div>"
      ],
      "text/plain": [
       "    ano                                              links           nome  \\\n",
       "0  2009  https://www.correiodopovo.com.br/not%C3%ADcias...  esquizofrenia   \n",
       "1  2010  https://www.correiodopovo.com.br/not%C3%ADcias...  esquizofrenia   \n",
       "2  2010  https://www.correiodopovo.com.br/not%C3%ADcias...  esquizofrenia   \n",
       "3  2010  https://www.correiodopovo.com.br/not%C3%ADcias...  esquizofrenia   \n",
       "4  2010  https://www.correiodopovo.com.br/not%C3%ADcias...  esquizofrenia   \n",
       "\n",
       "                               paragrafos_resgatados  indice  \\\n",
       "0  ['Em entrevista, a governadora considerou \"inc...       0   \n",
       "1  ['Dependentes químicos eram mantidos de forma ...       1   \n",
       "2  ['Os pacientes internados em uma clínica\\xa0pa...       2   \n",
       "3  ['e doentes com esquizofrenia por crime de tor...       3   \n",
       "4  ['Dos 72 pacientes internados, 49 sofrem de es...       4   \n",
       "\n",
       "                              paragrafos_tratados_sw  \n",
       "0  [entrevista governadora considerou incoerente ...  \n",
       "1  [dependentes químicos eram mantidos irregular ...  \n",
       "2  [pacientes internados clínica recuperação depe...  \n",
       "3  [doentes esquizofrenia crime tortura polícia i...  \n",
       "4  [pacientes internados sofrem esquizofrenia dep...  "
      ]
     },
     "execution_count": 15,
     "metadata": {},
     "output_type": "execute_result"
    }
   ],
   "source": [
    "df.head()"
   ]
  },
  {
   "cell_type": "code",
   "execution_count": 16,
   "id": "bd715d5b",
   "metadata": {},
   "outputs": [],
   "source": [
    "pasta_destino = \"s2_base_tratada\"\n",
    "\n",
    "# subpasta_destino = \"bases_treino_teste\"\n",
    "subpasta_destino = \"bases_aplicacao\""
   ]
  },
  {
   "cell_type": "code",
   "execution_count": 17,
   "id": "a0100e13-1a3d-4c29-9e89-ddbc797974c6",
   "metadata": {},
   "outputs": [],
   "source": [
    "df.to_csv(f\"{pasta_destino}/{subpasta_destino}/tratado_{nome_arquivo}\", index = False)"
   ]
  },
  {
   "cell_type": "code",
   "execution_count": null,
   "id": "3dea7f1a",
   "metadata": {},
   "outputs": [],
   "source": []
  },
  {
   "cell_type": "code",
   "execution_count": null,
   "id": "c3955c0a",
   "metadata": {},
   "outputs": [],
   "source": []
  }
 ],
 "metadata": {
  "kernelspec": {
   "display_name": "Python 3.7.13 ('tf-venv')",
   "language": "python",
   "name": "python3"
  },
  "language_info": {
   "codemirror_mode": {
    "name": "ipython",
    "version": 3
   },
   "file_extension": ".py",
   "mimetype": "text/x-python",
   "name": "python",
   "nbconvert_exporter": "python",
   "pygments_lexer": "ipython3",
   "version": "3.7.13"
  },
  "vscode": {
   "interpreter": {
    "hash": "a620e751919bbf4798da0a31f572336cd659817a2a18c3ab87fc834e5f2384e8"
   }
  }
 },
 "nbformat": 4,
 "nbformat_minor": 5
}
