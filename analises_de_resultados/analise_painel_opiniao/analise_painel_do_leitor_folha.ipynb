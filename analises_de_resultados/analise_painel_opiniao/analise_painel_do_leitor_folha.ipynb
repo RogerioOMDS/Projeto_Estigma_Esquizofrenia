{
 "cells": [
  {
   "cell_type": "code",
   "execution_count": 1,
   "metadata": {},
   "outputs": [],
   "source": [
    "import pandas as pd \n",
    "import numpy as np\n",
    "import matplotlib.pyplot as plt \n",
    "import seaborn as sns"
   ]
  },
  {
   "cell_type": "code",
   "execution_count": 2,
   "metadata": {},
   "outputs": [],
   "source": [
    "folha_url = \"base_folha_analise.csv\""
   ]
  },
  {
   "cell_type": "code",
   "execution_count": 3,
   "metadata": {},
   "outputs": [
    {
     "data": {
      "text/plain": [
       "(2709, 12)"
      ]
     },
     "execution_count": 3,
     "metadata": {},
     "output_type": "execute_result"
    }
   ],
   "source": [
    "folha = pd.read_csv(folha_url)\n",
    "folha.shape "
   ]
  },
  {
   "cell_type": "markdown",
   "metadata": {},
   "source": [
    "# Organizando cartas | painel do leitor  da folha de são paulo"
   ]
  },
  {
   "cell_type": "code",
   "execution_count": 4,
   "metadata": {},
   "outputs": [],
   "source": [
    "folha.loc[((folha.opiniao_original == \"sim\") & (folha.painel_do_leitor == \"nao\")), \"opiniao\"] = \"sim\"\n",
    "folha.opiniao.fillna(\"nao\", inplace = True)"
   ]
  },
  {
   "cell_type": "code",
   "execution_count": 5,
   "metadata": {},
   "outputs": [],
   "source": [
    "# folha.to_csv(\"base_folha_analise.csv\", index = False)"
   ]
  },
  {
   "cell_type": "code",
   "execution_count": 6,
   "metadata": {},
   "outputs": [
    {
     "name": "stdout",
     "output_type": "stream",
     "text": [
      "Quantidade painel do leitor \n",
      "\n"
     ]
    },
    {
     "data": {
      "text/plain": [
       "nao    2656\n",
       "sim      53\n",
       "Name: painel_do_leitor, dtype: int64"
      ]
     },
     "execution_count": 6,
     "metadata": {},
     "output_type": "execute_result"
    }
   ],
   "source": [
    "print(\"Quantidade painel do leitor \\n\")\n",
    "folha.painel_do_leitor.value_counts(dropna = False)"
   ]
  },
  {
   "cell_type": "markdown",
   "metadata": {},
   "source": [
    "# ANÁLISE DE CLASSIFICAÇÃO ENTRE PAINEL DO LEITOR DA FOLHA"
   ]
  },
  {
   "cell_type": "code",
   "execution_count": 7,
   "metadata": {},
   "outputs": [],
   "source": [
    "folha[\"metaforico\"] = folha.metaforico_pred.map({1: \"sim\", 0:\"nao\"})"
   ]
  },
  {
   "cell_type": "code",
   "execution_count": 14,
   "metadata": {},
   "outputs": [],
   "source": [
    "# folha[[\"ano\", \"link\", \"paragrafos_resgatados\", \"paragrafos_tratados_sw\",\"metaforico\", \"painel_do_leitor\",\"opiniao\"]].to_excel(\"base_folha_de_analise.xlsx\", index = False)"
   ]
  },
  {
   "cell_type": "code",
   "execution_count": 77,
   "metadata": {},
   "outputs": [
    {
     "data": {
      "text/html": [
       "<div>\n",
       "<style scoped>\n",
       "    .dataframe tbody tr th:only-of-type {\n",
       "        vertical-align: middle;\n",
       "    }\n",
       "\n",
       "    .dataframe tbody tr th {\n",
       "        vertical-align: top;\n",
       "    }\n",
       "\n",
       "    .dataframe thead th {\n",
       "        text-align: right;\n",
       "    }\n",
       "</style>\n",
       "<table border=\"1\" class=\"dataframe\">\n",
       "  <thead>\n",
       "    <tr style=\"text-align: right;\">\n",
       "      <th></th>\n",
       "      <th>metaforico</th>\n",
       "      <th>painel_do_leitor</th>\n",
       "      <th>quantidade_painel_do_leitor</th>\n",
       "      <th>quantidade_metaforico</th>\n",
       "      <th>percentual</th>\n",
       "    </tr>\n",
       "  </thead>\n",
       "  <tbody>\n",
       "    <tr>\n",
       "      <th>0</th>\n",
       "      <td>nao</td>\n",
       "      <td>nao</td>\n",
       "      <td>1976</td>\n",
       "      <td>1997</td>\n",
       "      <td>98.948423</td>\n",
       "    </tr>\n",
       "    <tr>\n",
       "      <th>1</th>\n",
       "      <td>nao</td>\n",
       "      <td>sim</td>\n",
       "      <td>21</td>\n",
       "      <td>1997</td>\n",
       "      <td>1.051577</td>\n",
       "    </tr>\n",
       "    <tr>\n",
       "      <th>2</th>\n",
       "      <td>sim</td>\n",
       "      <td>nao</td>\n",
       "      <td>680</td>\n",
       "      <td>712</td>\n",
       "      <td>95.505618</td>\n",
       "    </tr>\n",
       "    <tr>\n",
       "      <th>3</th>\n",
       "      <td>sim</td>\n",
       "      <td>sim</td>\n",
       "      <td>32</td>\n",
       "      <td>712</td>\n",
       "      <td>4.494382</td>\n",
       "    </tr>\n",
       "  </tbody>\n",
       "</table>\n",
       "</div>"
      ],
      "text/plain": [
       "  metaforico painel_do_leitor  quantidade_painel_do_leitor  \\\n",
       "0        nao              nao                         1976   \n",
       "1        nao              sim                           21   \n",
       "2        sim              nao                          680   \n",
       "3        sim              sim                           32   \n",
       "\n",
       "   quantidade_metaforico  percentual  \n",
       "0                   1997   98.948423  \n",
       "1                   1997    1.051577  \n",
       "2                    712   95.505618  \n",
       "3                    712    4.494382  "
      ]
     },
     "execution_count": 77,
     "metadata": {},
     "output_type": "execute_result"
    }
   ],
   "source": [
    "# quantas cartas estão em cada tipo de classificação ? \n",
    "grp_metaforico_painel_do_leitor = folha.groupby([\"metaforico\", \"painel_do_leitor\"], as_index = False).size().rename(columns = {\"size\": \"quantidade_painel_do_leitor\"})\n",
    "grp_metaforico = folha.groupby(\"metaforico\", as_index = False).size().rename(columns = {\"size\": \"quantidade_metaforico\"})\n",
    "grp1 = grp_metaforico_painel_do_leitor.merge(grp_metaforico, on = \"metaforico\", how = \"left\")\n",
    "grp1[\"percentual\"] = (grp1[\"quantidade_painel_do_leitor\"] / grp1[\"quantidade_metaforico\"]) * 100\n",
    "grp1\n",
    "\n",
    "# A maior parte das cartas estão nos texto classificados como metafóricos"
   ]
  },
  {
   "cell_type": "markdown",
   "metadata": {},
   "source": [
    "### O que quer dizer? \n",
    "- Do que foi classificado como metafórico, 4.5% são originalmente do Painel do Leitor;"
   ]
  },
  {
   "cell_type": "code",
   "execution_count": 78,
   "metadata": {},
   "outputs": [
    {
     "data": {
      "image/png": "[encoded data removed]",
      "text/plain": [
       "<Figure size 1200x600 with 1 Axes>"
      ]
     },
     "metadata": {},
     "output_type": "display_data"
    }
   ],
   "source": [
    "plt.figure(figsize = (12,6))\n",
    "ax = sns.barplot(x = \"metaforico\", y = \"percentual\", hue = \"painel_do_leitor\", data = grp1)\n",
    "ax.set_xlabel(\"Sentido Metafórico\", fontsize = 15)\n",
    "ax.set_ylabel(\"Percentual\", fontsize = 15)\n",
    "ax.set_title(\"Painel do leitor no contexto metafórico | Folha\", fontsize = 18)\n",
    "ax.set_ylim(0, 110)\n",
    "for i in ax.containers:\n",
    "    ax.bar_label(i,)\n",
    "ax = ax "
   ]
  },
  {
   "cell_type": "code",
   "execution_count": null,
   "metadata": {},
   "outputs": [],
   "source": []
  },
  {
   "cell_type": "code",
   "execution_count": 79,
   "metadata": {},
   "outputs": [
    {
     "data": {
      "text/html": [
       "<div>\n",
       "<style scoped>\n",
       "    .dataframe tbody tr th:only-of-type {\n",
       "        vertical-align: middle;\n",
       "    }\n",
       "\n",
       "    .dataframe tbody tr th {\n",
       "        vertical-align: top;\n",
       "    }\n",
       "\n",
       "    .dataframe thead th {\n",
       "        text-align: right;\n",
       "    }\n",
       "</style>\n",
       "<table border=\"1\" class=\"dataframe\">\n",
       "  <thead>\n",
       "    <tr style=\"text-align: right;\">\n",
       "      <th></th>\n",
       "      <th>painel_do_leitor</th>\n",
       "      <th>metaforico</th>\n",
       "      <th>quantidade_metaforicos</th>\n",
       "      <th>quantidade_painel_do_leitor</th>\n",
       "      <th>percentual</th>\n",
       "    </tr>\n",
       "  </thead>\n",
       "  <tbody>\n",
       "    <tr>\n",
       "      <th>0</th>\n",
       "      <td>nao</td>\n",
       "      <td>nao</td>\n",
       "      <td>1976</td>\n",
       "      <td>2656</td>\n",
       "      <td>74.397590</td>\n",
       "    </tr>\n",
       "    <tr>\n",
       "      <th>1</th>\n",
       "      <td>nao</td>\n",
       "      <td>sim</td>\n",
       "      <td>680</td>\n",
       "      <td>2656</td>\n",
       "      <td>25.602410</td>\n",
       "    </tr>\n",
       "    <tr>\n",
       "      <th>2</th>\n",
       "      <td>sim</td>\n",
       "      <td>nao</td>\n",
       "      <td>21</td>\n",
       "      <td>53</td>\n",
       "      <td>39.622642</td>\n",
       "    </tr>\n",
       "    <tr>\n",
       "      <th>3</th>\n",
       "      <td>sim</td>\n",
       "      <td>sim</td>\n",
       "      <td>32</td>\n",
       "      <td>53</td>\n",
       "      <td>60.377358</td>\n",
       "    </tr>\n",
       "  </tbody>\n",
       "</table>\n",
       "</div>"
      ],
      "text/plain": [
       "  painel_do_leitor metaforico  quantidade_metaforicos  \\\n",
       "0              nao        nao                    1976   \n",
       "1              nao        sim                     680   \n",
       "2              sim        nao                      21   \n",
       "3              sim        sim                      32   \n",
       "\n",
       "   quantidade_painel_do_leitor  percentual  \n",
       "0                         2656   74.397590  \n",
       "1                         2656   25.602410  \n",
       "2                           53   39.622642  \n",
       "3                           53   60.377358  "
      ]
     },
     "execution_count": 79,
     "metadata": {},
     "output_type": "execute_result"
    }
   ],
   "source": [
    "grp_painel_do_leitor_metaforico = folha.groupby([\"painel_do_leitor\", \"metaforico\"], as_index = False).size().rename(columns = {\"size\": \"quantidade_metaforicos\"})\n",
    "grp_painel_do_leitor = folha.groupby(\"painel_do_leitor\", as_index = False).size().rename(columns = {\"size\": \"quantidade_painel_do_leitor\"})\n",
    "grp11 = grp_painel_do_leitor_metaforico.merge(grp_painel_do_leitor, on = \"painel_do_leitor\", how = \"left\")\n",
    "grp11[\"percentual\"] = (grp11[\"quantidade_metaforicos\"] / grp11[\"quantidade_painel_do_leitor\"]) * 100\n",
    "grp11\n"
   ]
  },
  {
   "cell_type": "markdown",
   "metadata": {},
   "source": [
    "### O que quer dizer?\n",
    "- Do Painel do Leitor encontrado, 60% foi calsssificado com uso no sentido metafórico;\n",
    "- Do que não é Painel do leitor, 25% foi classificado como metafórico;"
   ]
  },
  {
   "cell_type": "code",
   "execution_count": 80,
   "metadata": {},
   "outputs": [
    {
     "data": {
      "image/png": "[encoded data removed]",
      "text/plain": [
       "<Figure size 1200x600 with 1 Axes>"
      ]
     },
     "metadata": {},
     "output_type": "display_data"
    }
   ],
   "source": [
    "plt.figure(figsize = (12,6))\n",
    "ax = sns.barplot(x = \"painel_do_leitor\", y = \"percentual\", hue = \"metaforico\", data = grp11)\n",
    "ax.set_xlabel(\"Painel do Leitor\", fontsize = 15)\n",
    "ax.set_ylabel(\"Percentual\", fontsize = 15)\n",
    "ax.set_title(\"Contexto metafórico em Painel do Leitor | Folha\", fontsize = 18)\n",
    "ax.set_ylim(0, 110)\n",
    "for i in ax.containers:\n",
    "    ax.bar_label(i,)\n",
    "ax = ax "
   ]
  },
  {
   "cell_type": "markdown",
   "metadata": {},
   "source": [
    "# Análises de proporcionalidades"
   ]
  },
  {
   "cell_type": "code",
   "execution_count": 81,
   "metadata": {},
   "outputs": [
    {
     "data": {
      "text/html": [
       "<div>\n",
       "<style scoped>\n",
       "    .dataframe tbody tr th:only-of-type {\n",
       "        vertical-align: middle;\n",
       "    }\n",
       "\n",
       "    .dataframe tbody tr th {\n",
       "        vertical-align: top;\n",
       "    }\n",
       "\n",
       "    .dataframe thead th {\n",
       "        text-align: right;\n",
       "    }\n",
       "</style>\n",
       "<table border=\"1\" class=\"dataframe\">\n",
       "  <thead>\n",
       "    <tr style=\"text-align: right;\">\n",
       "      <th></th>\n",
       "      <th>painel_do_leitor</th>\n",
       "      <th>metaforico</th>\n",
       "      <th>quantidade_metaforicos</th>\n",
       "    </tr>\n",
       "  </thead>\n",
       "  <tbody>\n",
       "    <tr>\n",
       "      <th>0</th>\n",
       "      <td>nao</td>\n",
       "      <td>nao</td>\n",
       "      <td>1976</td>\n",
       "    </tr>\n",
       "    <tr>\n",
       "      <th>1</th>\n",
       "      <td>nao</td>\n",
       "      <td>sim</td>\n",
       "      <td>680</td>\n",
       "    </tr>\n",
       "    <tr>\n",
       "      <th>2</th>\n",
       "      <td>sim</td>\n",
       "      <td>nao</td>\n",
       "      <td>21</td>\n",
       "    </tr>\n",
       "    <tr>\n",
       "      <th>3</th>\n",
       "      <td>sim</td>\n",
       "      <td>sim</td>\n",
       "      <td>32</td>\n",
       "    </tr>\n",
       "  </tbody>\n",
       "</table>\n",
       "</div>"
      ],
      "text/plain": [
       "  painel_do_leitor metaforico  quantidade_metaforicos\n",
       "0              nao        nao                    1976\n",
       "1              nao        sim                     680\n",
       "2              sim        nao                      21\n",
       "3              sim        sim                      32"
      ]
     },
     "execution_count": 81,
     "metadata": {},
     "output_type": "execute_result"
    }
   ],
   "source": [
    "grp_painel_do_leitor_metaforico"
   ]
  },
  {
   "cell_type": "markdown",
   "metadata": {},
   "source": [
    "## O que significa: \n",
    "- Dentre os textos do Painel do Leitor, os texto classficados como não-metafórico estão na proporção de 1:1.52. Ou seja, a cada um painel do leitor classificada como não-metafórico, temos 1.52 classficadas como metafórico\n",
    "- Dentre os textos de comuns, os textos calssificados como não-metafóricos estão na proporção de 1:0.34. Ou seja, a cada um painel do leitor classificada como não-metafórico, temos 0.34 sendo classificadas como metafóricos"
   ]
  },
  {
   "cell_type": "code",
   "execution_count": 82,
   "metadata": {},
   "outputs": [
    {
     "name": "stderr",
     "output_type": "stream",
     "text": [
      "[NbConvertApp] Converting notebook analise_painel_do_leitor_folha.ipynb to html\n",
      "[NbConvertApp] Writing 674822 bytes to analise_painel_do_leitor_folha.html\n"
     ]
    }
   ],
   "source": [
    "!jupyter nbconvert --to html --no-input analise_painel_do_leitor_folha.ipynb"
   ]
  },
  {
   "cell_type": "code",
   "execution_count": 83,
   "metadata": {},
   "outputs": [],
   "source": [
    "# folha.to_excel(\"base_aplicacao_resultado/folha_cartas_identificadas.xlsx\", index = False)\n",
    "# estadao.to_excel(\"base_aplicacao_resultado/estadao_cartas_identificadas.xlsx\", index = False)"
   ]
  },
  {
   "cell_type": "code",
   "execution_count": null,
   "metadata": {},
   "outputs": [],
   "source": []
  }
 ],
 "metadata": {
  "kernelspec": {
   "display_name": "Python 3.7.13 ('tf-venv')",
   "language": "python",
   "name": "python3"
  },
  "language_info": {
   "codemirror_mode": {
    "name": "ipython",
    "version": 3
   },
   "file_extension": ".py",
   "mimetype": "text/x-python",
   "name": "python",
   "nbconvert_exporter": "python",
   "pygments_lexer": "ipython3",
   "version": "3.7.13"
  },
  "orig_nbformat": 4,
  "vscode": {
   "interpreter": {
    "hash": "a620e751919bbf4798da0a31f572336cd659817a2a18c3ab87fc834e5f2384e8"
   }
  }
 },
 "nbformat": 4,
 "nbformat_minor": 2
}
