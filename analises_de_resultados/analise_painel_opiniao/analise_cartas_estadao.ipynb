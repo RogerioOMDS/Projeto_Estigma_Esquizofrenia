{
 "cells": [
  {
   "cell_type": "code",
   "execution_count": 16,
   "metadata": {},
   "outputs": [],
   "source": [
    "import pandas as pd \n",
    "import numpy as np\n",
    "import matplotlib.pyplot as plt \n",
    "import seaborn as sns"
   ]
  },
  {
   "cell_type": "code",
   "execution_count": 17,
   "metadata": {},
   "outputs": [],
   "source": [
    "estadao_url = \"../base_aplicacao_resultado/rotulado_tratado_links_estadao_resgatados.csv\""
   ]
  },
  {
   "cell_type": "code",
   "execution_count": 18,
   "metadata": {},
   "outputs": [
    {
     "name": "stdout",
     "output_type": "stream",
     "text": [
      "Quantidade dados Estadão:  (2398, 6)\n"
     ]
    }
   ],
   "source": [
    "estadao = pd.read_csv(estadao_url, index_col = [0])\n",
    "print(\"Quantidade dados Estadão: \", estadao.shape)"
   ]
  },
  {
   "cell_type": "markdown",
   "metadata": {},
   "source": [
    "# ANÁLISE DE CLASSIFICAÇÃO ENTRE AS CARTAS DO ESTADÃO"
   ]
  },
  {
   "cell_type": "code",
   "execution_count": 19,
   "metadata": {},
   "outputs": [],
   "source": [
    "estadao.loc[(estadao.links.str.contains(\"/opiniao.estadao.\")) & (estadao.links.str.contains(\"cartas\") | estadao.links.str.contains(\"forum-dos-leitores\")), \"cartas\"] = \"sim\"\n",
    "estadao.cartas.fillna(\"nao\", inplace = True)"
   ]
  },
  {
   "cell_type": "code",
   "execution_count": 20,
   "metadata": {},
   "outputs": [
    {
     "name": "stdout",
     "output_type": "stream",
     "text": [
      "Quantidad de cartas Estadão\n",
      "\n"
     ]
    },
    {
     "data": {
      "text/plain": [
       "nao    2204\n",
       "sim     194\n",
       "Name: cartas, dtype: int64"
      ]
     },
     "execution_count": 20,
     "metadata": {},
     "output_type": "execute_result"
    }
   ],
   "source": [
    "print(\"Quantidad de cartas Estadão\\n\")\n",
    "estadao.cartas.value_counts()"
   ]
  },
  {
   "cell_type": "code",
   "execution_count": 21,
   "metadata": {},
   "outputs": [],
   "source": [
    "estadao[\"metaforico\"] = estadao.metaforico_pred.map({1: \"sim\", 0:\"nao\"}) "
   ]
  },
  {
   "cell_type": "code",
   "execution_count": 22,
   "metadata": {},
   "outputs": [],
   "source": [
    "# estadao.loc[(estadao.links.str.contains(\"/opiniao.estadao.\")) & ~(estadao.links.str.contains(\"cartas\") | estadao.links.str.contains(\"forum-dos-leitores\")), \"opiniao\"] = \"sim\"\n",
    "# estadao.opiniao.fillna(\"nao\", inplace = True)"
   ]
  },
  {
   "cell_type": "code",
   "execution_count": 23,
   "metadata": {},
   "outputs": [],
   "source": [
    "# estadao[[\"ano\",\"links\",\"paragrafos_resgatados\", \"paragrafos_tratados_sw\",\"metaforico\", \"cartas\", \"opiniao\"]].to_excel(\"base_estadao_de_analise.xlsx\", index = False)"
   ]
  },
  {
   "cell_type": "code",
   "execution_count": 24,
   "metadata": {},
   "outputs": [
    {
     "data": {
      "text/html": [
       "<div>\n",
       "<style scoped>\n",
       "    .dataframe tbody tr th:only-of-type {\n",
       "        vertical-align: middle;\n",
       "    }\n",
       "\n",
       "    .dataframe tbody tr th {\n",
       "        vertical-align: top;\n",
       "    }\n",
       "\n",
       "    .dataframe thead th {\n",
       "        text-align: right;\n",
       "    }\n",
       "</style>\n",
       "<table border=\"1\" class=\"dataframe\">\n",
       "  <thead>\n",
       "    <tr style=\"text-align: right;\">\n",
       "      <th></th>\n",
       "      <th>metaforico</th>\n",
       "      <th>cartas</th>\n",
       "      <th>quantidade_cartas</th>\n",
       "      <th>quantidade_metaforico</th>\n",
       "      <th>percentual</th>\n",
       "    </tr>\n",
       "  </thead>\n",
       "  <tbody>\n",
       "    <tr>\n",
       "      <th>0</th>\n",
       "      <td>nao</td>\n",
       "      <td>nao</td>\n",
       "      <td>1349</td>\n",
       "      <td>1364</td>\n",
       "      <td>98.900293</td>\n",
       "    </tr>\n",
       "    <tr>\n",
       "      <th>1</th>\n",
       "      <td>nao</td>\n",
       "      <td>sim</td>\n",
       "      <td>15</td>\n",
       "      <td>1364</td>\n",
       "      <td>1.099707</td>\n",
       "    </tr>\n",
       "    <tr>\n",
       "      <th>2</th>\n",
       "      <td>sim</td>\n",
       "      <td>nao</td>\n",
       "      <td>855</td>\n",
       "      <td>1034</td>\n",
       "      <td>82.688588</td>\n",
       "    </tr>\n",
       "    <tr>\n",
       "      <th>3</th>\n",
       "      <td>sim</td>\n",
       "      <td>sim</td>\n",
       "      <td>179</td>\n",
       "      <td>1034</td>\n",
       "      <td>17.311412</td>\n",
       "    </tr>\n",
       "  </tbody>\n",
       "</table>\n",
       "</div>"
      ],
      "text/plain": [
       "  metaforico cartas  quantidade_cartas  quantidade_metaforico  percentual\n",
       "0        nao    nao               1349                   1364   98.900293\n",
       "1        nao    sim                 15                   1364    1.099707\n",
       "2        sim    nao                855                   1034   82.688588\n",
       "3        sim    sim                179                   1034   17.311412"
      ]
     },
     "execution_count": 24,
     "metadata": {},
     "output_type": "execute_result"
    }
   ],
   "source": [
    "grp_metaforico_carta = estadao.groupby([\"metaforico\", \"cartas\"], as_index = False).size().rename(columns = {\"size\": \"quantidade_cartas\"})\n",
    "grp_metaforico = estadao.groupby(\"metaforico\", as_index = False).size().rename(columns = {\"size\": \"quantidade_metaforico\"})\n",
    "grp2 = grp_metaforico_carta.merge(grp_metaforico, on = \"metaforico\", how = \"left\")\n",
    "grp2[\"percentual\"] = (grp2[\"quantidade_cartas\"] / grp2[\"quantidade_metaforico\"]) * 100\n",
    "grp2"
   ]
  },
  {
   "cell_type": "markdown",
   "metadata": {},
   "source": [
    "### O que quer dizer? \n",
    "- Do que foi classificado como metafórico, 17% são originalmente textos de opinião;"
   ]
  },
  {
   "cell_type": "code",
   "execution_count": 25,
   "metadata": {},
   "outputs": [
    {
     "data": {
      "image/png": "[encoded data removed]",
      "text/plain": [
       "<Figure size 1200x600 with 1 Axes>"
      ]
     },
     "metadata": {},
     "output_type": "display_data"
    }
   ],
   "source": [
    "plt.figure(figsize = (12,6))\n",
    "ax = sns.barplot(x = \"metaforico\", y = \"percentual\", hue = \"cartas\", data = grp2)\n",
    "ax.set_xlabel(\"Sentido Metafórico\", fontsize = 15)\n",
    "ax.set_ylabel(\"Percentual\", fontsize = 15)\n",
    "ax.set_title(\"Cartas no contexto metafórico | ESTADÃO\", fontsize = 18)\n",
    "ax.set_ylim(0, 110)\n",
    "for i in ax.containers:\n",
    "    ax.bar_label(i,)\n",
    "ax = ax "
   ]
  },
  {
   "cell_type": "code",
   "execution_count": 26,
   "metadata": {},
   "outputs": [
    {
     "data": {
      "text/html": [
       "<div>\n",
       "<style scoped>\n",
       "    .dataframe tbody tr th:only-of-type {\n",
       "        vertical-align: middle;\n",
       "    }\n",
       "\n",
       "    .dataframe tbody tr th {\n",
       "        vertical-align: top;\n",
       "    }\n",
       "\n",
       "    .dataframe thead th {\n",
       "        text-align: right;\n",
       "    }\n",
       "</style>\n",
       "<table border=\"1\" class=\"dataframe\">\n",
       "  <thead>\n",
       "    <tr style=\"text-align: right;\">\n",
       "      <th></th>\n",
       "      <th>cartas</th>\n",
       "      <th>metaforico</th>\n",
       "      <th>quantidade_metaforicos</th>\n",
       "      <th>quantidade_cartas</th>\n",
       "      <th>percentual</th>\n",
       "    </tr>\n",
       "  </thead>\n",
       "  <tbody>\n",
       "    <tr>\n",
       "      <th>0</th>\n",
       "      <td>nao</td>\n",
       "      <td>nao</td>\n",
       "      <td>1349</td>\n",
       "      <td>2204</td>\n",
       "      <td>61.206897</td>\n",
       "    </tr>\n",
       "    <tr>\n",
       "      <th>1</th>\n",
       "      <td>nao</td>\n",
       "      <td>sim</td>\n",
       "      <td>855</td>\n",
       "      <td>2204</td>\n",
       "      <td>38.793103</td>\n",
       "    </tr>\n",
       "    <tr>\n",
       "      <th>2</th>\n",
       "      <td>sim</td>\n",
       "      <td>nao</td>\n",
       "      <td>15</td>\n",
       "      <td>194</td>\n",
       "      <td>7.731959</td>\n",
       "    </tr>\n",
       "    <tr>\n",
       "      <th>3</th>\n",
       "      <td>sim</td>\n",
       "      <td>sim</td>\n",
       "      <td>179</td>\n",
       "      <td>194</td>\n",
       "      <td>92.268041</td>\n",
       "    </tr>\n",
       "  </tbody>\n",
       "</table>\n",
       "</div>"
      ],
      "text/plain": [
       "  cartas metaforico  quantidade_metaforicos  quantidade_cartas  percentual\n",
       "0    nao        nao                    1349               2204   61.206897\n",
       "1    nao        sim                     855               2204   38.793103\n",
       "2    sim        nao                      15                194    7.731959\n",
       "3    sim        sim                     179                194   92.268041"
      ]
     },
     "execution_count": 26,
     "metadata": {},
     "output_type": "execute_result"
    }
   ],
   "source": [
    "grp_carta_metaforico = estadao.groupby([\"cartas\", \"metaforico\"], as_index = False).size().rename(columns = {\"size\": \"quantidade_metaforicos\"})\n",
    "grp_carta = estadao.groupby(\"cartas\", as_index = False).size().rename(columns = {\"size\": \"quantidade_cartas\"})\n",
    "grp22 = grp_carta_metaforico.merge(grp_carta, on = \"cartas\", how = \"left\")\n",
    "grp22[\"percentual\"] = (grp22[\"quantidade_metaforicos\"] / grp22[\"quantidade_cartas\"]) * 100\n",
    "grp22\n"
   ]
  },
  {
   "cell_type": "markdown",
   "metadata": {},
   "source": [
    "### O que quer dize?\n",
    "- Das cartas encontradas, 92% foi calsssificado com uso no sentido metafórico;\n",
    "- Do que não é carta, 38% foi classificado como metafórico;"
   ]
  },
  {
   "cell_type": "code",
   "execution_count": 27,
   "metadata": {},
   "outputs": [
    {
     "data": {
      "image/png": "[encoded data removed]",
      "text/plain": [
       "<Figure size 1200x600 with 1 Axes>"
      ]
     },
     "metadata": {},
     "output_type": "display_data"
    }
   ],
   "source": [
    "plt.figure(figsize = (12,6))\n",
    "ax = sns.barplot(x = \"cartas\", y = \"percentual\", hue = \"metaforico\", data = grp22)\n",
    "ax.set_xlabel(\"Carta\", fontsize = 15)\n",
    "ax.set_ylabel(\"Percentual\", fontsize = 15)\n",
    "ax.set_title(\"Contexto metafórico em cartas | ESTADÃO\", fontsize = 18)\n",
    "ax.set_ylim(0, 110)\n",
    "for i in ax.containers:\n",
    "    ax.bar_label(i,)\n",
    "ax = ax "
   ]
  },
  {
   "cell_type": "markdown",
   "metadata": {},
   "source": [
    "## Análise de proporcionalidade "
   ]
  },
  {
   "cell_type": "code",
   "execution_count": 28,
   "metadata": {},
   "outputs": [
    {
     "data": {
      "text/html": [
       "<div>\n",
       "<style scoped>\n",
       "    .dataframe tbody tr th:only-of-type {\n",
       "        vertical-align: middle;\n",
       "    }\n",
       "\n",
       "    .dataframe tbody tr th {\n",
       "        vertical-align: top;\n",
       "    }\n",
       "\n",
       "    .dataframe thead th {\n",
       "        text-align: right;\n",
       "    }\n",
       "</style>\n",
       "<table border=\"1\" class=\"dataframe\">\n",
       "  <thead>\n",
       "    <tr style=\"text-align: right;\">\n",
       "      <th></th>\n",
       "      <th>cartas</th>\n",
       "      <th>metaforico</th>\n",
       "      <th>quantidade_metaforicos</th>\n",
       "    </tr>\n",
       "  </thead>\n",
       "  <tbody>\n",
       "    <tr>\n",
       "      <th>0</th>\n",
       "      <td>nao</td>\n",
       "      <td>nao</td>\n",
       "      <td>1349</td>\n",
       "    </tr>\n",
       "    <tr>\n",
       "      <th>1</th>\n",
       "      <td>nao</td>\n",
       "      <td>sim</td>\n",
       "      <td>855</td>\n",
       "    </tr>\n",
       "    <tr>\n",
       "      <th>2</th>\n",
       "      <td>sim</td>\n",
       "      <td>nao</td>\n",
       "      <td>15</td>\n",
       "    </tr>\n",
       "    <tr>\n",
       "      <th>3</th>\n",
       "      <td>sim</td>\n",
       "      <td>sim</td>\n",
       "      <td>179</td>\n",
       "    </tr>\n",
       "  </tbody>\n",
       "</table>\n",
       "</div>"
      ],
      "text/plain": [
       "  cartas metaforico  quantidade_metaforicos\n",
       "0    nao        nao                    1349\n",
       "1    nao        sim                     855\n",
       "2    sim        nao                      15\n",
       "3    sim        sim                     179"
      ]
     },
     "execution_count": 28,
     "metadata": {},
     "output_type": "execute_result"
    }
   ],
   "source": [
    "grp_carta_metaforico"
   ]
  },
  {
   "cell_type": "markdown",
   "metadata": {},
   "source": [
    "## O que significa: \n",
    "- Dentre os textos de carta, os texto classficados como não-metafórico estão na proporção de 1:11.9. Ou seja, a cada uma carta classificada como não-metafórico, temos 11.9 classficadas como metafórico;\n",
    "- Dentre os textos comuns, os textos calssificados como não-metafóricos estão na proporção de 1:0.63. Ou seja, a cada um carta classificada como não-metafórico, temos 0.63 sendo classificadas como metafóricos"
   ]
  },
  {
   "cell_type": "code",
   "execution_count": 29,
   "metadata": {},
   "outputs": [
    {
     "name": "stderr",
     "output_type": "stream",
     "text": [
      "[NbConvertApp] Converting notebook analise_cartas_estadao.ipynb to html\n",
      "[NbConvertApp] Writing 666696 bytes to analise_cartas_estadao.html\n"
     ]
    }
   ],
   "source": [
    "!jupyter nbconvert --to html --no-input analise_cartas_estadao.ipynb"
   ]
  },
  {
   "cell_type": "code",
   "execution_count": 30,
   "metadata": {},
   "outputs": [],
   "source": [
    "# folha.to_excel(\"base_aplicacao_resultado/folha_cartas_identificadas.xlsx\", index = False)\n",
    "# estadao.to_excel(\"base_aplicacao_resultado/estadao_cartas_identificadas.xlsx\", index = False)"
   ]
  },
  {
   "cell_type": "code",
   "execution_count": null,
   "metadata": {},
   "outputs": [],
   "source": []
  }
 ],
 "metadata": {
  "kernelspec": {
   "display_name": "Python 3.10.4 64-bit",
   "language": "python",
   "name": "python3"
  },
  "language_info": {
   "codemirror_mode": {
    "name": "ipython",
    "version": 3
   },
   "file_extension": ".py",
   "mimetype": "text/x-python",
   "name": "python",
   "nbconvert_exporter": "python",
   "pygments_lexer": "ipython3",
   "version": "3.10.4"
  },
  "orig_nbformat": 4,
  "vscode": {
   "interpreter": {
    "hash": "2ad2ee33b41c9e762ad5bf2f0a3cb009dc3eaf5b09d1ee5fae31ac4a948dfd78"
   }
  }
 },
 "nbformat": 4,
 "nbformat_minor": 2
}
