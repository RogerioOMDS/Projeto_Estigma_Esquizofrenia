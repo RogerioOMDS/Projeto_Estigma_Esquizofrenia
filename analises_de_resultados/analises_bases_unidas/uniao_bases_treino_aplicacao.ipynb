{
 "cells": [
  {
   "cell_type": "code",
   "execution_count": 1,
   "metadata": {},
   "outputs": [],
   "source": [
    "import pandas as pd \n",
    "import numpy as np "
   ]
  },
  {
   "cell_type": "code",
   "execution_count": 2,
   "metadata": {},
   "outputs": [],
   "source": [
    "url_folha_aplicacao = \"bases/base_folha_app_analise.csv\"\n",
    "url_estadao_aplicacao = \"../base_aplicacao_resultado/rotulado_tratado_links_estadao_resgatados.csv\"\n",
    "\n",
    "url_folha_treino = \"bases/base_folha_treino_analise.csv\"\n",
    "url_estadao_treino = \"../../s3_base_vetorizada_600/bases_treino_teste/tratado_links_estadao_rotulados_base_estigma_resgatados.csv\"\n",
    "\n",
    "url_estadao_validacao = \"../../s3_base_vetorizada_600/bases_treino_teste/tratado_links_estadao_rotulados_resgatados.csv\""
   ]
  },
  {
   "cell_type": "code",
   "execution_count": 3,
   "metadata": {},
   "outputs": [
    {
     "name": "stdout",
     "output_type": "stream",
     "text": [
      "Tamanho follha aplicacao:  (3318, 12)\n",
      "Tamanho folha treino:  (1312, 14)\n",
      "Tamanho estadao aplicacao: (2398, 8)\n"
     ]
    }
   ],
   "source": [
    "folha_app = pd.read_csv(url_folha_aplicacao)\n",
    "folha_app[\"rotulacao\"] = \"modelo\"\n",
    "print(\"Tamanho follha aplicacao: \", folha_app.shape)\n",
    "\n",
    "folha_treino = pd.read_csv(url_folha_treino)\n",
    "folha_treino[\"rotulacao\"] = \"manual\"\n",
    "print(\"Tamanho folha treino: \", folha_treino.shape)\n",
    "\n",
    "estadao_app = pd.read_csv(url_estadao_aplicacao) \n",
    "estadao_app[\"rotulacao\"] = \"modelo\"\n",
    "print(\"Tamanho estadao aplicacao:\", estadao_app.shape)\n",
    "\n",
    "# estadao_treino = pd.read_csv(url_estadao_treino) \n",
    "# estadao_treino[\"rotulacao\"] = \"manual\"\n",
    "# print(\"Tamanho estadao treino: \", estadao_treino.shape)\n",
    "\n",
    "# estadao_val = pd.read_csv(url_estadao_validacao) \n",
    "# estadao_val[\"rotulacao\"] = \"manual\"\n",
    "# print(\"Tamanho estadao validacao: \", estadao_val.shape)"
   ]
  },
  {
   "cell_type": "code",
   "execution_count": 4,
   "metadata": {},
   "outputs": [],
   "source": [
    "estadao_app[\"metaforico\"] = estadao_app[\"metaforico_pred\"].map({0: \"nao\", 1:\"sim\"})"
   ]
  },
  {
   "cell_type": "code",
   "execution_count": 5,
   "metadata": {},
   "outputs": [],
   "source": [
    "estadao_app.loc[(estadao_app.links.str.contains(\"/opiniao.estadao.\")) & ~(estadao_app.links.str.contains(\"cartas\") | estadao_app.links.str.contains(\"forum-dos-leitores\")), \"opiniao\"] = \"sim\"\n",
    "estadao_app.opiniao.fillna(\"nao\", inplace = True)"
   ]
  },
  {
   "cell_type": "code",
   "execution_count": 6,
   "metadata": {},
   "outputs": [],
   "source": [
    "estadao_app.loc[(estadao_app.links.str.contains(\"/opiniao.estadao.\")) & (estadao_app.links.str.contains(\"cartas\") | estadao_app.links.str.contains(\"forum-dos-leitores\")), \"cartas\"] = \"sim\"\n",
    "estadao_app.cartas.fillna(\"nao\", inplace = True)"
   ]
  },
  {
   "cell_type": "code",
   "execution_count": 7,
   "metadata": {},
   "outputs": [],
   "source": [
    "eap = estadao_app[[\"ano\", \"links\", \"paragrafos_resgatados\", \"paragrafos_tratados_sw\", \"rotulacao\", \"metaforico\", \"opiniao\", \"cartas\"]]"
   ]
  },
  {
   "cell_type": "code",
   "execution_count": 8,
   "metadata": {},
   "outputs": [],
   "source": [
    "eap.to_excel(\"base_final_estadao.xlsx\", index = False)"
   ]
  },
  {
   "cell_type": "code",
   "execution_count": 9,
   "metadata": {},
   "outputs": [],
   "source": [
    "folha_app[\"metaforico\"] = folha_app[\"metaforico_pred\"].map({0:\"nao\", 1:\"sim\"})"
   ]
  },
  {
   "cell_type": "code",
   "execution_count": 10,
   "metadata": {},
   "outputs": [
    {
     "data": {
      "text/html": [
       "<div>\n",
       "<style scoped>\n",
       "    .dataframe tbody tr th:only-of-type {\n",
       "        vertical-align: middle;\n",
       "    }\n",
       "\n",
       "    .dataframe tbody tr th {\n",
       "        vertical-align: top;\n",
       "    }\n",
       "\n",
       "    .dataframe thead th {\n",
       "        text-align: right;\n",
       "    }\n",
       "</style>\n",
       "<table border=\"1\" class=\"dataframe\">\n",
       "  <thead>\n",
       "    <tr style=\"text-align: right;\">\n",
       "      <th></th>\n",
       "      <th>ano</th>\n",
       "      <th>link</th>\n",
       "      <th>paragrafos_resgatados</th>\n",
       "      <th>paragrafos_tratados_sw</th>\n",
       "      <th>rotulacao</th>\n",
       "      <th>metaforico</th>\n",
       "      <th>opiniao</th>\n",
       "      <th>painel_do_leitor</th>\n",
       "    </tr>\n",
       "  </thead>\n",
       "  <tbody>\n",
       "    <tr>\n",
       "      <th>0</th>\n",
       "      <td>2001</td>\n",
       "      <td>http://www1.folha.uol.com.br/fsp/ilustrad/fq04...</td>\n",
       "      <td>['É uma idiotice. Mas é o preço do sucesso dos...</td>\n",
       "      <td>idiotice preço sucesso antidepressivos transfo...</td>\n",
       "      <td>modelo</td>\n",
       "      <td>nao</td>\n",
       "      <td>nao</td>\n",
       "      <td>nao</td>\n",
       "    </tr>\n",
       "    <tr>\n",
       "      <th>1</th>\n",
       "      <td>2001</td>\n",
       "      <td>http://www1.folha.uol.com.br/folha/mundo/ult94...</td>\n",
       "      <td>['Os transtornos psíquicos, inclusive as manif...</td>\n",
       "      <td>transtornos psíquicos manifestações depressiva...</td>\n",
       "      <td>modelo</td>\n",
       "      <td>nao</td>\n",
       "      <td>nao</td>\n",
       "      <td>nao</td>\n",
       "    </tr>\n",
       "    <tr>\n",
       "      <th>2</th>\n",
       "      <td>2001</td>\n",
       "      <td>http://www1.folha.uol.com.br/fsp/ilustrad/fq10...</td>\n",
       "      <td>['O artista plástico Ubirajara Ferreira Braga ...</td>\n",
       "      <td>artista plástico ubirajara ferreira braga come...</td>\n",
       "      <td>modelo</td>\n",
       "      <td>nao</td>\n",
       "      <td>nao</td>\n",
       "      <td>nao</td>\n",
       "    </tr>\n",
       "    <tr>\n",
       "      <th>3</th>\n",
       "      <td>2001</td>\n",
       "      <td>http://www1.folha.uol.com.br/folha/ciencia/ult...</td>\n",
       "      <td>['Folha Online - Ciência - Israelenses descobr...</td>\n",
       "      <td>folha online ciência israelenses descobrem gen...</td>\n",
       "      <td>modelo</td>\n",
       "      <td>nao</td>\n",
       "      <td>nao</td>\n",
       "      <td>nao</td>\n",
       "    </tr>\n",
       "    <tr>\n",
       "      <th>4</th>\n",
       "      <td>2001</td>\n",
       "      <td>http://www1.folha.uol.com.br/folha/ciencia/ult...</td>\n",
       "      <td>['Folha Online - Ciência - Israelenses descobr...</td>\n",
       "      <td>pesquisadores israelenses descobriu gene servi...</td>\n",
       "      <td>modelo</td>\n",
       "      <td>nao</td>\n",
       "      <td>nao</td>\n",
       "      <td>nao</td>\n",
       "    </tr>\n",
       "  </tbody>\n",
       "</table>\n",
       "</div>"
      ],
      "text/plain": [
       "    ano                                               link  \\\n",
       "0  2001  http://www1.folha.uol.com.br/fsp/ilustrad/fq04...   \n",
       "1  2001  http://www1.folha.uol.com.br/folha/mundo/ult94...   \n",
       "2  2001  http://www1.folha.uol.com.br/fsp/ilustrad/fq10...   \n",
       "3  2001  http://www1.folha.uol.com.br/folha/ciencia/ult...   \n",
       "4  2001  http://www1.folha.uol.com.br/folha/ciencia/ult...   \n",
       "\n",
       "                               paragrafos_resgatados  \\\n",
       "0  ['É uma idiotice. Mas é o preço do sucesso dos...   \n",
       "1  ['Os transtornos psíquicos, inclusive as manif...   \n",
       "2  ['O artista plástico Ubirajara Ferreira Braga ...   \n",
       "3  ['Folha Online - Ciência - Israelenses descobr...   \n",
       "4  ['Folha Online - Ciência - Israelenses descobr...   \n",
       "\n",
       "                              paragrafos_tratados_sw rotulacao metaforico  \\\n",
       "0  idiotice preço sucesso antidepressivos transfo...    modelo        nao   \n",
       "1  transtornos psíquicos manifestações depressiva...    modelo        nao   \n",
       "2  artista plástico ubirajara ferreira braga come...    modelo        nao   \n",
       "3  folha online ciência israelenses descobrem gen...    modelo        nao   \n",
       "4  pesquisadores israelenses descobriu gene servi...    modelo        nao   \n",
       "\n",
       "  opiniao painel_do_leitor  \n",
       "0     nao              nao  \n",
       "1     nao              nao  \n",
       "2     nao              nao  \n",
       "3     nao              nao  \n",
       "4     nao              nao  "
      ]
     },
     "execution_count": 10,
     "metadata": {},
     "output_type": "execute_result"
    }
   ],
   "source": [
    "fap = folha_app[[\"ano\", \"link\", \"paragrafos_resgatados\", \"paragrafos_tratados_sw\", \"rotulacao\", \"metaforico\", \"opiniao\", \"painel_do_leitor\"]]\n",
    "fap.head()"
   ]
  },
  {
   "cell_type": "code",
   "execution_count": 11,
   "metadata": {},
   "outputs": [],
   "source": [
    "folha_treino[\"metaforico_pred\"] = folha_treino[\"metaforico\"]\n",
    "folha_treino[\"metaforico\"] = folha_treino[\"metaforico_pred\"].map({0:\"nao\", 1:\"sim\"})\n",
    "folha_treino[\"ano\"] = folha_treino[\"data\"].apply(lambda x: str(x)[:4])"
   ]
  },
  {
   "cell_type": "code",
   "execution_count": 12,
   "metadata": {},
   "outputs": [
    {
     "data": {
      "text/html": [
       "<div>\n",
       "<style scoped>\n",
       "    .dataframe tbody tr th:only-of-type {\n",
       "        vertical-align: middle;\n",
       "    }\n",
       "\n",
       "    .dataframe tbody tr th {\n",
       "        vertical-align: top;\n",
       "    }\n",
       "\n",
       "    .dataframe thead th {\n",
       "        text-align: right;\n",
       "    }\n",
       "</style>\n",
       "<table border=\"1\" class=\"dataframe\">\n",
       "  <thead>\n",
       "    <tr style=\"text-align: right;\">\n",
       "      <th></th>\n",
       "      <th>ano</th>\n",
       "      <th>link</th>\n",
       "      <th>paragrafos_resgatados</th>\n",
       "      <th>paragrafos_tratados_sw</th>\n",
       "      <th>rotulacao</th>\n",
       "      <th>metaforico</th>\n",
       "      <th>opiniao</th>\n",
       "      <th>painel_do_leitor</th>\n",
       "    </tr>\n",
       "  </thead>\n",
       "  <tbody>\n",
       "    <tr>\n",
       "      <th>0</th>\n",
       "      <td>2001</td>\n",
       "      <td>https://www1.folha.uol.com.br/fsp/ilustrad/fq0...</td>\n",
       "      <td>['É uma idiotice. Mas é o preço do sucesso dos...</td>\n",
       "      <td>idiotice preço sucesso antidepressivos transfo...</td>\n",
       "      <td>manual</td>\n",
       "      <td>nao</td>\n",
       "      <td>nao</td>\n",
       "      <td>nao</td>\n",
       "    </tr>\n",
       "    <tr>\n",
       "      <th>1</th>\n",
       "      <td>2001</td>\n",
       "      <td>https://www1.folha.uol.com.br/folha/mundo/ult9...</td>\n",
       "      <td>['Os transtornos psíquicos, inclusive as manif...</td>\n",
       "      <td>transtornos psíquicos manifestações depressiva...</td>\n",
       "      <td>manual</td>\n",
       "      <td>nao</td>\n",
       "      <td>nao</td>\n",
       "      <td>nao</td>\n",
       "    </tr>\n",
       "    <tr>\n",
       "      <th>2</th>\n",
       "      <td>2001</td>\n",
       "      <td>https://www1.folha.uol.com.br/fsp/ilustrad/fq1...</td>\n",
       "      <td>['O artista plástico Ubirajara Ferreira Braga ...</td>\n",
       "      <td>artista plástico ubirajara ferreira braga come...</td>\n",
       "      <td>manual</td>\n",
       "      <td>nao</td>\n",
       "      <td>nao</td>\n",
       "      <td>nao</td>\n",
       "    </tr>\n",
       "    <tr>\n",
       "      <th>3</th>\n",
       "      <td>2001</td>\n",
       "      <td>https://www1.folha.uol.com.br/folha/ciencia/ul...</td>\n",
       "      <td>['Folha Online - Ciência - Israelenses descobr...</td>\n",
       "      <td>folha online ciência israelenses descobrem gen...</td>\n",
       "      <td>manual</td>\n",
       "      <td>nao</td>\n",
       "      <td>nao</td>\n",
       "      <td>nao</td>\n",
       "    </tr>\n",
       "    <tr>\n",
       "      <th>4</th>\n",
       "      <td>2001</td>\n",
       "      <td>https://www1.folha.uol.com.br/folha/ciencia/ul...</td>\n",
       "      <td>['Folha Online - Ciência - Israelenses descobr...</td>\n",
       "      <td>pesquisadores israelenses descobriu gene servi...</td>\n",
       "      <td>manual</td>\n",
       "      <td>nao</td>\n",
       "      <td>nao</td>\n",
       "      <td>nao</td>\n",
       "    </tr>\n",
       "  </tbody>\n",
       "</table>\n",
       "</div>"
      ],
      "text/plain": [
       "    ano                                               link  \\\n",
       "0  2001  https://www1.folha.uol.com.br/fsp/ilustrad/fq0...   \n",
       "1  2001  https://www1.folha.uol.com.br/folha/mundo/ult9...   \n",
       "2  2001  https://www1.folha.uol.com.br/fsp/ilustrad/fq1...   \n",
       "3  2001  https://www1.folha.uol.com.br/folha/ciencia/ul...   \n",
       "4  2001  https://www1.folha.uol.com.br/folha/ciencia/ul...   \n",
       "\n",
       "                               paragrafos_resgatados  \\\n",
       "0  ['É uma idiotice. Mas é o preço do sucesso dos...   \n",
       "1  ['Os transtornos psíquicos, inclusive as manif...   \n",
       "2  ['O artista plástico Ubirajara Ferreira Braga ...   \n",
       "3  ['Folha Online - Ciência - Israelenses descobr...   \n",
       "4  ['Folha Online - Ciência - Israelenses descobr...   \n",
       "\n",
       "                              paragrafos_tratados_sw rotulacao metaforico  \\\n",
       "0  idiotice preço sucesso antidepressivos transfo...    manual        nao   \n",
       "1  transtornos psíquicos manifestações depressiva...    manual        nao   \n",
       "2  artista plástico ubirajara ferreira braga come...    manual        nao   \n",
       "3  folha online ciência israelenses descobrem gen...    manual        nao   \n",
       "4  pesquisadores israelenses descobriu gene servi...    manual        nao   \n",
       "\n",
       "  opiniao painel_do_leitor  \n",
       "0     nao              nao  \n",
       "1     nao              nao  \n",
       "2     nao              nao  \n",
       "3     nao              nao  \n",
       "4     nao              nao  "
      ]
     },
     "execution_count": 12,
     "metadata": {},
     "output_type": "execute_result"
    }
   ],
   "source": [
    "ftr = folha_treino[[\"ano\", \"link\", \"paragrafos_resgatados\", \"paragrafos_tratados_sw\", \"rotulacao\", \"metaforico\", \"opiniao\", \"painel_do_leitor\"]]\n",
    "ftr.head()"
   ]
  },
  {
   "cell_type": "code",
   "execution_count": 13,
   "metadata": {},
   "outputs": [
    {
     "data": {
      "text/html": [
       "<div>\n",
       "<style scoped>\n",
       "    .dataframe tbody tr th:only-of-type {\n",
       "        vertical-align: middle;\n",
       "    }\n",
       "\n",
       "    .dataframe tbody tr th {\n",
       "        vertical-align: top;\n",
       "    }\n",
       "\n",
       "    .dataframe thead th {\n",
       "        text-align: right;\n",
       "    }\n",
       "</style>\n",
       "<table border=\"1\" class=\"dataframe\">\n",
       "  <thead>\n",
       "    <tr style=\"text-align: right;\">\n",
       "      <th></th>\n",
       "      <th>ano</th>\n",
       "      <th>link</th>\n",
       "      <th>paragrafos_resgatados</th>\n",
       "      <th>paragrafos_tratados_sw</th>\n",
       "      <th>rotulacao</th>\n",
       "      <th>metaforico</th>\n",
       "      <th>opiniao</th>\n",
       "      <th>painel_do_leitor</th>\n",
       "    </tr>\n",
       "  </thead>\n",
       "  <tbody>\n",
       "    <tr>\n",
       "      <th>0</th>\n",
       "      <td>2001</td>\n",
       "      <td>https://www1.folha.uol.com.br/fsp/ilustrad/fq0...</td>\n",
       "      <td>['É uma idiotice. Mas é o preço do sucesso dos...</td>\n",
       "      <td>idiotice preço sucesso antidepressivos transfo...</td>\n",
       "      <td>manual</td>\n",
       "      <td>nao</td>\n",
       "      <td>nao</td>\n",
       "      <td>nao</td>\n",
       "    </tr>\n",
       "    <tr>\n",
       "      <th>1</th>\n",
       "      <td>2001</td>\n",
       "      <td>https://www1.folha.uol.com.br/folha/mundo/ult9...</td>\n",
       "      <td>['Os transtornos psíquicos, inclusive as manif...</td>\n",
       "      <td>transtornos psíquicos manifestações depressiva...</td>\n",
       "      <td>manual</td>\n",
       "      <td>nao</td>\n",
       "      <td>nao</td>\n",
       "      <td>nao</td>\n",
       "    </tr>\n",
       "    <tr>\n",
       "      <th>2</th>\n",
       "      <td>2001</td>\n",
       "      <td>https://www1.folha.uol.com.br/fsp/ilustrad/fq1...</td>\n",
       "      <td>['O artista plástico Ubirajara Ferreira Braga ...</td>\n",
       "      <td>artista plástico ubirajara ferreira braga come...</td>\n",
       "      <td>manual</td>\n",
       "      <td>nao</td>\n",
       "      <td>nao</td>\n",
       "      <td>nao</td>\n",
       "    </tr>\n",
       "    <tr>\n",
       "      <th>3</th>\n",
       "      <td>2001</td>\n",
       "      <td>https://www1.folha.uol.com.br/folha/ciencia/ul...</td>\n",
       "      <td>['Folha Online - Ciência - Israelenses descobr...</td>\n",
       "      <td>folha online ciência israelenses descobrem gen...</td>\n",
       "      <td>manual</td>\n",
       "      <td>nao</td>\n",
       "      <td>nao</td>\n",
       "      <td>nao</td>\n",
       "    </tr>\n",
       "    <tr>\n",
       "      <th>4</th>\n",
       "      <td>2001</td>\n",
       "      <td>https://www1.folha.uol.com.br/folha/ciencia/ul...</td>\n",
       "      <td>['Folha Online - Ciência - Israelenses descobr...</td>\n",
       "      <td>pesquisadores israelenses descobriu gene servi...</td>\n",
       "      <td>manual</td>\n",
       "      <td>nao</td>\n",
       "      <td>nao</td>\n",
       "      <td>nao</td>\n",
       "    </tr>\n",
       "  </tbody>\n",
       "</table>\n",
       "</div>"
      ],
      "text/plain": [
       "    ano                                               link  \\\n",
       "0  2001  https://www1.folha.uol.com.br/fsp/ilustrad/fq0...   \n",
       "1  2001  https://www1.folha.uol.com.br/folha/mundo/ult9...   \n",
       "2  2001  https://www1.folha.uol.com.br/fsp/ilustrad/fq1...   \n",
       "3  2001  https://www1.folha.uol.com.br/folha/ciencia/ul...   \n",
       "4  2001  https://www1.folha.uol.com.br/folha/ciencia/ul...   \n",
       "\n",
       "                               paragrafos_resgatados  \\\n",
       "0  ['É uma idiotice. Mas é o preço do sucesso dos...   \n",
       "1  ['Os transtornos psíquicos, inclusive as manif...   \n",
       "2  ['O artista plástico Ubirajara Ferreira Braga ...   \n",
       "3  ['Folha Online - Ciência - Israelenses descobr...   \n",
       "4  ['Folha Online - Ciência - Israelenses descobr...   \n",
       "\n",
       "                              paragrafos_tratados_sw rotulacao metaforico  \\\n",
       "0  idiotice preço sucesso antidepressivos transfo...    manual        nao   \n",
       "1  transtornos psíquicos manifestações depressiva...    manual        nao   \n",
       "2  artista plástico ubirajara ferreira braga come...    manual        nao   \n",
       "3  folha online ciência israelenses descobrem gen...    manual        nao   \n",
       "4  pesquisadores israelenses descobriu gene servi...    manual        nao   \n",
       "\n",
       "  opiniao painel_do_leitor  \n",
       "0     nao              nao  \n",
       "1     nao              nao  \n",
       "2     nao              nao  \n",
       "3     nao              nao  \n",
       "4     nao              nao  "
      ]
     },
     "execution_count": 13,
     "metadata": {},
     "output_type": "execute_result"
    }
   ],
   "source": [
    "folha_completo = pd.concat([ftr, fap], axis = 0)\n",
    "folha_completo.head()"
   ]
  },
  {
   "cell_type": "code",
   "execution_count": 14,
   "metadata": {},
   "outputs": [
    {
     "data": {
      "text/plain": [
       "(4630, 8)"
      ]
     },
     "execution_count": 14,
     "metadata": {},
     "output_type": "execute_result"
    }
   ],
   "source": [
    "folha_completo.shape"
   ]
  },
  {
   "cell_type": "code",
   "execution_count": 15,
   "metadata": {},
   "outputs": [
    {
     "data": {
      "text/plain": [
       "nao    4542\n",
       "sim      88\n",
       "Name: painel_do_leitor, dtype: int64"
      ]
     },
     "execution_count": 15,
     "metadata": {},
     "output_type": "execute_result"
    }
   ],
   "source": [
    "folha_completo.painel_do_leitor.value_counts()"
   ]
  },
  {
   "cell_type": "code",
   "execution_count": 16,
   "metadata": {},
   "outputs": [],
   "source": [
    "folha_completo.to_excel(\"bases/base_final_folha_completo.xlsx\", index = False)"
   ]
  },
  {
   "cell_type": "code",
   "execution_count": null,
   "metadata": {},
   "outputs": [],
   "source": []
  }
 ],
 "metadata": {
  "kernelspec": {
   "display_name": "tf-venv",
   "language": "python",
   "name": "python3"
  },
  "language_info": {
   "codemirror_mode": {
    "name": "ipython",
    "version": 3
   },
   "file_extension": ".py",
   "mimetype": "text/x-python",
   "name": "python",
   "nbconvert_exporter": "python",
   "pygments_lexer": "ipython3",
   "version": "3.7.13"
  },
  "orig_nbformat": 4,
  "vscode": {
   "interpreter": {
    "hash": "a620e751919bbf4798da0a31f572336cd659817a2a18c3ab87fc834e5f2384e8"
   }
  }
 },
 "nbformat": 4,
 "nbformat_minor": 2
}
