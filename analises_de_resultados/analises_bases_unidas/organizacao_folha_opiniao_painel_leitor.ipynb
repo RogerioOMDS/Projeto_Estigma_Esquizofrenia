{
 "cells": [
  {
   "cell_type": "code",
   "execution_count": 3,
   "metadata": {},
   "outputs": [],
   "source": [
    "import pandas as pd \n",
    "import numpy as np\n",
    "import matplotlib.pyplot as plt \n",
    "import seaborn as sns\n",
    "from bs4 import BeautifulSoup\n",
    "import os\n",
    "from time import sleep\n",
    "from urllib.request import Request, urlopen\n",
    "from urllib.error import URLError, HTTPError\n",
    "import random "
   ]
  },
  {
   "cell_type": "code",
   "execution_count": 4,
   "metadata": {},
   "outputs": [],
   "source": [
    "import spacy\n",
    "nlp = spacy.load(\"pt_core_news_sm\")"
   ]
  },
  {
   "cell_type": "code",
   "execution_count": 12,
   "metadata": {},
   "outputs": [],
   "source": [
    "# folha_1_url = \"../../s3_base_vetorizada_600/bases_treino_teste/tratado_links_folha_rotulados_base_estigma_resgatados.csv\"\n",
    "folha_1_url = \"../base_aplicacao_resultado/rotulado_tratado_links_folha_sem_rotulo_resgatados.csv\""
   ]
  },
  {
   "cell_type": "code",
   "execution_count": 13,
   "metadata": {},
   "outputs": [
    {
     "name": "stdout",
     "output_type": "stream",
     "text": [
      "Quantidade dados folha:  (3318, 7)\n"
     ]
    }
   ],
   "source": [
    "folha = pd.read_csv(folha_1_url)\n",
    "print(\"Quantidade dados folha: \", folha.shape) "
   ]
  },
  {
   "cell_type": "code",
   "execution_count": 14,
   "metadata": {},
   "outputs": [
    {
     "data": {
      "text/html": [
       "<div>\n",
       "<style scoped>\n",
       "    .dataframe tbody tr th:only-of-type {\n",
       "        vertical-align: middle;\n",
       "    }\n",
       "\n",
       "    .dataframe tbody tr th {\n",
       "        vertical-align: top;\n",
       "    }\n",
       "\n",
       "    .dataframe thead th {\n",
       "        text-align: right;\n",
       "    }\n",
       "</style>\n",
       "<table border=\"1\" class=\"dataframe\">\n",
       "  <thead>\n",
       "    <tr style=\"text-align: right;\">\n",
       "      <th></th>\n",
       "      <th>Unnamed: 0</th>\n",
       "      <th>ano</th>\n",
       "      <th>link</th>\n",
       "      <th>paragrafos_resgatados</th>\n",
       "      <th>paragrafos_tratados_sw</th>\n",
       "      <th>paragrafos_tratados_sw_vetorizados</th>\n",
       "      <th>metaforico_pred</th>\n",
       "    </tr>\n",
       "  </thead>\n",
       "  <tbody>\n",
       "    <tr>\n",
       "      <th>0</th>\n",
       "      <td>0</td>\n",
       "      <td>2001</td>\n",
       "      <td>http://www1.folha.uol.com.br/fsp/ilustrad/fq04...</td>\n",
       "      <td>['É uma idiotice. Mas é o preço do sucesso dos...</td>\n",
       "      <td>idiotice preço sucesso antidepressivos transfo...</td>\n",
       "      <td>[[ 1.52341600e+00 -7.87311998e-01 -1.90507002e...</td>\n",
       "      <td>0</td>\n",
       "    </tr>\n",
       "    <tr>\n",
       "      <th>1</th>\n",
       "      <td>1</td>\n",
       "      <td>2001</td>\n",
       "      <td>http://www1.folha.uol.com.br/folha/mundo/ult94...</td>\n",
       "      <td>['Os transtornos psíquicos, inclusive as manif...</td>\n",
       "      <td>transtornos psíquicos manifestações depressiva...</td>\n",
       "      <td>[[-3.08092985e-01  8.02221035e-01  1.68601102e...</td>\n",
       "      <td>0</td>\n",
       "    </tr>\n",
       "    <tr>\n",
       "      <th>2</th>\n",
       "      <td>2</td>\n",
       "      <td>2001</td>\n",
       "      <td>http://www1.folha.uol.com.br/fsp/ilustrad/fq10...</td>\n",
       "      <td>['O artista plástico Ubirajara Ferreira Braga ...</td>\n",
       "      <td>artista plástico ubirajara ferreira braga come...</td>\n",
       "      <td>[[ 3.43677802e+00  1.09151603e+00  3.13246397e...</td>\n",
       "      <td>0</td>\n",
       "    </tr>\n",
       "    <tr>\n",
       "      <th>3</th>\n",
       "      <td>3</td>\n",
       "      <td>2001</td>\n",
       "      <td>http://www1.folha.uol.com.br/folha/ciencia/ult...</td>\n",
       "      <td>['Folha Online - Ciência - Israelenses descobr...</td>\n",
       "      <td>folha online ciência israelenses descobrem gen...</td>\n",
       "      <td>[[ 2.26201983e-01  5.72138001e-01  1.13995994e...</td>\n",
       "      <td>0</td>\n",
       "    </tr>\n",
       "    <tr>\n",
       "      <th>4</th>\n",
       "      <td>4</td>\n",
       "      <td>2001</td>\n",
       "      <td>http://www1.folha.uol.com.br/folha/ciencia/ult...</td>\n",
       "      <td>['Folha Online - Ciência - Israelenses descobr...</td>\n",
       "      <td>pesquisadores israelenses descobriu gene servi...</td>\n",
       "      <td>[[ 1.61639995e-01  1.52443696e+00  7.48734023e...</td>\n",
       "      <td>0</td>\n",
       "    </tr>\n",
       "    <tr>\n",
       "      <th>...</th>\n",
       "      <td>...</td>\n",
       "      <td>...</td>\n",
       "      <td>...</td>\n",
       "      <td>...</td>\n",
       "      <td>...</td>\n",
       "      <td>...</td>\n",
       "      <td>...</td>\n",
       "    </tr>\n",
       "    <tr>\n",
       "      <th>3313</th>\n",
       "      <td>3313</td>\n",
       "      <td>2017</td>\n",
       "      <td>https://www1.folha.uol.com.br/mercado/2017/08/...</td>\n",
       "      <td>['O anúncio agrada às empresas do setor, disse...</td>\n",
       "      <td>anúncio agrada empresas setor disse presidente...</td>\n",
       "      <td>[[ 1.27768403e+00 -5.16145026e-01  2.43840205e...</td>\n",
       "      <td>1</td>\n",
       "    </tr>\n",
       "    <tr>\n",
       "      <th>3314</th>\n",
       "      <td>3314</td>\n",
       "      <td>2018</td>\n",
       "      <td>https://f5.folha.uol.com.br/viva-bem/2018/06/a...</td>\n",
       "      <td>['Uma pesquisa publicada em 1998 no Journal of...</td>\n",
       "      <td>pesquisa publicada journal of child neurology ...</td>\n",
       "      <td>[[ 1.50322202e+00  2.85787299e+00  3.16622208e...</td>\n",
       "      <td>0</td>\n",
       "    </tr>\n",
       "    <tr>\n",
       "      <th>3315</th>\n",
       "      <td>3315</td>\n",
       "      <td>2019</td>\n",
       "      <td>https://www1.folha.uol.com.br/poder/2019/10/ev...</td>\n",
       "      <td>['\"O advogado e ex-ministro Admar e\\xa0a advog...</td>\n",
       "      <td>advogado admar advogada karina kufa trabalhand...</td>\n",
       "      <td>[[ 1.43166601e+00 -3.75220021e-01  1.10605499e...</td>\n",
       "      <td>1</td>\n",
       "    </tr>\n",
       "    <tr>\n",
       "      <th>3316</th>\n",
       "      <td>3316</td>\n",
       "      <td>2020</td>\n",
       "      <td>https://www1.folha.uol.com.br/opiniao/2020/01/...</td>\n",
       "      <td>['Tanta pressa gera reações esquizofrênicas. V...</td>\n",
       "      <td>pressa gera reações esquizofrênicas vejam busc...</td>\n",
       "      <td>[[ 2.43236    -1.50618503  4.50067598 -2.61170...</td>\n",
       "      <td>1</td>\n",
       "    </tr>\n",
       "    <tr>\n",
       "      <th>3317</th>\n",
       "      <td>3317</td>\n",
       "      <td>2021</td>\n",
       "      <td>https://www1.folha.uol.com.br/poder/2021/03/pr...</td>\n",
       "      <td>['Mas os professores do ódio, aqueles que baju...</td>\n",
       "      <td>professores ódio bajulavam governo pt recentem...</td>\n",
       "      <td>[[ 2.04011299e+00  3.06936021e-01  1.70109201e...</td>\n",
       "      <td>1</td>\n",
       "    </tr>\n",
       "  </tbody>\n",
       "</table>\n",
       "<p>3318 rows × 7 columns</p>\n",
       "</div>"
      ],
      "text/plain": [
       "      Unnamed: 0   ano                                               link  \\\n",
       "0              0  2001  http://www1.folha.uol.com.br/fsp/ilustrad/fq04...   \n",
       "1              1  2001  http://www1.folha.uol.com.br/folha/mundo/ult94...   \n",
       "2              2  2001  http://www1.folha.uol.com.br/fsp/ilustrad/fq10...   \n",
       "3              3  2001  http://www1.folha.uol.com.br/folha/ciencia/ult...   \n",
       "4              4  2001  http://www1.folha.uol.com.br/folha/ciencia/ult...   \n",
       "...          ...   ...                                                ...   \n",
       "3313        3313  2017  https://www1.folha.uol.com.br/mercado/2017/08/...   \n",
       "3314        3314  2018  https://f5.folha.uol.com.br/viva-bem/2018/06/a...   \n",
       "3315        3315  2019  https://www1.folha.uol.com.br/poder/2019/10/ev...   \n",
       "3316        3316  2020  https://www1.folha.uol.com.br/opiniao/2020/01/...   \n",
       "3317        3317  2021  https://www1.folha.uol.com.br/poder/2021/03/pr...   \n",
       "\n",
       "                                  paragrafos_resgatados  \\\n",
       "0     ['É uma idiotice. Mas é o preço do sucesso dos...   \n",
       "1     ['Os transtornos psíquicos, inclusive as manif...   \n",
       "2     ['O artista plástico Ubirajara Ferreira Braga ...   \n",
       "3     ['Folha Online - Ciência - Israelenses descobr...   \n",
       "4     ['Folha Online - Ciência - Israelenses descobr...   \n",
       "...                                                 ...   \n",
       "3313  ['O anúncio agrada às empresas do setor, disse...   \n",
       "3314  ['Uma pesquisa publicada em 1998 no Journal of...   \n",
       "3315  ['\"O advogado e ex-ministro Admar e\\xa0a advog...   \n",
       "3316  ['Tanta pressa gera reações esquizofrênicas. V...   \n",
       "3317  ['Mas os professores do ódio, aqueles que baju...   \n",
       "\n",
       "                                 paragrafos_tratados_sw  \\\n",
       "0     idiotice preço sucesso antidepressivos transfo...   \n",
       "1     transtornos psíquicos manifestações depressiva...   \n",
       "2     artista plástico ubirajara ferreira braga come...   \n",
       "3     folha online ciência israelenses descobrem gen...   \n",
       "4     pesquisadores israelenses descobriu gene servi...   \n",
       "...                                                 ...   \n",
       "3313  anúncio agrada empresas setor disse presidente...   \n",
       "3314  pesquisa publicada journal of child neurology ...   \n",
       "3315  advogado admar advogada karina kufa trabalhand...   \n",
       "3316  pressa gera reações esquizofrênicas vejam busc...   \n",
       "3317  professores ódio bajulavam governo pt recentem...   \n",
       "\n",
       "                     paragrafos_tratados_sw_vetorizados  metaforico_pred  \n",
       "0     [[ 1.52341600e+00 -7.87311998e-01 -1.90507002e...                0  \n",
       "1     [[-3.08092985e-01  8.02221035e-01  1.68601102e...                0  \n",
       "2     [[ 3.43677802e+00  1.09151603e+00  3.13246397e...                0  \n",
       "3     [[ 2.26201983e-01  5.72138001e-01  1.13995994e...                0  \n",
       "4     [[ 1.61639995e-01  1.52443696e+00  7.48734023e...                0  \n",
       "...                                                 ...              ...  \n",
       "3313  [[ 1.27768403e+00 -5.16145026e-01  2.43840205e...                1  \n",
       "3314  [[ 1.50322202e+00  2.85787299e+00  3.16622208e...                0  \n",
       "3315  [[ 1.43166601e+00 -3.75220021e-01  1.10605499e...                1  \n",
       "3316  [[ 2.43236    -1.50618503  4.50067598 -2.61170...                1  \n",
       "3317  [[ 2.04011299e+00  3.06936021e-01  1.70109201e...                1  \n",
       "\n",
       "[3318 rows x 7 columns]"
      ]
     },
     "execution_count": 14,
     "metadata": {},
     "output_type": "execute_result"
    }
   ],
   "source": [
    "folha"
   ]
  },
  {
   "cell_type": "code",
   "execution_count": 15,
   "metadata": {},
   "outputs": [
    {
     "name": "stdout",
     "output_type": "stream",
     "text": [
      "(175, 7)\n"
     ]
    },
    {
     "data": {
      "text/html": [
       "<div>\n",
       "<style scoped>\n",
       "    .dataframe tbody tr th:only-of-type {\n",
       "        vertical-align: middle;\n",
       "    }\n",
       "\n",
       "    .dataframe tbody tr th {\n",
       "        vertical-align: top;\n",
       "    }\n",
       "\n",
       "    .dataframe thead th {\n",
       "        text-align: right;\n",
       "    }\n",
       "</style>\n",
       "<table border=\"1\" class=\"dataframe\">\n",
       "  <thead>\n",
       "    <tr style=\"text-align: right;\">\n",
       "      <th></th>\n",
       "      <th>Unnamed: 0</th>\n",
       "      <th>ano</th>\n",
       "      <th>link</th>\n",
       "      <th>paragrafos_resgatados</th>\n",
       "      <th>paragrafos_tratados_sw</th>\n",
       "      <th>paragrafos_tratados_sw_vetorizados</th>\n",
       "      <th>metaforico_pred</th>\n",
       "    </tr>\n",
       "  </thead>\n",
       "  <tbody>\n",
       "    <tr>\n",
       "      <th>133</th>\n",
       "      <td>133</td>\n",
       "      <td>2001</td>\n",
       "      <td>http://www1.folha.uol.com.br/fsp/opiniao/fz210...</td>\n",
       "      <td>['O pano de fundo era, evidentemente, a esquiz...</td>\n",
       "      <td>pano fundo evidentemente esquizofrenia alemanh...</td>\n",
       "      <td>[[-0.64273801  0.59776301  0.91133999  0.54527...</td>\n",
       "      <td>1</td>\n",
       "    </tr>\n",
       "    <tr>\n",
       "      <th>137</th>\n",
       "      <td>137</td>\n",
       "      <td>2001</td>\n",
       "      <td>http://www1.folha.uol.com.br/fsp/opiniao/fz011...</td>\n",
       "      <td>['Esta semana certamente vai impor aos brasile...</td>\n",
       "      <td>semana impor brasileiros noticiário esquizofrê...</td>\n",
       "      <td>[[ 3.65856902e+00 -1.15379974e-01  4.06036301e...</td>\n",
       "      <td>1</td>\n",
       "    </tr>\n",
       "    <tr>\n",
       "      <th>138</th>\n",
       "      <td>138</td>\n",
       "      <td>2001</td>\n",
       "      <td>http://www1.folha.uol.com.br/fsp/opiniao/fz011...</td>\n",
       "      <td>['Esta semana certamente vai impor aos brasile...</td>\n",
       "      <td>esquizofrenia caso fica conta situações inusit...</td>\n",
       "      <td>[[ 1.07493307e+00  1.96975901e+00  1.87077704e...</td>\n",
       "      <td>1</td>\n",
       "    </tr>\n",
       "    <tr>\n",
       "      <th>141</th>\n",
       "      <td>141</td>\n",
       "      <td>2001</td>\n",
       "      <td>http://www1.folha.uol.com.br/fsp/opiniao/fz301...</td>\n",
       "      <td>[', pág. A2) descontextualiza minhas opiniões ...</td>\n",
       "      <td>descontextualiza opiniões mercosul defendido m...</td>\n",
       "      <td>[[ 5.59070402e+00  6.42139397e-02  1.64989005e...</td>\n",
       "      <td>1</td>\n",
       "    </tr>\n",
       "    <tr>\n",
       "      <th>163</th>\n",
       "      <td>163</td>\n",
       "      <td>2001</td>\n",
       "      <td>http://www1.folha.uol.com.br/fsp/opiniao/fz121...</td>\n",
       "      <td>['Estima-se que 1 em cada 4 pessoas deve apres...</td>\n",
       "      <td>pessoas apresentar transtorno mental longo vid...</td>\n",
       "      <td>[[ 1.23243002e-01  2.07713400e+00  3.29981903e...</td>\n",
       "      <td>0</td>\n",
       "    </tr>\n",
       "  </tbody>\n",
       "</table>\n",
       "</div>"
      ],
      "text/plain": [
       "     Unnamed: 0   ano                                               link  \\\n",
       "133         133  2001  http://www1.folha.uol.com.br/fsp/opiniao/fz210...   \n",
       "137         137  2001  http://www1.folha.uol.com.br/fsp/opiniao/fz011...   \n",
       "138         138  2001  http://www1.folha.uol.com.br/fsp/opiniao/fz011...   \n",
       "141         141  2001  http://www1.folha.uol.com.br/fsp/opiniao/fz301...   \n",
       "163         163  2001  http://www1.folha.uol.com.br/fsp/opiniao/fz121...   \n",
       "\n",
       "                                 paragrafos_resgatados  \\\n",
       "133  ['O pano de fundo era, evidentemente, a esquiz...   \n",
       "137  ['Esta semana certamente vai impor aos brasile...   \n",
       "138  ['Esta semana certamente vai impor aos brasile...   \n",
       "141  [', pág. A2) descontextualiza minhas opiniões ...   \n",
       "163  ['Estima-se que 1 em cada 4 pessoas deve apres...   \n",
       "\n",
       "                                paragrafos_tratados_sw  \\\n",
       "133  pano fundo evidentemente esquizofrenia alemanh...   \n",
       "137  semana impor brasileiros noticiário esquizofrê...   \n",
       "138  esquizofrenia caso fica conta situações inusit...   \n",
       "141  descontextualiza opiniões mercosul defendido m...   \n",
       "163  pessoas apresentar transtorno mental longo vid...   \n",
       "\n",
       "                    paragrafos_tratados_sw_vetorizados  metaforico_pred  \n",
       "133  [[-0.64273801  0.59776301  0.91133999  0.54527...                1  \n",
       "137  [[ 3.65856902e+00 -1.15379974e-01  4.06036301e...                1  \n",
       "138  [[ 1.07493307e+00  1.96975901e+00  1.87077704e...                1  \n",
       "141  [[ 5.59070402e+00  6.42139397e-02  1.64989005e...                1  \n",
       "163  [[ 1.23243002e-01  2.07713400e+00  3.29981903e...                0  "
      ]
     },
     "execution_count": 15,
     "metadata": {},
     "output_type": "execute_result"
    }
   ],
   "source": [
    "print(folha[folha.link.str.contains(\"/opiniao/\")].shape)\n",
    "folha[folha.link.str.contains(\"/opiniao/\")].head()"
   ]
  },
  {
   "cell_type": "code",
   "execution_count": 16,
   "metadata": {},
   "outputs": [],
   "source": [
    "folha.loc[(folha.link.str.contains(\"paineldoleitor|painel-do-leitor\")), \"painel_do_leitor_original\"] = \"sim\"\n",
    "folha[\"painel_do_leitor_original\"].fillna(\"nao\", inplace = True)"
   ]
  },
  {
   "cell_type": "code",
   "execution_count": 17,
   "metadata": {},
   "outputs": [
    {
     "data": {
      "text/plain": [
       "nao    3281\n",
       "sim      37\n",
       "Name: painel_do_leitor_original, dtype: int64"
      ]
     },
     "execution_count": 17,
     "metadata": {},
     "output_type": "execute_result"
    }
   ],
   "source": [
    "folha.painel_do_leitor_original.value_counts()"
   ]
  },
  {
   "cell_type": "code",
   "execution_count": 18,
   "metadata": {},
   "outputs": [
    {
     "data": {
      "text/html": [
       "<div>\n",
       "<style scoped>\n",
       "    .dataframe tbody tr th:only-of-type {\n",
       "        vertical-align: middle;\n",
       "    }\n",
       "\n",
       "    .dataframe tbody tr th {\n",
       "        vertical-align: top;\n",
       "    }\n",
       "\n",
       "    .dataframe thead th {\n",
       "        text-align: right;\n",
       "    }\n",
       "</style>\n",
       "<table border=\"1\" class=\"dataframe\">\n",
       "  <thead>\n",
       "    <tr style=\"text-align: right;\">\n",
       "      <th></th>\n",
       "      <th>Unnamed: 0</th>\n",
       "      <th>ano</th>\n",
       "      <th>link</th>\n",
       "      <th>paragrafos_resgatados</th>\n",
       "      <th>paragrafos_tratados_sw</th>\n",
       "      <th>paragrafos_tratados_sw_vetorizados</th>\n",
       "      <th>metaforico_pred</th>\n",
       "      <th>painel_do_leitor_original</th>\n",
       "    </tr>\n",
       "  </thead>\n",
       "  <tbody>\n",
       "    <tr>\n",
       "      <th>133</th>\n",
       "      <td>133</td>\n",
       "      <td>2001</td>\n",
       "      <td>http://www1.folha.uol.com.br/fsp/opiniao/fz210...</td>\n",
       "      <td>['O pano de fundo era, evidentemente, a esquiz...</td>\n",
       "      <td>pano fundo evidentemente esquizofrenia alemanh...</td>\n",
       "      <td>[[-0.64273801  0.59776301  0.91133999  0.54527...</td>\n",
       "      <td>1</td>\n",
       "      <td>nao</td>\n",
       "    </tr>\n",
       "    <tr>\n",
       "      <th>137</th>\n",
       "      <td>137</td>\n",
       "      <td>2001</td>\n",
       "      <td>http://www1.folha.uol.com.br/fsp/opiniao/fz011...</td>\n",
       "      <td>['Esta semana certamente vai impor aos brasile...</td>\n",
       "      <td>semana impor brasileiros noticiário esquizofrê...</td>\n",
       "      <td>[[ 3.65856902e+00 -1.15379974e-01  4.06036301e...</td>\n",
       "      <td>1</td>\n",
       "      <td>nao</td>\n",
       "    </tr>\n",
       "    <tr>\n",
       "      <th>138</th>\n",
       "      <td>138</td>\n",
       "      <td>2001</td>\n",
       "      <td>http://www1.folha.uol.com.br/fsp/opiniao/fz011...</td>\n",
       "      <td>['Esta semana certamente vai impor aos brasile...</td>\n",
       "      <td>esquizofrenia caso fica conta situações inusit...</td>\n",
       "      <td>[[ 1.07493307e+00  1.96975901e+00  1.87077704e...</td>\n",
       "      <td>1</td>\n",
       "      <td>nao</td>\n",
       "    </tr>\n",
       "    <tr>\n",
       "      <th>141</th>\n",
       "      <td>141</td>\n",
       "      <td>2001</td>\n",
       "      <td>http://www1.folha.uol.com.br/fsp/opiniao/fz301...</td>\n",
       "      <td>[', pág. A2) descontextualiza minhas opiniões ...</td>\n",
       "      <td>descontextualiza opiniões mercosul defendido m...</td>\n",
       "      <td>[[ 5.59070402e+00  6.42139397e-02  1.64989005e...</td>\n",
       "      <td>1</td>\n",
       "      <td>nao</td>\n",
       "    </tr>\n",
       "    <tr>\n",
       "      <th>163</th>\n",
       "      <td>163</td>\n",
       "      <td>2001</td>\n",
       "      <td>http://www1.folha.uol.com.br/fsp/opiniao/fz121...</td>\n",
       "      <td>['Estima-se que 1 em cada 4 pessoas deve apres...</td>\n",
       "      <td>pessoas apresentar transtorno mental longo vid...</td>\n",
       "      <td>[[ 1.23243002e-01  2.07713400e+00  3.29981903e...</td>\n",
       "      <td>0</td>\n",
       "      <td>nao</td>\n",
       "    </tr>\n",
       "  </tbody>\n",
       "</table>\n",
       "</div>"
      ],
      "text/plain": [
       "     Unnamed: 0   ano                                               link  \\\n",
       "133         133  2001  http://www1.folha.uol.com.br/fsp/opiniao/fz210...   \n",
       "137         137  2001  http://www1.folha.uol.com.br/fsp/opiniao/fz011...   \n",
       "138         138  2001  http://www1.folha.uol.com.br/fsp/opiniao/fz011...   \n",
       "141         141  2001  http://www1.folha.uol.com.br/fsp/opiniao/fz301...   \n",
       "163         163  2001  http://www1.folha.uol.com.br/fsp/opiniao/fz121...   \n",
       "\n",
       "                                 paragrafos_resgatados  \\\n",
       "133  ['O pano de fundo era, evidentemente, a esquiz...   \n",
       "137  ['Esta semana certamente vai impor aos brasile...   \n",
       "138  ['Esta semana certamente vai impor aos brasile...   \n",
       "141  [', pág. A2) descontextualiza minhas opiniões ...   \n",
       "163  ['Estima-se que 1 em cada 4 pessoas deve apres...   \n",
       "\n",
       "                                paragrafos_tratados_sw  \\\n",
       "133  pano fundo evidentemente esquizofrenia alemanh...   \n",
       "137  semana impor brasileiros noticiário esquizofrê...   \n",
       "138  esquizofrenia caso fica conta situações inusit...   \n",
       "141  descontextualiza opiniões mercosul defendido m...   \n",
       "163  pessoas apresentar transtorno mental longo vid...   \n",
       "\n",
       "                    paragrafos_tratados_sw_vetorizados  metaforico_pred  \\\n",
       "133  [[-0.64273801  0.59776301  0.91133999  0.54527...                1   \n",
       "137  [[ 3.65856902e+00 -1.15379974e-01  4.06036301e...                1   \n",
       "138  [[ 1.07493307e+00  1.96975901e+00  1.87077704e...                1   \n",
       "141  [[ 5.59070402e+00  6.42139397e-02  1.64989005e...                1   \n",
       "163  [[ 1.23243002e-01  2.07713400e+00  3.29981903e...                0   \n",
       "\n",
       "    painel_do_leitor_original  \n",
       "133                       nao  \n",
       "137                       nao  \n",
       "138                       nao  \n",
       "141                       nao  \n",
       "163                       nao  "
      ]
     },
     "execution_count": 18,
     "metadata": {},
     "output_type": "execute_result"
    }
   ],
   "source": [
    "dt = folha[(folha.link.str.contains(\"/opiniao/\")) & (folha.painel_do_leitor_original == \"nao\")]\n",
    "dt.head()"
   ]
  },
  {
   "cell_type": "code",
   "execution_count": 19,
   "metadata": {},
   "outputs": [
    {
     "data": {
      "text/plain": [
       "'http://www1.folha.uol.com.br/fsp/opiniao/fz2109200109.htm'"
      ]
     },
     "execution_count": 19,
     "metadata": {},
     "output_type": "execute_result"
    }
   ],
   "source": [
    "dt.link.values[0]"
   ]
  },
  {
   "cell_type": "code",
   "execution_count": 20,
   "metadata": {},
   "outputs": [
    {
     "data": {
      "text/plain": [
       "(171, 8)"
      ]
     },
     "execution_count": 20,
     "metadata": {},
     "output_type": "execute_result"
    }
   ],
   "source": [
    "dt.shape"
   ]
  },
  {
   "cell_type": "code",
   "execution_count": 21,
   "metadata": {},
   "outputs": [],
   "source": [
    "def limpa_paragrafos(link, tamanho):\n",
    "    \n",
    "    headers = {\"User-Agent\": \"Mozilla/5.0 (Windows NT 10.0; Win64; x64) AppleWebKit/537.36 (KHTML, like Gecko) Chrome/91.0.4472.77 Safari/537.36\"}\n",
    "    try:\n",
    "        req = Request(link, headers = headers)\n",
    "        response = urlopen(req)\n",
    "       \n",
    "    except HTTPError as e: # erro de segurança do site, pode ser necessário usar user-Agent\n",
    "        print(e.status, e.reason)\n",
    "\n",
    "    except URLError as e:\n",
    "        print(e.reason)\n",
    "    \n",
    "    html = response.read()\n",
    "    soup = BeautifulSoup(html)\n",
    "\n",
    "    for script in soup([\"script\", \"style\"]):\n",
    "        script.decompose()\n",
    "\n",
    "    lista = []\n",
    "    for i in soup.stripped_strings:\n",
    "        lista.append(i)\n",
    "\n",
    "    # miolo = []\n",
    "    # for i in lista:\n",
    "    #     if len(i) > tamanho:\n",
    "    #         miolo.append(i.replace('\\r\\n',''))\n",
    "\n",
    "    texto = \" \".join(lista).replace(\"\\n\", \"\").replace(\"\\r\", \"\")\n",
    "    \n",
    "    return texto"
   ]
  },
  {
   "cell_type": "code",
   "execution_count": 22,
   "metadata": {},
   "outputs": [],
   "source": [
    "url = dt[dt.link.str.contains(\"fz1504200910\")].link.values[0]\n",
    "# url = \"https://www1.folha.uol.com.br/fsp/opiniao/fz1212200110.htm\""
   ]
  },
  {
   "cell_type": "code",
   "execution_count": 23,
   "metadata": {},
   "outputs": [],
   "source": [
    "texto = limpa_paragrafos(url, 70)"
   ]
  },
  {
   "cell_type": "code",
   "execution_count": 24,
   "metadata": {},
   "outputs": [
    {
     "data": {
      "text/plain": [
       "'Folha de S.Paulo - Painel do Leitor - 15/04/2009 São Paulo, quarta-feira, 15 de abril de 2009 Texto Anterior | Próximo Texto | Índice PAINEL DO LEITOR O \" Painel do Leitor \" recebe colaborações por e-mail (leitor@uol.com.br), fax (0/xx/11/3223-1644) e correio (al.Barão de Limeira, 425, 4º andar, São Paulo-SP, CEP 01202-900). As mensagens devem ser concisas e conter nome completo, endereço e telefone. A Folha se reserva o direito de publicar trechos. Leia mais cartas na Folha Online www.folha.com.br/paineldoleitor Hospitais psiquiátricos \"A sobriedade de Ferreira Gullar em sua coluna é rara nos jornais (\"Uma lei errada\", Ilustrada , 12/4). Os hospitais-dia e os Caps (Centros de Atenção Psicossocial) têm sua função e devem atender a pacientes psiquiátricos cuja patologia permita parte da jornada em suas próprias casas, contudo o fechamento indiscriminado de leitos psiquiátricos na rede pública impede a abordagem de pacientes nos quais a ação médica deve ser incisiva. A internação prolongada é prescindível com as medicações de que dispomos atualmente. A classe média merece refletir sobre a questão psiquiátrica sem vieses políticos e de classe.\" LUÍS FERNANDO DE ARAÚJO , psiquiatra (São Paulo, SP) \"Como pai, a dor expressada por Ferreira Gullar merece todo o respeito. Mas, como pessoa pública, ele faz exatamente aquilo que crítica em seu artigo: adere sem refletir e examinar detidamente o problema que apresenta. Sua opinião carece de fundamentos científico e empírico sobre as formas de atenção a pessoas com sofrimento mental e sobre as políticas públicas nessa área. O autor desconhece a história dos movimentos pela extinção dos manicômios e pela reforma psiquiátrica brasileira, que defendem a internação, quando necessária, em serviços preocupados com reabilitação (hospitais gerais, entre outros), ao contrário das instituições asilares, que cronificam sofrimentos e intensificam a segregação. Os problemas que vimos enfrentando, como ele menciona, e que tanto nos afligem são efeitos de um conjunto muito mais complexo de fatores do que de uma lei que nem sequer foi aprovada na íntegra.\" IANNI REGIA SCARCELLI , professora do Instituto de Psicologia da Universidade de São Paulo, membro da Associação Brasileira de Saúde Mental -Abrasme (São Paulo, SP) \"O artigo de Ferreira Gullar equivoca-se ao qualificar de \"errada\" a lei 10.216/01, marco da reforma psiquiátrica no Brasil. Ao contrário de equivocar-se, a lei acerta em cheio ao introduzir um novo olhar sobre a loucura. Um olhar humanizado, que concebe o sujeito portador de sofrimento mental não mais como mero objeto de tutela, mas como sujeito de direitos. É o conceito de cidadania introduzido à loucura. Diferentemente do que foi dito, a lei não acaba com as internações psiquiátricas, mas as regulamenta. Em vez de ser tida como a principal alternativa terapêutica, a internação psiquiátrica passa a ser o derradeiro recurso, usado quando outras terapias ambulatoriais se mostrarem ineficazes. Ao repudiar as instituições totais como o principal tratamento da loucura, a lei agrega à sociedade o portador de sofrimento mental, possibilitando o exercício das diferenças na vida social, justamente o que se espera de um Estado democrático de Direito.\" MARIA FERNANDA DOS SANTOS ELIAS MAGLIO , defensora pública (São Paulo, SP) \"Expresso aqui minha concordância em relação ao artigo de Ferreira Gullar. Sou pai de um jovem de 21 anos que vem de um surto psicótico, diagnosticado como esquizofrenia, e, por total incapacidade de controle e de ação, me vi obrigado a interná-lo. Não o fiz por recreação nem para me livrar do \"problema\". Não foi essa minha intensão. Queria tão-somente tratá-lo -e, por que não dizer?, me tratar, pois desconhecia até aquele momento o que era. Se a estrutura pública inexiste -bem o sei, ainda que tenha tido num primeiro momento o atendimento do Samu e do Pinel-, como disse Gullar, a ausência de serviços públicos dignos para atender uma população estimada em 800 mil pessoas merece ser considerada pelo poder público, e não ser objeto da ganância e da especulação de \"clínicas para tratamento de louco\".\" LUIZ ANTÔNIO DE SOUZA (Rio de Janeiro, RJ) \"Perfeito o texto de Gullar. Mostra conhecimento de causa. Já o admirava como poeta e admiro-o por sua lucidez. Sou psiquiatra de hospital público e, de dentro do \"problema\", me senti representada por ele. Vivemos um tempo em que o \"sucesso\" do tratamento é auferido pela brevidade da permanência do paciente no hospital, e não pela eficácia duradoura dos resultados.\" MARGARETH RAHMÉ , psiquiatra (São Paulo, SP) Doações \"Em relação ao texto \"Setor imobiliário de SP dribla a lei para ocultar doadores\" (Brasil, ontem), o Secovi-SP esclarece que atua desde 1946 como representante do setor imobiliário, na defesa dos interesses da sociedade e das famílias brasileiras que merecem um teto digno, sempre pautado na legalidade e na formalidade de seus atos, cumprindo rigorosamente a lei que veta doações eleitorais por sindicatos.\" JOÃO CRESTANA , presidente (São Paulo, SP) Justiça \"Na coluna \"Tendências/Debates\" de ontem, o desembargador Henrique Nelson Calandra gasta tinta e papel para uma análise do nosso Judiciário. A realidade é que a \"justiça\", como demais segmentos de nossa administração pública, está entregue ao corporativismo e ao empreguismo. Ou seja, quanto mais confuso e lento, melhor, pois somente assim a coisa \"funciona\" para os interesses dos apaziguados que mamam nas tetas dessa vaca profana. O resultado e a verdade estão aí: uma nação dilacerada pela violência, a afrontosa concentração econômica e o ensino na lama.\" FERNANDO DINI NETO (Sorocaba, SP) Educação \"O PSDB está governando o Estado de São Paulo há quase 15 anos e o senhor Paulo Renato, ao assumir a Secretaria da Educação, tem a cara-de-pau de dizer que \"os resultados estão melhorando. O problema é que muitas vezes se esperam grandes mudanças em pouco tempo\" (\"Nenhuma escola de ensino médio atinge meta em SP\", Cotidiano, ontem). Quanto tempo mais teremos que aguardar por uma efetiva melhoria do ensino? A eternidade?\" WALDIR ARNALDO MARTINS (São Bernardo do Campo, SP) Travestis \"Arrisco-me a discordar do doutor Drauzio Varella (\"Homens que são mulheres\", Ilustrada , 11/4), sabendo que logo serei chamado de preconceituoso. As propostas do doutor são totalmente fora da realidade da saúde pública brasileira. Será que é possível disponibilizar endocrinologistas e postos médicos especiais para atender travestis que resolveram, só para ficarem mais \"parecidos\" com mulher, se entupir de hormônios e se encherem de silicone industrial? A resposta é \"não\", pois, se o governo não consegue dar atendimento digno a homens, mulheres, crianças e idosos que procuram hospitais públicos para tratar de doenças que vão de dengue a câncer, como poderia desviar recursos para atender travestis? Isso não é ser preconceituoso, é ser realista.\" JOSUÉ LUIZ HENTZ (São João da Boa Vista, SP) Leia mais cartas na Folha Online www.folha.com.br/paineldoleitor Serviço de Atendimento ao Assinante: 0800-775-8080Grande São Paulo: 0/xx/11 3224-3090 www.cliquefolha.com.br Ombudsman: 0800-15-9000 ombudsman@uol.com.br www.folha.com.br/ombudsman Texto Anterior: José Carlos Dias: A morte do Espanhol Próximo Texto: Erramos Índice Copyright Empresa Folha da Manhã S/A. Todos os direitos reservados. É proibida a reprodução do conteúdo desta página em qualquer meio de comunicação, eletrônico ou impresso, sem autorização escrita da Folhapress .'"
      ]
     },
     "execution_count": 24,
     "metadata": {},
     "output_type": "execute_result"
    }
   ],
   "source": [
    "texto"
   ]
  },
  {
   "cell_type": "code",
   "execution_count": 25,
   "metadata": {},
   "outputs": [
    {
     "name": "stdout",
     "output_type": "stream",
     "text": [
      "Processei =  0  de  171\n",
      "Processei =  1  de  171\n"
     ]
    },
    {
     "name": "stderr",
     "output_type": "stream",
     "text": [
      "c:\\Users\\r-omd\\.conda\\envs\\tf-venv\\lib\\site-packages\\pandas\\core\\indexing.py:1684: SettingWithCopyWarning: \n",
      "A value is trying to be set on a copy of a slice from a DataFrame.\n",
      "Try using .loc[row_indexer,col_indexer] = value instead\n",
      "\n",
      "See the caveats in the documentation: https://pandas.pydata.org/pandas-docs/stable/user_guide/indexing.html#returning-a-view-versus-a-copy\n",
      "  self.obj[key] = infer_fill_value(value)\n",
      "c:\\Users\\r-omd\\.conda\\envs\\tf-venv\\lib\\site-packages\\pandas\\core\\indexing.py:1817: SettingWithCopyWarning: \n",
      "A value is trying to be set on a copy of a slice from a DataFrame.\n",
      "Try using .loc[row_indexer,col_indexer] = value instead\n",
      "\n",
      "See the caveats in the documentation: https://pandas.pydata.org/pandas-docs/stable/user_guide/indexing.html#returning-a-view-versus-a-copy\n",
      "  self._setitem_single_column(loc, value, pi)\n"
     ]
    },
    {
     "name": "stdout",
     "output_type": "stream",
     "text": [
      "Processei =  3  de  171\n",
      "Processei =  4  de  171\n",
      "Processei =  5  de  171\n",
      "Processei =  6  de  171\n",
      "Processei =  8  de  171\n",
      "Processei =  9  de  171\n",
      "Processei =  10  de  171\n",
      "Processei =  11  de  171\n",
      "Processei =  12  de  171\n",
      "Processei =  13  de  171\n",
      "Processei =  14  de  171\n",
      "Processei =  15  de  171\n",
      "Processei =  16  de  171\n",
      "Processei =  17  de  171\n",
      "Processei =  18  de  171\n",
      "Processei =  19  de  171\n",
      "Processei =  21  de  171\n",
      "Processei =  22  de  171\n",
      "Processei =  24  de  171\n",
      "Processei =  25  de  171\n",
      "Processei =  26  de  171\n",
      "Processei =  27  de  171\n",
      "Processei =  32  de  171\n",
      "Processei =  33  de  171\n",
      "Processei =  34  de  171\n",
      "Processei =  35  de  171\n",
      "Processei =  36  de  171\n",
      "Processei =  37  de  171\n",
      "Processei =  38  de  171\n",
      "Processei =  39  de  171\n",
      "Processei =  40  de  171\n",
      "Processei =  41  de  171\n",
      "Processei =  42  de  171\n",
      "Processei =  43  de  171\n",
      "Processei =  44  de  171\n",
      "Processei =  45  de  171\n",
      "Processei =  46  de  171\n",
      "Processei =  47  de  171\n",
      "Processei =  49  de  171\n",
      "Processei =  50  de  171\n",
      "Processei =  51  de  171\n",
      "Processei =  52  de  171\n",
      "Processei =  53  de  171\n",
      "Processei =  54  de  171\n",
      "Processei =  56  de  171\n",
      "Processei =  57  de  171\n",
      "Processei =  58  de  171\n",
      "Processei =  59  de  171\n",
      "Processei =  61  de  171\n",
      "Processei =  62  de  171\n",
      "Processei =  63  de  171\n",
      "Processei =  65  de  171\n",
      "Processei =  66  de  171\n",
      "Processei =  67  de  171\n",
      "Processei =  68  de  171\n",
      "Processei =  69  de  171\n",
      "Processei =  70  de  171\n",
      "Processei =  72  de  171\n",
      "Processei =  73  de  171\n",
      "Processei =  74  de  171\n",
      "Processei =  75  de  171\n",
      "Processei =  76  de  171\n",
      "Processei =  77  de  171\n",
      "Processei =  78  de  171\n",
      "Processei =  85  de  171\n",
      "Processei =  88  de  171\n",
      "Processei =  89  de  171\n",
      "Processei =  90  de  171\n",
      "Processei =  91  de  171\n",
      "Processei =  92  de  171\n",
      "Processei =  93  de  171\n",
      "Processei =  94  de  171\n",
      "Processei =  95  de  171\n",
      "Processei =  96  de  171\n",
      "Processei =  97  de  171\n",
      "Processei =  103  de  171\n",
      "Processei =  104  de  171\n",
      "Processei =  105  de  171\n",
      "Processei =  106  de  171\n",
      "Processei =  107  de  171\n",
      "Processei =  110  de  171\n",
      "Processei =  112  de  171\n",
      "Processei =  113  de  171\n",
      "Processei =  114  de  171\n",
      "Processei =  115  de  171\n",
      "Processei =  116  de  171\n",
      "Processei =  117  de  171\n",
      "Processei =  118  de  171\n",
      "Processei =  119  de  171\n",
      "Processei =  120  de  171\n",
      "Processei =  121  de  171\n",
      "Processei =  122  de  171\n",
      "Processei =  123  de  171\n",
      "Processei =  124  de  171\n",
      "Processei =  125  de  171\n",
      "Processei =  126  de  171\n",
      "Processei =  127  de  171\n",
      "Processei =  128  de  171\n",
      "Processei =  129  de  171\n",
      "Processei =  130  de  171\n",
      "Processei =  131  de  171\n",
      "Processei =  132  de  171\n",
      "Processei =  133  de  171\n",
      "Processei =  134  de  171\n",
      "Processei =  135  de  171\n",
      "Processei =  136  de  171\n",
      "Processei =  137  de  171\n",
      "Processei =  138  de  171\n",
      "Processei =  139  de  171\n",
      "Processei =  140  de  171\n",
      "Processei =  141  de  171\n",
      "Processei =  142  de  171\n",
      "Processei =  143  de  171\n",
      "Processei =  144  de  171\n",
      "Processei =  145  de  171\n",
      "Processei =  146  de  171\n",
      "Processei =  147  de  171\n",
      "Processei =  148  de  171\n",
      "Processei =  149  de  171\n",
      "Processei =  150  de  171\n",
      "Processei =  151  de  171\n",
      "Processei =  152  de  171\n",
      "Processei =  153  de  171\n",
      "Processei =  154  de  171\n",
      "Processei =  155  de  171\n",
      "Processei =  156  de  171\n",
      "Processei =  157  de  171\n",
      "Processei =  158  de  171\n",
      "Processei =  159  de  171\n",
      "Processei =  160  de  171\n",
      "Processei =  161  de  171\n",
      "Processei =  162  de  171\n",
      "Processei =  163  de  171\n",
      "Processei =  164  de  171\n",
      "Processei =  165  de  171\n",
      "Processei =  166  de  171\n",
      "Processei =  167  de  171\n",
      "Processei =  168  de  171\n",
      "Processei =  169  de  171\n",
      "Processei =  170  de  171\n"
     ]
    }
   ],
   "source": [
    "lista_links = dt.link.values.tolist()\n",
    "tamanho = len(lista_links)\n",
    "\n",
    "for url in dt.link.unique():\n",
    "    texto = limpa_paragrafos(url, 70)\n",
    "\n",
    "    if (\"PAINEL DO LEITOR\" in texto):\n",
    "        dt.loc[(dt.link == url), \"opiniao_painel_do_leitor\"] = \"sim\"\n",
    "    \n",
    "    n = random.randint(0, 5)\n",
    "\n",
    "    sleep(n)\n",
    "\n",
    "    indice = lista_links.index(url)\n",
    "    print(\"Processei = \", indice, \" de \", tamanho)"
   ]
  },
  {
   "cell_type": "code",
   "execution_count": 26,
   "metadata": {},
   "outputs": [
    {
     "data": {
      "text/html": [
       "<div>\n",
       "<style scoped>\n",
       "    .dataframe tbody tr th:only-of-type {\n",
       "        vertical-align: middle;\n",
       "    }\n",
       "\n",
       "    .dataframe tbody tr th {\n",
       "        vertical-align: top;\n",
       "    }\n",
       "\n",
       "    .dataframe thead th {\n",
       "        text-align: right;\n",
       "    }\n",
       "</style>\n",
       "<table border=\"1\" class=\"dataframe\">\n",
       "  <thead>\n",
       "    <tr style=\"text-align: right;\">\n",
       "      <th></th>\n",
       "      <th>Unnamed: 0</th>\n",
       "      <th>ano</th>\n",
       "      <th>link</th>\n",
       "      <th>paragrafos_resgatados</th>\n",
       "      <th>paragrafos_tratados_sw</th>\n",
       "      <th>paragrafos_tratados_sw_vetorizados</th>\n",
       "      <th>metaforico_pred</th>\n",
       "      <th>painel_do_leitor_original</th>\n",
       "      <th>opiniao_painel_do_leitor</th>\n",
       "    </tr>\n",
       "  </thead>\n",
       "  <tbody>\n",
       "    <tr>\n",
       "      <th>133</th>\n",
       "      <td>133</td>\n",
       "      <td>2001</td>\n",
       "      <td>http://www1.folha.uol.com.br/fsp/opiniao/fz210...</td>\n",
       "      <td>['O pano de fundo era, evidentemente, a esquiz...</td>\n",
       "      <td>pano fundo evidentemente esquizofrenia alemanh...</td>\n",
       "      <td>[[-0.64273801  0.59776301  0.91133999  0.54527...</td>\n",
       "      <td>1</td>\n",
       "      <td>nao</td>\n",
       "      <td>NaN</td>\n",
       "    </tr>\n",
       "    <tr>\n",
       "      <th>137</th>\n",
       "      <td>137</td>\n",
       "      <td>2001</td>\n",
       "      <td>http://www1.folha.uol.com.br/fsp/opiniao/fz011...</td>\n",
       "      <td>['Esta semana certamente vai impor aos brasile...</td>\n",
       "      <td>semana impor brasileiros noticiário esquizofrê...</td>\n",
       "      <td>[[ 3.65856902e+00 -1.15379974e-01  4.06036301e...</td>\n",
       "      <td>1</td>\n",
       "      <td>nao</td>\n",
       "      <td>NaN</td>\n",
       "    </tr>\n",
       "    <tr>\n",
       "      <th>138</th>\n",
       "      <td>138</td>\n",
       "      <td>2001</td>\n",
       "      <td>http://www1.folha.uol.com.br/fsp/opiniao/fz011...</td>\n",
       "      <td>['Esta semana certamente vai impor aos brasile...</td>\n",
       "      <td>esquizofrenia caso fica conta situações inusit...</td>\n",
       "      <td>[[ 1.07493307e+00  1.96975901e+00  1.87077704e...</td>\n",
       "      <td>1</td>\n",
       "      <td>nao</td>\n",
       "      <td>NaN</td>\n",
       "    </tr>\n",
       "    <tr>\n",
       "      <th>141</th>\n",
       "      <td>141</td>\n",
       "      <td>2001</td>\n",
       "      <td>http://www1.folha.uol.com.br/fsp/opiniao/fz301...</td>\n",
       "      <td>[', pág. A2) descontextualiza minhas opiniões ...</td>\n",
       "      <td>descontextualiza opiniões mercosul defendido m...</td>\n",
       "      <td>[[ 5.59070402e+00  6.42139397e-02  1.64989005e...</td>\n",
       "      <td>1</td>\n",
       "      <td>nao</td>\n",
       "      <td>sim</td>\n",
       "    </tr>\n",
       "    <tr>\n",
       "      <th>163</th>\n",
       "      <td>163</td>\n",
       "      <td>2001</td>\n",
       "      <td>http://www1.folha.uol.com.br/fsp/opiniao/fz121...</td>\n",
       "      <td>['Estima-se que 1 em cada 4 pessoas deve apres...</td>\n",
       "      <td>pessoas apresentar transtorno mental longo vid...</td>\n",
       "      <td>[[ 1.23243002e-01  2.07713400e+00  3.29981903e...</td>\n",
       "      <td>0</td>\n",
       "      <td>nao</td>\n",
       "      <td>NaN</td>\n",
       "    </tr>\n",
       "  </tbody>\n",
       "</table>\n",
       "</div>"
      ],
      "text/plain": [
       "     Unnamed: 0   ano                                               link  \\\n",
       "133         133  2001  http://www1.folha.uol.com.br/fsp/opiniao/fz210...   \n",
       "137         137  2001  http://www1.folha.uol.com.br/fsp/opiniao/fz011...   \n",
       "138         138  2001  http://www1.folha.uol.com.br/fsp/opiniao/fz011...   \n",
       "141         141  2001  http://www1.folha.uol.com.br/fsp/opiniao/fz301...   \n",
       "163         163  2001  http://www1.folha.uol.com.br/fsp/opiniao/fz121...   \n",
       "\n",
       "                                 paragrafos_resgatados  \\\n",
       "133  ['O pano de fundo era, evidentemente, a esquiz...   \n",
       "137  ['Esta semana certamente vai impor aos brasile...   \n",
       "138  ['Esta semana certamente vai impor aos brasile...   \n",
       "141  [', pág. A2) descontextualiza minhas opiniões ...   \n",
       "163  ['Estima-se que 1 em cada 4 pessoas deve apres...   \n",
       "\n",
       "                                paragrafos_tratados_sw  \\\n",
       "133  pano fundo evidentemente esquizofrenia alemanh...   \n",
       "137  semana impor brasileiros noticiário esquizofrê...   \n",
       "138  esquizofrenia caso fica conta situações inusit...   \n",
       "141  descontextualiza opiniões mercosul defendido m...   \n",
       "163  pessoas apresentar transtorno mental longo vid...   \n",
       "\n",
       "                    paragrafos_tratados_sw_vetorizados  metaforico_pred  \\\n",
       "133  [[-0.64273801  0.59776301  0.91133999  0.54527...                1   \n",
       "137  [[ 3.65856902e+00 -1.15379974e-01  4.06036301e...                1   \n",
       "138  [[ 1.07493307e+00  1.96975901e+00  1.87077704e...                1   \n",
       "141  [[ 5.59070402e+00  6.42139397e-02  1.64989005e...                1   \n",
       "163  [[ 1.23243002e-01  2.07713400e+00  3.29981903e...                0   \n",
       "\n",
       "    painel_do_leitor_original opiniao_painel_do_leitor  \n",
       "133                       nao                      NaN  \n",
       "137                       nao                      NaN  \n",
       "138                       nao                      NaN  \n",
       "141                       nao                      sim  \n",
       "163                       nao                      NaN  "
      ]
     },
     "execution_count": 26,
     "metadata": {},
     "output_type": "execute_result"
    }
   ],
   "source": [
    "dt.head()"
   ]
  },
  {
   "cell_type": "code",
   "execution_count": 27,
   "metadata": {},
   "outputs": [
    {
     "data": {
      "text/plain": [
       "'http://www1.folha.uol.com.br/fsp/opiniao/fz0110200110.htm'"
      ]
     },
     "execution_count": 27,
     "metadata": {},
     "output_type": "execute_result"
    }
   ],
   "source": [
    "dt.iloc[2,:].link"
   ]
  },
  {
   "cell_type": "code",
   "execution_count": 28,
   "metadata": {},
   "outputs": [
    {
     "name": "stderr",
     "output_type": "stream",
     "text": [
      "c:\\Users\\r-omd\\.conda\\envs\\tf-venv\\lib\\site-packages\\pandas\\core\\generic.py:6392: SettingWithCopyWarning: \n",
      "A value is trying to be set on a copy of a slice from a DataFrame\n",
      "\n",
      "See the caveats in the documentation: https://pandas.pydata.org/pandas-docs/stable/user_guide/indexing.html#returning-a-view-versus-a-copy\n",
      "  return self._update_inplace(result)\n"
     ]
    }
   ],
   "source": [
    "dt.opiniao_painel_do_leitor.fillna(\"nao\", inplace = True)"
   ]
  },
  {
   "cell_type": "code",
   "execution_count": 29,
   "metadata": {},
   "outputs": [
    {
     "data": {
      "text/html": [
       "<div>\n",
       "<style scoped>\n",
       "    .dataframe tbody tr th:only-of-type {\n",
       "        vertical-align: middle;\n",
       "    }\n",
       "\n",
       "    .dataframe tbody tr th {\n",
       "        vertical-align: top;\n",
       "    }\n",
       "\n",
       "    .dataframe thead th {\n",
       "        text-align: right;\n",
       "    }\n",
       "</style>\n",
       "<table border=\"1\" class=\"dataframe\">\n",
       "  <thead>\n",
       "    <tr style=\"text-align: right;\">\n",
       "      <th></th>\n",
       "      <th>Unnamed: 0</th>\n",
       "      <th>ano</th>\n",
       "      <th>link</th>\n",
       "      <th>paragrafos_resgatados</th>\n",
       "      <th>paragrafos_tratados_sw</th>\n",
       "      <th>paragrafos_tratados_sw_vetorizados</th>\n",
       "      <th>metaforico_pred</th>\n",
       "      <th>painel_do_leitor_original</th>\n",
       "      <th>opiniao_painel_do_leitor</th>\n",
       "    </tr>\n",
       "  </thead>\n",
       "  <tbody>\n",
       "    <tr>\n",
       "      <th>133</th>\n",
       "      <td>133</td>\n",
       "      <td>2001</td>\n",
       "      <td>http://www1.folha.uol.com.br/fsp/opiniao/fz210...</td>\n",
       "      <td>['O pano de fundo era, evidentemente, a esquiz...</td>\n",
       "      <td>pano fundo evidentemente esquizofrenia alemanh...</td>\n",
       "      <td>[[-0.64273801  0.59776301  0.91133999  0.54527...</td>\n",
       "      <td>1</td>\n",
       "      <td>nao</td>\n",
       "      <td>nao</td>\n",
       "    </tr>\n",
       "    <tr>\n",
       "      <th>137</th>\n",
       "      <td>137</td>\n",
       "      <td>2001</td>\n",
       "      <td>http://www1.folha.uol.com.br/fsp/opiniao/fz011...</td>\n",
       "      <td>['Esta semana certamente vai impor aos brasile...</td>\n",
       "      <td>semana impor brasileiros noticiário esquizofrê...</td>\n",
       "      <td>[[ 3.65856902e+00 -1.15379974e-01  4.06036301e...</td>\n",
       "      <td>1</td>\n",
       "      <td>nao</td>\n",
       "      <td>nao</td>\n",
       "    </tr>\n",
       "    <tr>\n",
       "      <th>138</th>\n",
       "      <td>138</td>\n",
       "      <td>2001</td>\n",
       "      <td>http://www1.folha.uol.com.br/fsp/opiniao/fz011...</td>\n",
       "      <td>['Esta semana certamente vai impor aos brasile...</td>\n",
       "      <td>esquizofrenia caso fica conta situações inusit...</td>\n",
       "      <td>[[ 1.07493307e+00  1.96975901e+00  1.87077704e...</td>\n",
       "      <td>1</td>\n",
       "      <td>nao</td>\n",
       "      <td>nao</td>\n",
       "    </tr>\n",
       "    <tr>\n",
       "      <th>141</th>\n",
       "      <td>141</td>\n",
       "      <td>2001</td>\n",
       "      <td>http://www1.folha.uol.com.br/fsp/opiniao/fz301...</td>\n",
       "      <td>[', pág. A2) descontextualiza minhas opiniões ...</td>\n",
       "      <td>descontextualiza opiniões mercosul defendido m...</td>\n",
       "      <td>[[ 5.59070402e+00  6.42139397e-02  1.64989005e...</td>\n",
       "      <td>1</td>\n",
       "      <td>nao</td>\n",
       "      <td>sim</td>\n",
       "    </tr>\n",
       "    <tr>\n",
       "      <th>163</th>\n",
       "      <td>163</td>\n",
       "      <td>2001</td>\n",
       "      <td>http://www1.folha.uol.com.br/fsp/opiniao/fz121...</td>\n",
       "      <td>['Estima-se que 1 em cada 4 pessoas deve apres...</td>\n",
       "      <td>pessoas apresentar transtorno mental longo vid...</td>\n",
       "      <td>[[ 1.23243002e-01  2.07713400e+00  3.29981903e...</td>\n",
       "      <td>0</td>\n",
       "      <td>nao</td>\n",
       "      <td>nao</td>\n",
       "    </tr>\n",
       "  </tbody>\n",
       "</table>\n",
       "</div>"
      ],
      "text/plain": [
       "     Unnamed: 0   ano                                               link  \\\n",
       "133         133  2001  http://www1.folha.uol.com.br/fsp/opiniao/fz210...   \n",
       "137         137  2001  http://www1.folha.uol.com.br/fsp/opiniao/fz011...   \n",
       "138         138  2001  http://www1.folha.uol.com.br/fsp/opiniao/fz011...   \n",
       "141         141  2001  http://www1.folha.uol.com.br/fsp/opiniao/fz301...   \n",
       "163         163  2001  http://www1.folha.uol.com.br/fsp/opiniao/fz121...   \n",
       "\n",
       "                                 paragrafos_resgatados  \\\n",
       "133  ['O pano de fundo era, evidentemente, a esquiz...   \n",
       "137  ['Esta semana certamente vai impor aos brasile...   \n",
       "138  ['Esta semana certamente vai impor aos brasile...   \n",
       "141  [', pág. A2) descontextualiza minhas opiniões ...   \n",
       "163  ['Estima-se que 1 em cada 4 pessoas deve apres...   \n",
       "\n",
       "                                paragrafos_tratados_sw  \\\n",
       "133  pano fundo evidentemente esquizofrenia alemanh...   \n",
       "137  semana impor brasileiros noticiário esquizofrê...   \n",
       "138  esquizofrenia caso fica conta situações inusit...   \n",
       "141  descontextualiza opiniões mercosul defendido m...   \n",
       "163  pessoas apresentar transtorno mental longo vid...   \n",
       "\n",
       "                    paragrafos_tratados_sw_vetorizados  metaforico_pred  \\\n",
       "133  [[-0.64273801  0.59776301  0.91133999  0.54527...                1   \n",
       "137  [[ 3.65856902e+00 -1.15379974e-01  4.06036301e...                1   \n",
       "138  [[ 1.07493307e+00  1.96975901e+00  1.87077704e...                1   \n",
       "141  [[ 5.59070402e+00  6.42139397e-02  1.64989005e...                1   \n",
       "163  [[ 1.23243002e-01  2.07713400e+00  3.29981903e...                0   \n",
       "\n",
       "    painel_do_leitor_original opiniao_painel_do_leitor  \n",
       "133                       nao                      nao  \n",
       "137                       nao                      nao  \n",
       "138                       nao                      nao  \n",
       "141                       nao                      sim  \n",
       "163                       nao                      nao  "
      ]
     },
     "execution_count": 29,
     "metadata": {},
     "output_type": "execute_result"
    }
   ],
   "source": [
    "dt.head()"
   ]
  },
  {
   "cell_type": "code",
   "execution_count": 31,
   "metadata": {},
   "outputs": [],
   "source": [
    "dt = dt.sort_values(\"ano\")"
   ]
  },
  {
   "cell_type": "code",
   "execution_count": 32,
   "metadata": {},
   "outputs": [
    {
     "data": {
      "text/plain": [
       "(3318, 8)"
      ]
     },
     "execution_count": 32,
     "metadata": {},
     "output_type": "execute_result"
    }
   ],
   "source": [
    "folha.shape"
   ]
  },
  {
   "cell_type": "code",
   "execution_count": 33,
   "metadata": {},
   "outputs": [
    {
     "data": {
      "text/plain": [
       "(3318, 9)"
      ]
     },
     "execution_count": 33,
     "metadata": {},
     "output_type": "execute_result"
    }
   ],
   "source": [
    "folha_painel = folha.merge(dt[[\"link\", \"opiniao_painel_do_leitor\"]], on = \"link\", how = \"left\").drop_duplicates()\n",
    "folha_painel.shape"
   ]
  },
  {
   "cell_type": "code",
   "execution_count": 34,
   "metadata": {},
   "outputs": [
    {
     "data": {
      "text/plain": [
       "nao    146\n",
       "sim     25\n",
       "Name: opiniao_painel_do_leitor, dtype: int64"
      ]
     },
     "execution_count": 34,
     "metadata": {},
     "output_type": "execute_result"
    }
   ],
   "source": [
    "folha_painel.opiniao_painel_do_leitor.value_counts()"
   ]
  },
  {
   "cell_type": "code",
   "execution_count": 35,
   "metadata": {},
   "outputs": [],
   "source": [
    "folha_painel.opiniao_painel_do_leitor.fillna(\"nao\", inplace = True)"
   ]
  },
  {
   "cell_type": "code",
   "execution_count": 36,
   "metadata": {},
   "outputs": [],
   "source": [
    "folha_painel.loc[(folha_painel.link.str.contains(\"/opiniao/\")) & (folha_painel.opiniao_painel_do_leitor == \"nao\"), \"opiniao\"] = \"sim\""
   ]
  },
  {
   "cell_type": "code",
   "execution_count": 37,
   "metadata": {},
   "outputs": [],
   "source": [
    "folha_painel.opiniao.fillna(\"nao\", inplace = True)"
   ]
  },
  {
   "cell_type": "code",
   "execution_count": 38,
   "metadata": {},
   "outputs": [],
   "source": [
    "folha_painel.loc[(folha_painel.painel_do_leitor_original == \"sim\") | (folha_painel.opiniao_painel_do_leitor == \"sim\"), \"painel_do_leitor\"] = \"sim\"\n",
    "folha_painel.painel_do_leitor.fillna(\"nao\", inplace = True)"
   ]
  },
  {
   "cell_type": "code",
   "execution_count": 39,
   "metadata": {},
   "outputs": [
    {
     "data": {
      "text/plain": [
       "nao    3256\n",
       "sim      62\n",
       "Name: painel_do_leitor, dtype: int64"
      ]
     },
     "execution_count": 39,
     "metadata": {},
     "output_type": "execute_result"
    }
   ],
   "source": [
    "folha_painel.painel_do_leitor.value_counts()"
   ]
  },
  {
   "cell_type": "code",
   "execution_count": 42,
   "metadata": {},
   "outputs": [
    {
     "data": {
      "text/plain": [
       "nao    3281\n",
       "sim      37\n",
       "Name: painel_do_leitor_original, dtype: int64"
      ]
     },
     "execution_count": 42,
     "metadata": {},
     "output_type": "execute_result"
    }
   ],
   "source": [
    "folha_painel.painel_do_leitor_original.value_counts()"
   ]
  },
  {
   "cell_type": "code",
   "execution_count": 43,
   "metadata": {},
   "outputs": [],
   "source": [
    "folha_painel.to_csv(\"bases/base_folha_app_analise.csv\", index = False)"
   ]
  },
  {
   "cell_type": "code",
   "execution_count": null,
   "metadata": {},
   "outputs": [],
   "source": []
  },
  {
   "cell_type": "code",
   "execution_count": 9,
   "metadata": {},
   "outputs": [
    {
     "data": {
      "text/plain": [
       "(175, 9)"
      ]
     },
     "execution_count": 9,
     "metadata": {},
     "output_type": "execute_result"
    }
   ],
   "source": [
    "correio = pd.read_csv(\"../../analises_de_resultados/base_aplicacao_resultado/rotulado_tratado_links_correio_do_povo_organizado_paragrafos_resgatados.csv\")\n",
    "correio.shape"
   ]
  },
  {
   "cell_type": "code",
   "execution_count": 11,
   "metadata": {},
   "outputs": [],
   "source": [
    "correio[\"metaforico\"] = correio[\"metaforico_pred\"].map({0:\"nao\", 1:\"sim\"})"
   ]
  },
  {
   "cell_type": "code",
   "execution_count": 14,
   "metadata": {},
   "outputs": [],
   "source": [
    "correio_final = correio[[\"ano\", \"links\", \"paragrafos_resgatados\", \"paragrafos_tratados_sw\", \"metaforico\"]]"
   ]
  },
  {
   "cell_type": "code",
   "execution_count": 15,
   "metadata": {},
   "outputs": [],
   "source": [
    "correio_final.to_excel(\"base_correio_completo.xlsx\", index = False)"
   ]
  },
  {
   "cell_type": "code",
   "execution_count": null,
   "metadata": {},
   "outputs": [],
   "source": []
  }
 ],
 "metadata": {
  "kernelspec": {
   "display_name": "tf-venv",
   "language": "python",
   "name": "python3"
  },
  "language_info": {
   "codemirror_mode": {
    "name": "ipython",
    "version": 3
   },
   "file_extension": ".py",
   "mimetype": "text/x-python",
   "name": "python",
   "nbconvert_exporter": "python",
   "pygments_lexer": "ipython3",
   "version": "3.7.13"
  },
  "orig_nbformat": 4,
  "vscode": {
   "interpreter": {
    "hash": "a620e751919bbf4798da0a31f572336cd659817a2a18c3ab87fc834e5f2384e8"
   }
  }
 },
 "nbformat": 4,
 "nbformat_minor": 2
}
